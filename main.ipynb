{
 "cells": [
  {
   "cell_type": "code",
   "execution_count": 1,
   "metadata": {},
   "outputs": [],
   "source": [
    "%load_ext autoreload\n",
    "%autoreload 2"
   ]
  },
  {
   "cell_type": "code",
   "execution_count": 2,
   "metadata": {},
   "outputs": [],
   "source": [
    "# Dataset imports:\n",
    "from data.moleDataset import *\n",
    "\n",
    "# Data augmenter imports:\n",
    "from data.data_augmentation import*\n",
    "\n",
    "# Torch imports:\n",
    "import torch\n",
    "import torch.nn as nn\n",
    "from torch import optim\n",
    "from torchvision import transforms\n",
    "from torch.utils.data import Subset, DataLoader, random_split\n",
    "\n",
    "# Model imports:\n",
    "from model import *\n",
    "\n",
    "# Train and evaluation imports:\n",
    "from train import train\n",
    "from evaluate import evaluate\n",
    "\n",
    "# Plotting imports:\n",
    "import matplotlib.pyplot as plt\n",
    "from matplotlib.pyplot import figure\n",
    "\n",
    "# General imports:\n",
    "import os\n",
    "import json\n",
    "import math"
   ]
  },
  {
   "cell_type": "code",
   "execution_count": 3,
   "metadata": {},
   "outputs": [],
   "source": [
    "os.environ['KMP_DUPLICATE_LIB_OK'] = 'True'"
   ]
  },
  {
   "cell_type": "markdown",
   "metadata": {},
   "source": [
    "### Defining the device"
   ]
  },
  {
   "cell_type": "code",
   "execution_count": 4,
   "metadata": {},
   "outputs": [
    {
     "name": "stdout",
     "output_type": "stream",
     "text": [
      "Using: NVIDIA GeForce GTX 1060 6GB\n",
      "Current device: cuda\n"
     ]
    }
   ],
   "source": [
    "device = 'cpu'\n",
    "if torch.cuda.is_available():\n",
    "    device = 'cuda'\n",
    "    print(f'Using: {torch.cuda.get_device_name(0)}')\n",
    "print(f'Current device: {device}')"
   ]
  },
  {
   "cell_type": "markdown",
   "metadata": {},
   "source": [
    "# Data preprocessing:"
   ]
  },
  {
   "cell_type": "markdown",
   "metadata": {},
   "source": [
    "### Getting the mean and standard deviation of the dataset in order to apply normalization on the data:"
   ]
  },
  {
   "cell_type": "code",
   "execution_count": 5,
   "metadata": {},
   "outputs": [
    {
     "name": "stdout",
     "output_type": "stream",
     "text": [
      "Dataset mean: \t\t\t[0.4944856143767711, 0.4950292797617727, 0.4954058302766022]\n",
      "Dataset standard deviation: \t[0.28984177278042145, 0.28989603043370027, 0.28941759149050483]\n"
     ]
    }
   ],
   "source": [
    "# Getting the path to the .txt file that contains the mean and std:\n",
    "DATA_STATS_FILE_NAME = \"dataset_stats.txt\"\n",
    "STATS_FILE_PATH = os.path.join(os.path.dirname(os.path.abspath('__file__')), 'data', DATA_STATS_FILE_NAME)\n",
    "\n",
    "# Reading the statistics file:\n",
    "stats_dict = None\n",
    "with open(STATS_FILE_PATH, 'r') as stats_file:\n",
    "    stats_dict = json.loads(stats_file.read())\n",
    "    \n",
    "mean, std = stats_dict['mean'], stats_dict['std']\n",
    "\n",
    "print(f'Dataset mean: \\t\\t\\t{mean}\\nDataset standard deviation: \\t{std}')"
   ]
  },
  {
   "cell_type": "markdown",
   "metadata": {},
   "source": [
    "### Creating the preprocessing operations that the images will undergo:"
   ]
  },
  {
   "cell_type": "code",
   "execution_count": 6,
   "metadata": {},
   "outputs": [],
   "source": [
    "# This Compose includes the following:\n",
    "#     1) Transforms the images to tensors.\n",
    "#     2) Normalized the dataset.\n",
    "#     3) Sharpens the images.\n",
    "image_preprocessing = transforms.Compose([\n",
    "                            transforms.ToTensor(),\n",
    "                            transforms.transforms.Normalize(mean, std),\n",
    "                            lambda image : transforms.functional.adjust_sharpness(image,\n",
    "                                                                                sharpness_factor=2)])\n",
    "\n",
    "image_preprocessing = transforms.Compose([\n",
    "                            transforms.ToTensor(),\n",
    "                            transforms.transforms.Normalize(mean, std)])\n",
    "\n",
    "# This transform is the same as the above one but it does not convert to Tensor\n",
    "# So the returned image from the dataset can be visualized easier.\n",
    "image_preprocessing_test = transforms.Compose([\n",
    "                            transforms.transforms.Normalize(mean, std),\n",
    "                            lambda image : transforms.functional.adjust_sharpness(image,\n",
    "                                                                                sharpness_factor=2)])"
   ]
  },
  {
   "cell_type": "markdown",
   "metadata": {},
   "source": [
    "# Defining the dataset:"
   ]
  },
  {
   "cell_type": "code",
   "execution_count": 37,
   "metadata": {},
   "outputs": [],
   "source": [
    "# Creating the dataset instance:\n",
    "test_dataset = MoleDataset(transform=image_preprocessing)"
   ]
  },
  {
   "cell_type": "markdown",
   "metadata": {},
   "source": [
    "### The dataset class distribution:"
   ]
  },
  {
   "cell_type": "code",
   "execution_count": 38,
   "metadata": {
    "scrolled": true
   },
   "outputs": [
    {
     "data": {
      "text/plain": [
       "{'akiec': 327,\n",
       " 'bcc': 514,\n",
       " 'bkl': 1099,\n",
       " 'df': 115,\n",
       " 'mel': 1113,\n",
       " 'nv': 6705,\n",
       " 'vasc': 142}"
      ]
     },
     "execution_count": 38,
     "metadata": {},
     "output_type": "execute_result"
    }
   ],
   "source": [
    "data_dist = test_dataset.get_data_distribution()\n",
    "data_dist"
   ]
  },
  {
   "cell_type": "markdown",
   "metadata": {},
   "source": [
    "### Plotting the data distribution:"
   ]
  },
  {
   "cell_type": "code",
   "execution_count": 39,
   "metadata": {},
   "outputs": [
    {
     "data": {
      "image/png": "[encoded data removed]",
      "text/plain": [
       "<Figure size 800x480 with 1 Axes>"
      ]
     },
     "metadata": {
      "needs_background": "light"
     },
     "output_type": "display_data"
    }
   ],
   "source": [
    "figure(figsize=(10, 6), dpi=80)\n",
    "plt.title('Data Distribution')\n",
    "\n",
    "y = list(data_dist.values())\n",
    "x = [f'{label} ({count})' for label, count in zip(data_dist.keys(), data_dist.values())]\n",
    "\n",
    "plt.xlabel(\"Class\")\n",
    "plt.ylabel(\"Frequency\")\n",
    "plt.bar(x, y, color='b')\n",
    "\n",
    "plt.show()"
   ]
  },
  {
   "cell_type": "markdown",
   "metadata": {},
   "source": [
    "# Overfitting Experiment:"
   ]
  },
  {
   "cell_type": "markdown",
   "metadata": {},
   "source": [
    "### Creating a subset for training:"
   ]
  },
  {
   "cell_type": "code",
   "execution_count": 40,
   "metadata": {
    "scrolled": true
   },
   "outputs": [],
   "source": [
    "SUBSET_SIZE = 100\n",
    "selected_class = 2\n",
    "sample_array_1 = test_dataset.get_class_indecies(selected_class)\n",
    "\n",
    "selected_class = 4\n",
    "sample_array_2 = test_dataset.get_class_indecies(selected_class)\n",
    "\n",
    "sample_array = sample_array_1 + sample_array_2\n",
    "\n",
    "subset_indicies = np.random.choice(sample_array, SUBSET_SIZE, replace=False)\n",
    "train_subset = Subset(test_dataset, subset_indicies)"
   ]
  },
  {
   "cell_type": "code",
   "execution_count": 41,
   "metadata": {},
   "outputs": [],
   "source": [
    "subset_loader = DataLoader(train_subset, shuffle=True, batch_size=32)"
   ]
  },
  {
   "cell_type": "markdown",
   "metadata": {},
   "source": [
    "### Creating the model:"
   ]
  },
  {
   "cell_type": "code",
   "execution_count": 44,
   "metadata": {},
   "outputs": [],
   "source": [
    "model_overfit = SkinCancerModel()"
   ]
  },
  {
   "cell_type": "markdown",
   "metadata": {},
   "source": [
    "### The hyperparameters, the loss function and the optimizer:"
   ]
  },
  {
   "cell_type": "code",
   "execution_count": 45,
   "metadata": {},
   "outputs": [],
   "source": [
    "learning_rate = 1e-3\n",
    "momentum = 0.9\n",
    "\n",
    "criterion = nn.CrossEntropyLoss()\n",
    "optimizer = optim.SGD(model_overfit.parameters(), lr=learning_rate, momentum=momentum)"
   ]
  },
  {
   "cell_type": "code",
   "execution_count": 46,
   "metadata": {},
   "outputs": [],
   "source": [
    "epochs = 60"
   ]
  },
  {
   "cell_type": "markdown",
   "metadata": {},
   "source": [
    "### Overfitting the model:"
   ]
  },
  {
   "cell_type": "code",
   "execution_count": 47,
   "metadata": {},
   "outputs": [
    {
     "name": "stderr",
     "output_type": "stream",
     "text": [
      "\r\n",
      "  0%|          | 0/60 [00:00<?, ?it/s]"
     ]
    },
    {
     "name": "stdout",
     "output_type": "stream",
     "text": [
      "Evaluating epoch...\n"
     ]
    },
    {
     "name": "stderr",
     "output_type": "stream",
     "text": [
      "\n",
      "  0%|          | 0/4 [00:00<?, ?it/s]\u001b[A\n",
      " 25%|██▌       | 1/4 [00:04<00:14,  4.91s/it]\u001b[A\n",
      " 50%|█████     | 2/4 [00:05<00:04,  2.08s/it]\u001b[A\n",
      "100%|██████████| 4/4 [00:05<00:00,  1.34s/it]\u001b[A\n",
      "\n",
      "  0%|          | 0/4 [00:00<?, ?it/s]\u001b[A\n",
      " 25%|██▌       | 1/4 [00:04<00:14,  4.87s/it]\u001b[A\n",
      "100%|██████████| 4/4 [00:05<00:00,  1.33s/it]\u001b[A\n",
      "  2%|▏         | 1/60 [00:16<16:11, 16.47s/it]"
     ]
    },
    {
     "name": "stdout",
     "output_type": "stream",
     "text": [
      "Epoch: 0 | Train_acc: 17.00% | Val_acc: 17.00% | Loss: 10.26 | Runtime: 16.47 seconds\n",
      "Evaluating epoch...\n"
     ]
    },
    {
     "name": "stderr",
     "output_type": "stream",
     "text": [
      "\n",
      "  0%|          | 0/4 [00:00<?, ?it/s]\u001b[A\n",
      " 25%|██▌       | 1/4 [00:04<00:14,  4.86s/it]\u001b[A\n",
      "100%|██████████| 4/4 [00:05<00:00,  1.32s/it]\u001b[A\n",
      "\n",
      "  0%|          | 0/4 [00:00<?, ?it/s]\u001b[A\n",
      " 25%|██▌       | 1/4 [00:04<00:14,  4.87s/it]\u001b[A\n",
      "100%|██████████| 4/4 [00:05<00:00,  1.33s/it]\u001b[A\n",
      "  3%|▎         | 2/60 [00:32<15:45, 16.31s/it]"
     ]
    },
    {
     "name": "stdout",
     "output_type": "stream",
     "text": [
      "Epoch: 1 | Train_acc: 12.00% | Val_acc: 12.00% | Loss: 8.09 | Runtime: 16.19 seconds\n",
      "Evaluating epoch...\n"
     ]
    },
    {
     "name": "stderr",
     "output_type": "stream",
     "text": [
      "\n",
      "  0%|          | 0/4 [00:00<?, ?it/s]\u001b[A\n",
      " 25%|██▌       | 1/4 [00:04<00:14,  4.88s/it]\u001b[A\n",
      "100%|██████████| 4/4 [00:05<00:00,  1.33s/it]\u001b[A\n",
      "\n",
      "  0%|          | 0/4 [00:00<?, ?it/s]\u001b[A\n",
      " 25%|██▌       | 1/4 [00:04<00:14,  4.88s/it]\u001b[A\n",
      "100%|██████████| 4/4 [00:05<00:00,  1.33s/it]\u001b[A\n",
      "  5%|▌         | 3/60 [00:48<15:27, 16.27s/it]"
     ]
    },
    {
     "name": "stdout",
     "output_type": "stream",
     "text": [
      "Epoch: 2 | Train_acc: 66.00% | Val_acc: 66.00% | Loss: 6.17 | Runtime: 16.22 seconds\n",
      "Evaluating epoch...\n"
     ]
    },
    {
     "name": "stderr",
     "output_type": "stream",
     "text": [
      "\n",
      "  0%|          | 0/4 [00:00<?, ?it/s]\u001b[A\n",
      " 25%|██▌       | 1/4 [00:05<00:15,  5.15s/it]\u001b[A\n",
      " 50%|█████     | 2/4 [00:05<00:04,  2.19s/it]\u001b[A\n",
      "100%|██████████| 4/4 [00:05<00:00,  1.40s/it]\u001b[A\n",
      "\n",
      "  0%|          | 0/4 [00:00<?, ?it/s]\u001b[A\n",
      " 25%|██▌       | 1/4 [00:05<00:15,  5.03s/it]\u001b[A\n",
      "100%|██████████| 4/4 [00:05<00:00,  1.37s/it]\u001b[A\n",
      "  7%|▋         | 4/60 [01:05<15:24, 16.51s/it]"
     ]
    },
    {
     "name": "stdout",
     "output_type": "stream",
     "text": [
      "Epoch: 3 | Train_acc: 66.00% | Val_acc: 66.00% | Loss: 4.73 | Runtime: 16.89 seconds\n",
      "Evaluating epoch...\n"
     ]
    },
    {
     "name": "stderr",
     "output_type": "stream",
     "text": [
      "\n",
      "  0%|          | 0/4 [00:00<?, ?it/s]\u001b[A\n",
      " 25%|██▌       | 1/4 [00:04<00:14,  4.85s/it]\u001b[A\n",
      "100%|██████████| 4/4 [00:05<00:00,  1.33s/it]\u001b[A\n",
      "\n",
      "  0%|          | 0/4 [00:00<?, ?it/s]\u001b[A\n",
      " 25%|██▌       | 1/4 [00:04<00:14,  4.85s/it]\u001b[A\n",
      "100%|██████████| 4/4 [00:05<00:00,  1.32s/it]\u001b[A\n",
      "  8%|▊         | 5/60 [01:21<15:01, 16.38s/it]"
     ]
    },
    {
     "name": "stdout",
     "output_type": "stream",
     "text": [
      "Epoch: 4 | Train_acc: 67.00% | Val_acc: 67.00% | Loss: 5.53 | Runtime: 16.16 seconds\n",
      "Evaluating epoch...\n"
     ]
    },
    {
     "name": "stderr",
     "output_type": "stream",
     "text": [
      "\n",
      "  0%|          | 0/4 [00:00<?, ?it/s]\u001b[A\n",
      " 25%|██▌       | 1/4 [00:04<00:14,  4.91s/it]\u001b[A\n",
      "100%|██████████| 4/4 [00:05<00:00,  1.34s/it]\u001b[A\n",
      "\n",
      "  0%|          | 0/4 [00:00<?, ?it/s]\u001b[A\n",
      " 25%|██▌       | 1/4 [00:04<00:14,  4.91s/it]\u001b[A\n",
      "100%|██████████| 4/4 [00:05<00:00,  1.34s/it]\u001b[A\n",
      " 10%|█         | 6/60 [01:38<14:42, 16.35s/it]"
     ]
    },
    {
     "name": "stdout",
     "output_type": "stream",
     "text": [
      "Epoch: 5 | Train_acc: 66.00% | Val_acc: 66.00% | Loss: 3.57 | Runtime: 16.27 seconds\n",
      "Evaluating epoch...\n"
     ]
    },
    {
     "name": "stderr",
     "output_type": "stream",
     "text": [
      "\n",
      "  0%|          | 0/4 [00:00<?, ?it/s]\u001b[A\n",
      " 25%|██▌       | 1/4 [00:05<00:15,  5.03s/it]\u001b[A\n",
      " 50%|█████     | 2/4 [00:05<00:04,  2.13s/it]\u001b[A\n",
      "100%|██████████| 4/4 [00:05<00:00,  1.37s/it]\u001b[A\n",
      "\n",
      "  0%|          | 0/4 [00:00<?, ?it/s]\u001b[A\n",
      " 25%|██▌       | 1/4 [00:04<00:14,  4.89s/it]\u001b[A\n",
      "100%|██████████| 4/4 [00:05<00:00,  1.34s/it]\u001b[A\n",
      " 12%|█▏        | 7/60 [01:54<14:28, 16.38s/it]"
     ]
    },
    {
     "name": "stdout",
     "output_type": "stream",
     "text": [
      "Epoch: 6 | Train_acc: 67.00% | Val_acc: 67.00% | Loss: 4.58 | Runtime: 16.46 seconds\n",
      "Evaluating epoch...\n"
     ]
    },
    {
     "name": "stderr",
     "output_type": "stream",
     "text": [
      "\n",
      "  0%|          | 0/4 [00:00<?, ?it/s]\u001b[A\n",
      " 25%|██▌       | 1/4 [00:04<00:14,  4.92s/it]\u001b[A\n",
      "100%|██████████| 4/4 [00:05<00:00,  1.34s/it]\u001b[A\n",
      "\n",
      "  0%|          | 0/4 [00:00<?, ?it/s]\u001b[A\n",
      " 25%|██▌       | 1/4 [00:04<00:14,  4.89s/it]\u001b[A\n",
      "100%|██████████| 4/4 [00:05<00:00,  1.33s/it]\u001b[A\n",
      " 13%|█▎        | 8/60 [02:10<14:09, 16.33s/it]"
     ]
    },
    {
     "name": "stdout",
     "output_type": "stream",
     "text": [
      "Epoch: 7 | Train_acc: 69.00% | Val_acc: 69.00% | Loss: 4.03 | Runtime: 16.22 seconds\n",
      "Evaluating epoch...\n"
     ]
    },
    {
     "name": "stderr",
     "output_type": "stream",
     "text": [
      "\n",
      "  0%|          | 0/4 [00:00<?, ?it/s]\u001b[A\n",
      " 25%|██▌       | 1/4 [00:04<00:14,  4.85s/it]\u001b[A\n",
      "100%|██████████| 4/4 [00:05<00:00,  1.33s/it]\u001b[A\n",
      "\n",
      "  0%|          | 0/4 [00:00<?, ?it/s]\u001b[A\n",
      " 25%|██▌       | 1/4 [00:04<00:14,  4.86s/it]\u001b[A\n",
      " 50%|█████     | 2/4 [00:04<00:04,  2.06s/it]\u001b[A\n",
      "100%|██████████| 4/4 [00:05<00:00,  1.32s/it]\u001b[A\n",
      " 15%|█▌        | 9/60 [02:27<13:50, 16.28s/it]"
     ]
    },
    {
     "name": "stdout",
     "output_type": "stream",
     "text": [
      "Epoch: 8 | Train_acc: 70.00% | Val_acc: 70.00% | Loss: 3.02 | Runtime: 16.16 seconds\n",
      "Evaluating epoch...\n"
     ]
    },
    {
     "name": "stderr",
     "output_type": "stream",
     "text": [
      "\n",
      "  0%|          | 0/4 [00:00<?, ?it/s]\u001b[A\n",
      " 25%|██▌       | 1/4 [00:04<00:14,  4.89s/it]\u001b[A\n",
      " 50%|█████     | 2/4 [00:04<00:04,  2.08s/it]\u001b[A\n",
      "100%|██████████| 4/4 [00:05<00:00,  1.34s/it]\u001b[A\n",
      "\n",
      "  0%|          | 0/4 [00:00<?, ?it/s]\u001b[A\n",
      " 25%|██▌       | 1/4 [00:04<00:14,  4.87s/it]\u001b[A\n",
      " 50%|█████     | 2/4 [00:04<00:04,  2.06s/it]\u001b[A\n",
      "100%|██████████| 4/4 [00:05<00:00,  1.33s/it]\u001b[A\n",
      " 17%|█▋        | 10/60 [02:43<13:33, 16.27s/it]"
     ]
    },
    {
     "name": "stdout",
     "output_type": "stream",
     "text": [
      "Epoch: 9 | Train_acc: 70.00% | Val_acc: 70.00% | Loss: 2.94 | Runtime: 16.25 seconds\n",
      "Evaluating epoch...\n"
     ]
    },
    {
     "name": "stderr",
     "output_type": "stream",
     "text": [
      "\n",
      "  0%|          | 0/4 [00:00<?, ?it/s]\u001b[A\n",
      " 25%|██▌       | 1/4 [00:04<00:14,  4.90s/it]\u001b[A\n",
      "100%|██████████| 4/4 [00:05<00:00,  1.33s/it]\u001b[A\n",
      "\n",
      "  0%|          | 0/4 [00:00<?, ?it/s]\u001b[A\n",
      " 25%|██▌       | 1/4 [00:04<00:14,  4.84s/it]\u001b[A\n",
      "100%|██████████| 4/4 [00:05<00:00,  1.32s/it]\u001b[A\n",
      " 18%|█▊        | 11/60 [02:59<13:15, 16.24s/it]"
     ]
    },
    {
     "name": "stdout",
     "output_type": "stream",
     "text": [
      "Epoch: 10 | Train_acc: 70.00% | Val_acc: 70.00% | Loss: 2.93 | Runtime: 16.17 seconds\n",
      "Evaluating epoch...\n"
     ]
    },
    {
     "name": "stderr",
     "output_type": "stream",
     "text": [
      "\n",
      "  0%|          | 0/4 [00:00<?, ?it/s]\u001b[A\n",
      " 25%|██▌       | 1/4 [00:04<00:14,  4.87s/it]\u001b[A\n",
      "100%|██████████| 4/4 [00:05<00:00,  1.33s/it]\u001b[A\n",
      "\n",
      "  0%|          | 0/4 [00:00<?, ?it/s]\u001b[A\n",
      " 25%|██▌       | 1/4 [00:04<00:14,  4.86s/it]\u001b[A\n",
      "100%|██████████| 4/4 [00:05<00:00,  1.32s/it]\u001b[A\n",
      " 20%|██        | 12/60 [03:15<12:58, 16.22s/it]"
     ]
    },
    {
     "name": "stdout",
     "output_type": "stream",
     "text": [
      "Epoch: 11 | Train_acc: 72.00% | Val_acc: 72.00% | Loss: 3.67 | Runtime: 16.17 seconds\n",
      "Evaluating epoch...\n"
     ]
    },
    {
     "name": "stderr",
     "output_type": "stream",
     "text": [
      "\n",
      "  0%|          | 0/4 [00:00<?, ?it/s]\u001b[A\n",
      " 25%|██▌       | 1/4 [00:05<00:15,  5.01s/it]\u001b[A\n",
      " 50%|█████     | 2/4 [00:05<00:04,  2.12s/it]\u001b[A\n",
      "100%|██████████| 4/4 [00:05<00:00,  1.37s/it]\u001b[A\n",
      "\n",
      "  0%|          | 0/4 [00:00<?, ?it/s]\u001b[A\n",
      " 25%|██▌       | 1/4 [00:04<00:14,  4.85s/it]\u001b[A\n",
      "100%|██████████| 4/4 [00:05<00:00,  1.32s/it]\u001b[A\n",
      " 22%|██▏       | 13/60 [03:31<12:43, 16.25s/it]"
     ]
    },
    {
     "name": "stdout",
     "output_type": "stream",
     "text": [
      "Epoch: 12 | Train_acc: 72.00% | Val_acc: 72.00% | Loss: 2.78 | Runtime: 16.34 seconds\n",
      "Evaluating epoch...\n"
     ]
    },
    {
     "name": "stderr",
     "output_type": "stream",
     "text": [
      "\n",
      "  0%|          | 0/4 [00:00<?, ?it/s]\u001b[A\n",
      " 25%|██▌       | 1/4 [00:04<00:14,  4.87s/it]\u001b[A\n",
      "100%|██████████| 4/4 [00:05<00:00,  1.33s/it]\u001b[A\n",
      "\n",
      "  0%|          | 0/4 [00:00<?, ?it/s]\u001b[A\n",
      " 25%|██▌       | 1/4 [00:04<00:14,  4.87s/it]\u001b[A\n",
      "100%|██████████| 4/4 [00:05<00:00,  1.32s/it]\u001b[A\n",
      " 23%|██▎       | 14/60 [03:48<12:27, 16.24s/it]"
     ]
    },
    {
     "name": "stdout",
     "output_type": "stream",
     "text": [
      "Epoch: 13 | Train_acc: 72.00% | Val_acc: 72.00% | Loss: 3.41 | Runtime: 16.21 seconds\n",
      "Evaluating epoch...\n"
     ]
    },
    {
     "name": "stderr",
     "output_type": "stream",
     "text": [
      "\n",
      "  0%|          | 0/4 [00:00<?, ?it/s]\u001b[A\n",
      " 25%|██▌       | 1/4 [00:04<00:14,  4.89s/it]\u001b[A\n",
      " 50%|█████     | 2/4 [00:04<00:04,  2.07s/it]\u001b[A\n",
      "100%|██████████| 4/4 [00:05<00:00,  1.33s/it]\u001b[A\n",
      "\n",
      "  0%|          | 0/4 [00:00<?, ?it/s]\u001b[A\n",
      " 25%|██▌       | 1/4 [00:04<00:14,  4.98s/it]\u001b[A\n",
      "100%|██████████| 4/4 [00:05<00:00,  1.35s/it]\u001b[A\n",
      " 25%|██▌       | 15/60 [04:04<12:12, 16.27s/it]"
     ]
    },
    {
     "name": "stdout",
     "output_type": "stream",
     "text": [
      "Epoch: 14 | Train_acc: 72.00% | Val_acc: 72.00% | Loss: 2.56 | Runtime: 16.35 seconds\n",
      "Evaluating epoch...\n"
     ]
    },
    {
     "name": "stderr",
     "output_type": "stream",
     "text": [
      "\n",
      "  0%|          | 0/4 [00:00<?, ?it/s]\u001b[A\n",
      " 25%|██▌       | 1/4 [00:04<00:14,  4.85s/it]\u001b[A\n",
      " 50%|█████     | 2/4 [00:04<00:04,  2.06s/it]\u001b[A\n",
      "100%|██████████| 4/4 [00:05<00:00,  1.32s/it]\u001b[A\n",
      "\n",
      "  0%|          | 0/4 [00:00<?, ?it/s]\u001b[A\n",
      " 25%|██▌       | 1/4 [00:04<00:14,  4.97s/it]\u001b[A\n",
      "100%|██████████| 4/4 [00:05<00:00,  1.36s/it]\u001b[A\n",
      " 27%|██▋       | 16/60 [04:20<11:56, 16.29s/it]"
     ]
    },
    {
     "name": "stdout",
     "output_type": "stream",
     "text": [
      "Epoch: 15 | Train_acc: 74.00% | Val_acc: 74.00% | Loss: 2.84 | Runtime: 16.33 seconds\n",
      "Evaluating epoch...\n"
     ]
    },
    {
     "name": "stderr",
     "output_type": "stream",
     "text": [
      "\n",
      "  0%|          | 0/4 [00:00<?, ?it/s]\u001b[A\n",
      " 25%|██▌       | 1/4 [00:04<00:14,  4.87s/it]\u001b[A\n",
      "100%|██████████| 4/4 [00:05<00:00,  1.33s/it]\u001b[A\n",
      "\n",
      "  0%|          | 0/4 [00:00<?, ?it/s]\u001b[A\n",
      " 25%|██▌       | 1/4 [00:04<00:14,  4.86s/it]\u001b[A\n",
      " 50%|█████     | 2/4 [00:04<00:04,  2.06s/it]\u001b[A\n",
      "100%|██████████| 4/4 [00:05<00:00,  1.32s/it]\u001b[A\n",
      " 28%|██▊       | 17/60 [04:37<11:39, 16.26s/it]"
     ]
    },
    {
     "name": "stdout",
     "output_type": "stream",
     "text": [
      "Epoch: 16 | Train_acc: 75.00% | Val_acc: 75.00% | Loss: 3.11 | Runtime: 16.18 seconds\n",
      "Evaluating epoch...\n"
     ]
    },
    {
     "name": "stderr",
     "output_type": "stream",
     "text": [
      "\n",
      "  0%|          | 0/4 [00:00<?, ?it/s]\u001b[A\n",
      " 25%|██▌       | 1/4 [00:04<00:14,  4.87s/it]\u001b[A\n",
      "100%|██████████| 4/4 [00:05<00:00,  1.33s/it]\u001b[A\n",
      "\n",
      "  0%|          | 0/4 [00:00<?, ?it/s]\u001b[A\n",
      " 25%|██▌       | 1/4 [00:04<00:14,  4.85s/it]\u001b[A\n",
      "100%|██████████| 4/4 [00:05<00:00,  1.32s/it]\u001b[A\n",
      " 30%|███       | 18/60 [04:53<11:21, 16.24s/it]"
     ]
    },
    {
     "name": "stdout",
     "output_type": "stream",
     "text": [
      "Epoch: 17 | Train_acc: 75.00% | Val_acc: 75.00% | Loss: 2.66 | Runtime: 16.18 seconds\n",
      "Evaluating epoch...\n"
     ]
    },
    {
     "name": "stderr",
     "output_type": "stream",
     "text": [
      "\n",
      "  0%|          | 0/4 [00:00<?, ?it/s]\u001b[A\n",
      " 25%|██▌       | 1/4 [00:05<00:15,  5.03s/it]\u001b[A\n",
      " 50%|█████     | 2/4 [00:05<00:04,  2.13s/it]\u001b[A\n",
      "100%|██████████| 4/4 [00:05<00:00,  1.37s/it]\u001b[A\n",
      "\n",
      "  0%|          | 0/4 [00:00<?, ?it/s]\u001b[A\n",
      " 25%|██▌       | 1/4 [00:04<00:14,  4.84s/it]\u001b[A\n",
      "100%|██████████| 4/4 [00:05<00:00,  1.32s/it]\u001b[A\n",
      " 32%|███▏      | 19/60 [05:09<11:07, 16.28s/it]"
     ]
    },
    {
     "name": "stdout",
     "output_type": "stream",
     "text": [
      "Epoch: 18 | Train_acc: 77.00% | Val_acc: 77.00% | Loss: 2.42 | Runtime: 16.38 seconds\n",
      "Evaluating epoch...\n"
     ]
    },
    {
     "name": "stderr",
     "output_type": "stream",
     "text": [
      "\n",
      "  0%|          | 0/4 [00:00<?, ?it/s]\u001b[A\n",
      " 25%|██▌       | 1/4 [00:04<00:14,  4.87s/it]\u001b[A\n",
      "100%|██████████| 4/4 [00:05<00:00,  1.33s/it]\u001b[A\n",
      "\n",
      "  0%|          | 0/4 [00:00<?, ?it/s]\u001b[A\n",
      " 25%|██▌       | 1/4 [00:04<00:14,  4.89s/it]\u001b[A\n",
      "100%|██████████| 4/4 [00:05<00:00,  1.34s/it]\u001b[A\n",
      " 33%|███▎      | 20/60 [05:25<10:50, 16.27s/it]"
     ]
    },
    {
     "name": "stdout",
     "output_type": "stream",
     "text": [
      "Epoch: 19 | Train_acc: 79.00% | Val_acc: 79.00% | Loss: 2.94 | Runtime: 16.24 seconds\n",
      "Evaluating epoch...\n"
     ]
    },
    {
     "name": "stderr",
     "output_type": "stream",
     "text": [
      "\n",
      "  0%|          | 0/4 [00:00<?, ?it/s]\u001b[A\n",
      " 25%|██▌       | 1/4 [00:04<00:14,  4.91s/it]\u001b[A\n",
      "100%|██████████| 4/4 [00:05<00:00,  1.34s/it]\u001b[A\n",
      "\n",
      "  0%|          | 0/4 [00:00<?, ?it/s]\u001b[A\n",
      " 25%|██▌       | 1/4 [00:04<00:14,  4.86s/it]\u001b[A\n",
      "100%|██████████| 4/4 [00:05<00:00,  1.32s/it]\u001b[A\n",
      " 35%|███▌      | 21/60 [05:42<10:34, 16.27s/it]"
     ]
    },
    {
     "name": "stdout",
     "output_type": "stream",
     "text": [
      "Epoch: 20 | Train_acc: 80.00% | Val_acc: 80.00% | Loss: 2.21 | Runtime: 16.27 seconds\n",
      "Evaluating epoch...\n"
     ]
    },
    {
     "name": "stderr",
     "output_type": "stream",
     "text": [
      "\n",
      "  0%|          | 0/4 [00:00<?, ?it/s]\u001b[A\n",
      " 25%|██▌       | 1/4 [00:05<00:15,  5.02s/it]\u001b[A\n",
      " 50%|█████     | 2/4 [00:05<00:04,  2.13s/it]\u001b[A\n",
      "100%|██████████| 4/4 [00:05<00:00,  1.37s/it]\u001b[A\n",
      "\n",
      "  0%|          | 0/4 [00:00<?, ?it/s]\u001b[A\n",
      " 25%|██▌       | 1/4 [00:04<00:14,  4.89s/it]\u001b[A\n",
      "100%|██████████| 4/4 [00:05<00:00,  1.33s/it]\u001b[A\n",
      " 37%|███▋      | 22/60 [05:58<10:19, 16.31s/it]"
     ]
    },
    {
     "name": "stdout",
     "output_type": "stream",
     "text": [
      "Epoch: 21 | Train_acc: 82.00% | Val_acc: 82.00% | Loss: 2.27 | Runtime: 16.40 seconds\n",
      "Evaluating epoch...\n"
     ]
    },
    {
     "name": "stderr",
     "output_type": "stream",
     "text": [
      "\n",
      "  0%|          | 0/4 [00:00<?, ?it/s]\u001b[A\n",
      " 25%|██▌       | 1/4 [00:05<00:15,  5.08s/it]\u001b[A\n",
      " 50%|█████     | 2/4 [00:05<00:04,  2.15s/it]\u001b[A\n",
      "100%|██████████| 4/4 [00:05<00:00,  1.38s/it]\u001b[A\n",
      "\n",
      "  0%|          | 0/4 [00:00<?, ?it/s]\u001b[A\n",
      " 25%|██▌       | 1/4 [00:04<00:14,  4.92s/it]\u001b[A\n",
      "100%|██████████| 4/4 [00:05<00:00,  1.34s/it]\u001b[A\n",
      " 38%|███▊      | 23/60 [06:15<10:08, 16.44s/it]"
     ]
    },
    {
     "name": "stdout",
     "output_type": "stream",
     "text": [
      "Epoch: 22 | Train_acc: 84.00% | Val_acc: 84.00% | Loss: 2.31 | Runtime: 16.75 seconds\n",
      "Evaluating epoch...\n"
     ]
    },
    {
     "name": "stderr",
     "output_type": "stream",
     "text": [
      "\n",
      "  0%|          | 0/4 [00:00<?, ?it/s]\u001b[A\n",
      " 25%|██▌       | 1/4 [00:04<00:14,  4.86s/it]\u001b[A\n",
      "100%|██████████| 4/4 [00:05<00:00,  1.32s/it]\u001b[A\n",
      "\n",
      "  0%|          | 0/4 [00:00<?, ?it/s]\u001b[A\n",
      " 25%|██▌       | 1/4 [00:04<00:14,  4.88s/it]\u001b[A\n",
      "100%|██████████| 4/4 [00:05<00:00,  1.33s/it]\u001b[A\n",
      " 40%|████      | 24/60 [06:31<09:49, 16.37s/it]"
     ]
    },
    {
     "name": "stdout",
     "output_type": "stream",
     "text": [
      "Epoch: 23 | Train_acc: 85.00% | Val_acc: 85.00% | Loss: 2.24 | Runtime: 16.21 seconds\n",
      "Evaluating epoch...\n"
     ]
    },
    {
     "name": "stderr",
     "output_type": "stream",
     "text": [
      "\n",
      "  0%|          | 0/4 [00:00<?, ?it/s]\u001b[A\n",
      " 25%|██▌       | 1/4 [00:04<00:14,  4.99s/it]\u001b[A\n",
      " 50%|█████     | 2/4 [00:05<00:04,  2.11s/it]\u001b[A\n",
      "100%|██████████| 4/4 [00:05<00:00,  1.36s/it]\u001b[A\n",
      "\n",
      "  0%|          | 0/4 [00:00<?, ?it/s]\u001b[A\n",
      " 25%|██▌       | 1/4 [00:04<00:14,  4.90s/it]\u001b[A\n",
      "100%|██████████| 4/4 [00:05<00:00,  1.34s/it]\u001b[A\n",
      " 42%|████▏     | 25/60 [06:47<09:32, 16.37s/it]"
     ]
    },
    {
     "name": "stdout",
     "output_type": "stream",
     "text": [
      "Epoch: 24 | Train_acc: 85.00% | Val_acc: 85.00% | Loss: 2.19 | Runtime: 16.36 seconds\n",
      "Evaluating epoch...\n"
     ]
    },
    {
     "name": "stderr",
     "output_type": "stream",
     "text": [
      "\n",
      "  0%|          | 0/4 [00:00<?, ?it/s]\u001b[A\n",
      " 25%|██▌       | 1/4 [00:04<00:14,  4.85s/it]\u001b[A\n",
      "100%|██████████| 4/4 [00:05<00:00,  1.33s/it]\u001b[A\n",
      "\n",
      "  0%|          | 0/4 [00:00<?, ?it/s]\u001b[A\n",
      " 25%|██▌       | 1/4 [00:04<00:14,  4.85s/it]\u001b[A\n",
      " 50%|█████     | 2/4 [00:04<00:04,  2.06s/it]\u001b[A\n",
      "100%|██████████| 4/4 [00:05<00:00,  1.32s/it]\u001b[A\n",
      " 43%|████▎     | 26/60 [07:04<09:15, 16.34s/it]"
     ]
    },
    {
     "name": "stdout",
     "output_type": "stream",
     "text": [
      "Epoch: 25 | Train_acc: 84.00% | Val_acc: 84.00% | Loss: 2.01 | Runtime: 16.28 seconds\n",
      "Evaluating epoch...\n"
     ]
    },
    {
     "name": "stderr",
     "output_type": "stream",
     "text": [
      "\n",
      "  0%|          | 0/4 [00:00<?, ?it/s]\u001b[A\n",
      " 25%|██▌       | 1/4 [00:04<00:14,  4.86s/it]\u001b[A\n",
      " 50%|█████     | 2/4 [00:04<00:04,  2.06s/it]\u001b[A\n",
      "100%|██████████| 4/4 [00:05<00:00,  1.32s/it]\u001b[A\n",
      "\n",
      "  0%|          | 0/4 [00:00<?, ?it/s]\u001b[A\n",
      " 25%|██▌       | 1/4 [00:04<00:14,  4.87s/it]\u001b[A\n",
      "100%|██████████| 4/4 [00:05<00:00,  1.33s/it]\u001b[A\n",
      " 45%|████▌     | 27/60 [07:20<08:58, 16.31s/it]"
     ]
    },
    {
     "name": "stdout",
     "output_type": "stream",
     "text": [
      "Epoch: 26 | Train_acc: 79.00% | Val_acc: 79.00% | Loss: 1.81 | Runtime: 16.21 seconds\n",
      "Evaluating epoch...\n"
     ]
    },
    {
     "name": "stderr",
     "output_type": "stream",
     "text": [
      "\n",
      "  0%|          | 0/4 [00:00<?, ?it/s]\u001b[A\n",
      " 25%|██▌       | 1/4 [00:04<00:14,  4.88s/it]\u001b[A\n",
      " 50%|█████     | 2/4 [00:04<00:04,  2.07s/it]\u001b[A\n",
      "100%|██████████| 4/4 [00:05<00:00,  1.33s/it]\u001b[A\n",
      "\n",
      "  0%|          | 0/4 [00:00<?, ?it/s]\u001b[A\n",
      " 25%|██▌       | 1/4 [00:04<00:14,  4.88s/it]\u001b[A\n",
      " 50%|█████     | 2/4 [00:04<00:04,  2.07s/it]\u001b[A\n",
      "100%|██████████| 4/4 [00:05<00:00,  1.33s/it]\u001b[A\n",
      " 47%|████▋     | 28/60 [07:36<08:41, 16.29s/it]"
     ]
    },
    {
     "name": "stdout",
     "output_type": "stream",
     "text": [
      "Epoch: 27 | Train_acc: 87.00% | Val_acc: 87.00% | Loss: 2.17 | Runtime: 16.25 seconds\n",
      "Evaluating epoch...\n"
     ]
    },
    {
     "name": "stderr",
     "output_type": "stream",
     "text": [
      "\n",
      "  0%|          | 0/4 [00:00<?, ?it/s]\u001b[A\n",
      " 25%|██▌       | 1/4 [00:04<00:14,  4.88s/it]\u001b[A\n",
      "100%|██████████| 4/4 [00:05<00:00,  1.33s/it]\u001b[A\n",
      "\n",
      "  0%|          | 0/4 [00:00<?, ?it/s]\u001b[A\n",
      " 25%|██▌       | 1/4 [00:04<00:14,  4.87s/it]\u001b[A\n",
      "100%|██████████| 4/4 [00:05<00:00,  1.33s/it]\u001b[A\n",
      " 48%|████▊     | 29/60 [07:52<08:24, 16.28s/it]"
     ]
    },
    {
     "name": "stdout",
     "output_type": "stream",
     "text": [
      "Epoch: 28 | Train_acc: 88.00% | Val_acc: 88.00% | Loss: 1.91 | Runtime: 16.24 seconds\n",
      "Evaluating epoch...\n"
     ]
    },
    {
     "name": "stderr",
     "output_type": "stream",
     "text": [
      "\n",
      "  0%|          | 0/4 [00:00<?, ?it/s]\u001b[A\n",
      " 25%|██▌       | 1/4 [00:05<00:15,  5.02s/it]\u001b[A\n",
      " 50%|█████     | 2/4 [00:05<00:04,  2.13s/it]\u001b[A\n",
      "100%|██████████| 4/4 [00:05<00:00,  1.37s/it]\u001b[A\n",
      "\n",
      "  0%|          | 0/4 [00:00<?, ?it/s]\u001b[A\n",
      " 25%|██▌       | 1/4 [00:04<00:14,  4.88s/it]\u001b[A\n",
      "100%|██████████| 4/4 [00:05<00:00,  1.33s/it]\u001b[A\n",
      " 50%|█████     | 30/60 [08:09<08:09, 16.30s/it]"
     ]
    },
    {
     "name": "stdout",
     "output_type": "stream",
     "text": [
      "Epoch: 29 | Train_acc: 87.00% | Val_acc: 87.00% | Loss: 1.67 | Runtime: 16.36 seconds\n",
      "Evaluating epoch...\n"
     ]
    },
    {
     "name": "stderr",
     "output_type": "stream",
     "text": [
      "\n",
      "  0%|          | 0/4 [00:00<?, ?it/s]\u001b[A\n",
      " 25%|██▌       | 1/4 [00:04<00:14,  4.87s/it]\u001b[A\n",
      " 50%|█████     | 2/4 [00:04<00:04,  2.07s/it]\u001b[A\n",
      "100%|██████████| 4/4 [00:05<00:00,  1.33s/it]\u001b[A\n",
      "\n",
      "  0%|          | 0/4 [00:00<?, ?it/s]\u001b[A\n",
      " 25%|██▌       | 1/4 [00:04<00:14,  4.87s/it]\u001b[A\n",
      "100%|██████████| 4/4 [00:05<00:00,  1.33s/it]\u001b[A\n",
      " 52%|█████▏    | 31/60 [08:25<07:52, 16.28s/it]"
     ]
    },
    {
     "name": "stdout",
     "output_type": "stream",
     "text": [
      "Epoch: 30 | Train_acc: 87.00% | Val_acc: 87.00% | Loss: 2.08 | Runtime: 16.24 seconds\n",
      "Evaluating epoch...\n"
     ]
    },
    {
     "name": "stderr",
     "output_type": "stream",
     "text": [
      "\n",
      "  0%|          | 0/4 [00:00<?, ?it/s]\u001b[A\n",
      " 25%|██▌       | 1/4 [00:04<00:14,  4.88s/it]\u001b[A\n",
      "100%|██████████| 4/4 [00:05<00:00,  1.33s/it]\u001b[A\n",
      "\n",
      "  0%|          | 0/4 [00:00<?, ?it/s]\u001b[A\n",
      " 25%|██▌       | 1/4 [00:04<00:14,  4.89s/it]\u001b[A\n",
      "100%|██████████| 4/4 [00:05<00:00,  1.33s/it]\u001b[A\n",
      " 53%|█████▎    | 32/60 [08:41<07:35, 16.27s/it]"
     ]
    },
    {
     "name": "stdout",
     "output_type": "stream",
     "text": [
      "Epoch: 31 | Train_acc: 89.00% | Val_acc: 89.00% | Loss: 1.53 | Runtime: 16.24 seconds\n",
      "Evaluating epoch...\n"
     ]
    },
    {
     "name": "stderr",
     "output_type": "stream",
     "text": [
      "\n",
      "  0%|          | 0/4 [00:00<?, ?it/s]\u001b[A\n",
      " 25%|██▌       | 1/4 [00:04<00:14,  4.88s/it]\u001b[A\n",
      "100%|██████████| 4/4 [00:05<00:00,  1.33s/it]\u001b[A\n",
      "\n",
      "  0%|          | 0/4 [00:00<?, ?it/s]\u001b[A\n",
      " 25%|██▌       | 1/4 [00:04<00:14,  4.89s/it]\u001b[A\n",
      "100%|██████████| 4/4 [00:05<00:00,  1.33s/it]\u001b[A\n",
      " 55%|█████▌    | 33/60 [08:57<07:18, 16.25s/it]"
     ]
    },
    {
     "name": "stdout",
     "output_type": "stream",
     "text": [
      "Epoch: 32 | Train_acc: 91.00% | Val_acc: 91.00% | Loss: 1.64 | Runtime: 16.21 seconds\n",
      "Evaluating epoch...\n"
     ]
    },
    {
     "name": "stderr",
     "output_type": "stream",
     "text": [
      "\n",
      "  0%|          | 0/4 [00:00<?, ?it/s]\u001b[A\n",
      " 25%|██▌       | 1/4 [00:05<00:15,  5.04s/it]\u001b[A\n",
      " 50%|█████     | 2/4 [00:05<00:04,  2.14s/it]\u001b[A\n",
      "100%|██████████| 4/4 [00:05<00:00,  1.38s/it]\u001b[A\n",
      "\n",
      "  0%|          | 0/4 [00:00<?, ?it/s]\u001b[A\n",
      " 25%|██▌       | 1/4 [00:04<00:14,  4.88s/it]\u001b[A\n",
      " 50%|█████     | 2/4 [00:04<00:04,  2.07s/it]\u001b[A\n",
      "100%|██████████| 4/4 [00:05<00:00,  1.33s/it]\u001b[A\n",
      " 57%|█████▋    | 34/60 [09:14<07:03, 16.30s/it]"
     ]
    },
    {
     "name": "stdout",
     "output_type": "stream",
     "text": [
      "Epoch: 33 | Train_acc: 85.00% | Val_acc: 85.00% | Loss: 1.57 | Runtime: 16.41 seconds\n",
      "Evaluating epoch...\n"
     ]
    },
    {
     "name": "stderr",
     "output_type": "stream",
     "text": [
      "\n",
      "  0%|          | 0/4 [00:00<?, ?it/s]\u001b[A\n",
      " 25%|██▌       | 1/4 [00:04<00:14,  4.87s/it]\u001b[A\n",
      "100%|██████████| 4/4 [00:05<00:00,  1.33s/it]\u001b[A\n",
      "\n",
      "  0%|          | 0/4 [00:00<?, ?it/s]\u001b[A\n",
      " 25%|██▌       | 1/4 [00:04<00:14,  4.87s/it]\u001b[A\n",
      "100%|██████████| 4/4 [00:05<00:00,  1.33s/it]\u001b[A\n",
      " 58%|█████▊    | 35/60 [09:30<06:46, 16.27s/it]"
     ]
    },
    {
     "name": "stdout",
     "output_type": "stream",
     "text": [
      "Epoch: 34 | Train_acc: 89.00% | Val_acc: 89.00% | Loss: 1.62 | Runtime: 16.19 seconds\n",
      "Evaluating epoch...\n"
     ]
    },
    {
     "name": "stderr",
     "output_type": "stream",
     "text": [
      "\n",
      "  0%|          | 0/4 [00:00<?, ?it/s]\u001b[A\n",
      " 25%|██▌       | 1/4 [00:04<00:14,  4.91s/it]\u001b[A\n",
      "100%|██████████| 4/4 [00:05<00:00,  1.34s/it]\u001b[A\n",
      "\n",
      "  0%|          | 0/4 [00:00<?, ?it/s]\u001b[A\n",
      " 25%|██▌       | 1/4 [00:04<00:14,  4.90s/it]\u001b[A\n",
      "100%|██████████| 4/4 [00:05<00:00,  1.34s/it]\u001b[A\n",
      " 60%|██████    | 36/60 [09:46<06:31, 16.29s/it]"
     ]
    },
    {
     "name": "stdout",
     "output_type": "stream",
     "text": [
      "Epoch: 35 | Train_acc: 92.00% | Val_acc: 92.00% | Loss: 1.40 | Runtime: 16.36 seconds\n",
      "Evaluating epoch...\n"
     ]
    },
    {
     "name": "stderr",
     "output_type": "stream",
     "text": [
      "\n",
      "  0%|          | 0/4 [00:00<?, ?it/s]\u001b[A\n",
      " 25%|██▌       | 1/4 [00:05<00:15,  5.06s/it]\u001b[A\n",
      " 50%|█████     | 2/4 [00:05<00:04,  2.14s/it]\u001b[A\n",
      "100%|██████████| 4/4 [00:05<00:00,  1.41s/it]\u001b[A\n",
      "\n",
      "  0%|          | 0/4 [00:00<?, ?it/s]\u001b[A\n",
      " 25%|██▌       | 1/4 [00:04<00:14,  4.93s/it]\u001b[A\n",
      " 50%|█████     | 2/4 [00:05<00:04,  2.09s/it]\u001b[A\n",
      "100%|██████████| 4/4 [00:05<00:00,  1.35s/it]\u001b[A\n",
      " 62%|██████▏   | 37/60 [10:03<06:16, 16.39s/it]"
     ]
    },
    {
     "name": "stdout",
     "output_type": "stream",
     "text": [
      "Epoch: 36 | Train_acc: 88.00% | Val_acc: 88.00% | Loss: 1.81 | Runtime: 16.60 seconds\n",
      "Evaluating epoch...\n"
     ]
    },
    {
     "name": "stderr",
     "output_type": "stream",
     "text": [
      "\n",
      "  0%|          | 0/4 [00:00<?, ?it/s]\u001b[A\n",
      " 25%|██▌       | 1/4 [00:04<00:14,  4.89s/it]\u001b[A\n",
      "100%|██████████| 4/4 [00:05<00:00,  1.33s/it]\u001b[A\n",
      "\n",
      "  0%|          | 0/4 [00:00<?, ?it/s]\u001b[A\n",
      " 25%|██▌       | 1/4 [00:04<00:14,  4.91s/it]\u001b[A\n",
      "100%|██████████| 4/4 [00:05<00:00,  1.34s/it]\u001b[A\n",
      " 63%|██████▎   | 38/60 [10:19<05:59, 16.35s/it]"
     ]
    },
    {
     "name": "stdout",
     "output_type": "stream",
     "text": [
      "Epoch: 37 | Train_acc: 91.00% | Val_acc: 91.00% | Loss: 1.38 | Runtime: 16.26 seconds\n",
      "Evaluating epoch...\n"
     ]
    },
    {
     "name": "stderr",
     "output_type": "stream",
     "text": [
      "\n",
      "  0%|          | 0/4 [00:00<?, ?it/s]\u001b[A\n",
      " 25%|██▌       | 1/4 [00:05<00:15,  5.08s/it]\u001b[A\n",
      " 50%|█████     | 2/4 [00:05<00:04,  2.15s/it]\u001b[A\n",
      "100%|██████████| 4/4 [00:05<00:00,  1.40s/it]\u001b[A\n",
      "\n",
      "  0%|          | 0/4 [00:00<?, ?it/s]\u001b[A\n",
      " 25%|██▌       | 1/4 [00:04<00:14,  4.89s/it]\u001b[A\n",
      "100%|██████████| 4/4 [00:05<00:00,  1.33s/it]\u001b[A\n",
      " 65%|██████▌   | 39/60 [10:36<05:44, 16.38s/it]"
     ]
    },
    {
     "name": "stdout",
     "output_type": "stream",
     "text": [
      "Epoch: 38 | Train_acc: 89.00% | Val_acc: 89.00% | Loss: 1.33 | Runtime: 16.47 seconds\n",
      "Evaluating epoch...\n"
     ]
    },
    {
     "name": "stderr",
     "output_type": "stream",
     "text": [
      "\n",
      "  0%|          | 0/4 [00:00<?, ?it/s]\u001b[A\n",
      " 25%|██▌       | 1/4 [00:04<00:14,  4.96s/it]\u001b[A\n",
      " 50%|█████     | 2/4 [00:05<00:04,  2.10s/it]\u001b[A\n",
      "100%|██████████| 4/4 [00:05<00:00,  1.35s/it]\u001b[A\n",
      "\n",
      "  0%|          | 0/4 [00:00<?, ?it/s]\u001b[A\n",
      " 25%|██▌       | 1/4 [00:04<00:14,  4.91s/it]\u001b[A\n",
      "100%|██████████| 4/4 [00:05<00:00,  1.33s/it]\u001b[A\n",
      " 67%|██████▋   | 40/60 [10:52<05:27, 16.36s/it]"
     ]
    },
    {
     "name": "stdout",
     "output_type": "stream",
     "text": [
      "Epoch: 39 | Train_acc: 87.00% | Val_acc: 87.00% | Loss: 1.18 | Runtime: 16.31 seconds\n",
      "Evaluating epoch...\n"
     ]
    },
    {
     "name": "stderr",
     "output_type": "stream",
     "text": [
      "\n",
      "  0%|          | 0/4 [00:00<?, ?it/s]\u001b[A\n",
      " 25%|██▌       | 1/4 [00:04<00:14,  4.90s/it]\u001b[A\n",
      "100%|██████████| 4/4 [00:05<00:00,  1.33s/it]\u001b[A\n",
      "\n",
      "  0%|          | 0/4 [00:00<?, ?it/s]\u001b[A\n",
      " 25%|██▌       | 1/4 [00:04<00:14,  4.88s/it]\u001b[A\n",
      "100%|██████████| 4/4 [00:05<00:00,  1.33s/it]\u001b[A\n",
      " 68%|██████▊   | 41/60 [11:08<05:10, 16.33s/it]"
     ]
    },
    {
     "name": "stdout",
     "output_type": "stream",
     "text": [
      "Epoch: 40 | Train_acc: 91.00% | Val_acc: 91.00% | Loss: 1.44 | Runtime: 16.25 seconds\n",
      "Evaluating epoch...\n"
     ]
    },
    {
     "name": "stderr",
     "output_type": "stream",
     "text": [
      "\n",
      "  0%|          | 0/4 [00:00<?, ?it/s]\u001b[A\n",
      " 25%|██▌       | 1/4 [00:04<00:14,  4.86s/it]\u001b[A\n",
      "100%|██████████| 4/4 [00:05<00:00,  1.33s/it]\u001b[A\n",
      "\n",
      "  0%|          | 0/4 [00:00<?, ?it/s]\u001b[A\n",
      " 25%|██▌       | 1/4 [00:04<00:14,  4.87s/it]\u001b[A\n",
      " 50%|█████     | 2/4 [00:04<00:04,  2.06s/it]\u001b[A\n",
      "100%|██████████| 4/4 [00:05<00:00,  1.33s/it]\u001b[A\n",
      " 70%|███████   | 42/60 [11:24<04:53, 16.29s/it]"
     ]
    },
    {
     "name": "stdout",
     "output_type": "stream",
     "text": [
      "Epoch: 41 | Train_acc: 93.00% | Val_acc: 93.00% | Loss: 1.68 | Runtime: 16.20 seconds\n",
      "Evaluating epoch...\n"
     ]
    },
    {
     "name": "stderr",
     "output_type": "stream",
     "text": [
      "\n",
      "  0%|          | 0/4 [00:00<?, ?it/s]\u001b[A\n",
      " 25%|██▌       | 1/4 [00:05<00:15,  5.04s/it]\u001b[A\n",
      " 50%|█████     | 2/4 [00:05<00:04,  2.14s/it]\u001b[A\n",
      "100%|██████████| 4/4 [00:05<00:00,  1.38s/it]\u001b[A\n",
      "\n",
      "  0%|          | 0/4 [00:00<?, ?it/s]\u001b[A\n",
      " 25%|██▌       | 1/4 [00:04<00:14,  4.94s/it]\u001b[A\n",
      "100%|██████████| 4/4 [00:05<00:00,  1.34s/it]\u001b[A\n",
      " 72%|███████▏  | 43/60 [11:41<04:37, 16.34s/it]"
     ]
    },
    {
     "name": "stdout",
     "output_type": "stream",
     "text": [
      "Epoch: 42 | Train_acc: 94.00% | Val_acc: 94.00% | Loss: 1.12 | Runtime: 16.47 seconds\n",
      "Evaluating epoch...\n"
     ]
    },
    {
     "name": "stderr",
     "output_type": "stream",
     "text": [
      "\n",
      "  0%|          | 0/4 [00:00<?, ?it/s]\u001b[A\n",
      " 25%|██▌       | 1/4 [00:04<00:14,  4.88s/it]\u001b[A\n",
      "100%|██████████| 4/4 [00:05<00:00,  1.33s/it]\u001b[A\n",
      "\n",
      "  0%|          | 0/4 [00:00<?, ?it/s]\u001b[A\n",
      " 25%|██▌       | 1/4 [00:04<00:14,  4.88s/it]\u001b[A\n",
      "100%|██████████| 4/4 [00:05<00:00,  1.33s/it]\u001b[A\n",
      " 73%|███████▎  | 44/60 [11:57<04:21, 16.34s/it]"
     ]
    },
    {
     "name": "stdout",
     "output_type": "stream",
     "text": [
      "Epoch: 43 | Train_acc: 91.00% | Val_acc: 91.00% | Loss: 1.11 | Runtime: 16.33 seconds\n",
      "Evaluating epoch...\n"
     ]
    },
    {
     "name": "stderr",
     "output_type": "stream",
     "text": [
      "\n",
      "  0%|          | 0/4 [00:00<?, ?it/s]\u001b[A\n",
      " 25%|██▌       | 1/4 [00:04<00:14,  4.89s/it]\u001b[A\n",
      "100%|██████████| 4/4 [00:05<00:00,  1.33s/it]\u001b[A\n",
      "\n",
      "  0%|          | 0/4 [00:00<?, ?it/s]\u001b[A\n",
      " 25%|██▌       | 1/4 [00:04<00:14,  4.91s/it]\u001b[A\n",
      "100%|██████████| 4/4 [00:05<00:00,  1.34s/it]\u001b[A\n",
      " 75%|███████▌  | 45/60 [12:13<04:04, 16.31s/it]"
     ]
    },
    {
     "name": "stdout",
     "output_type": "stream",
     "text": [
      "Epoch: 44 | Train_acc: 93.00% | Val_acc: 93.00% | Loss: 1.33 | Runtime: 16.23 seconds\n",
      "Evaluating epoch...\n"
     ]
    },
    {
     "name": "stderr",
     "output_type": "stream",
     "text": [
      "\n",
      "  0%|          | 0/4 [00:00<?, ?it/s]\u001b[A\n",
      " 25%|██▌       | 1/4 [00:05<00:15,  5.00s/it]\u001b[A\n",
      " 50%|█████     | 2/4 [00:05<00:04,  2.12s/it]\u001b[A\n",
      "100%|██████████| 4/4 [00:05<00:00,  1.36s/it]\u001b[A\n",
      "\n",
      "  0%|          | 0/4 [00:00<?, ?it/s]\u001b[A\n",
      " 25%|██▌       | 1/4 [00:04<00:14,  4.86s/it]\u001b[A\n",
      "100%|██████████| 4/4 [00:05<00:00,  1.32s/it]\u001b[A\n",
      " 77%|███████▋  | 46/60 [12:30<03:48, 16.30s/it]"
     ]
    },
    {
     "name": "stdout",
     "output_type": "stream",
     "text": [
      "Epoch: 45 | Train_acc: 92.00% | Val_acc: 92.00% | Loss: 1.14 | Runtime: 16.29 seconds\n",
      "Evaluating epoch...\n"
     ]
    },
    {
     "name": "stderr",
     "output_type": "stream",
     "text": [
      "\n",
      "  0%|          | 0/4 [00:00<?, ?it/s]\u001b[A\n",
      " 25%|██▌       | 1/4 [00:04<00:14,  4.86s/it]\u001b[A\n",
      "100%|██████████| 4/4 [00:05<00:00,  1.32s/it]\u001b[A\n",
      "\n",
      "  0%|          | 0/4 [00:00<?, ?it/s]\u001b[A\n",
      " 25%|██▌       | 1/4 [00:04<00:14,  4.92s/it]\u001b[A\n",
      "100%|██████████| 4/4 [00:05<00:00,  1.34s/it]\u001b[A\n",
      " 78%|███████▊  | 47/60 [12:46<03:31, 16.29s/it]"
     ]
    },
    {
     "name": "stdout",
     "output_type": "stream",
     "text": [
      "Epoch: 46 | Train_acc: 93.00% | Val_acc: 93.00% | Loss: 1.07 | Runtime: 16.25 seconds\n",
      "Evaluating epoch...\n"
     ]
    },
    {
     "name": "stderr",
     "output_type": "stream",
     "text": [
      "\n",
      "  0%|          | 0/4 [00:00<?, ?it/s]\u001b[A\n",
      " 25%|██▌       | 1/4 [00:04<00:14,  4.91s/it]\u001b[A\n",
      "100%|██████████| 4/4 [00:05<00:00,  1.33s/it]\u001b[A\n",
      "\n",
      "  0%|          | 0/4 [00:00<?, ?it/s]\u001b[A\n",
      " 25%|██▌       | 1/4 [00:04<00:14,  4.91s/it]\u001b[A\n",
      "100%|██████████| 4/4 [00:05<00:00,  1.35s/it]\u001b[A\n",
      " 80%|████████  | 48/60 [13:02<03:15, 16.29s/it]"
     ]
    },
    {
     "name": "stdout",
     "output_type": "stream",
     "text": [
      "Epoch: 47 | Train_acc: 94.00% | Val_acc: 94.00% | Loss: 1.03 | Runtime: 16.30 seconds\n",
      "Evaluating epoch...\n"
     ]
    },
    {
     "name": "stderr",
     "output_type": "stream",
     "text": [
      "\n",
      "  0%|          | 0/4 [00:00<?, ?it/s]\u001b[A\n",
      " 25%|██▌       | 1/4 [00:05<00:15,  5.01s/it]\u001b[A\n",
      " 50%|█████     | 2/4 [00:05<00:04,  2.12s/it]\u001b[A\n",
      "100%|██████████| 4/4 [00:05<00:00,  1.37s/it]\u001b[A\n",
      "\n",
      "  0%|          | 0/4 [00:00<?, ?it/s]\u001b[A\n",
      " 25%|██▌       | 1/4 [00:04<00:14,  4.91s/it]\u001b[A\n",
      "100%|██████████| 4/4 [00:05<00:00,  1.34s/it]\u001b[A\n",
      " 82%|████████▏ | 49/60 [13:19<02:59, 16.32s/it]"
     ]
    },
    {
     "name": "stdout",
     "output_type": "stream",
     "text": [
      "Epoch: 48 | Train_acc: 94.00% | Val_acc: 94.00% | Loss: 1.13 | Runtime: 16.38 seconds\n",
      "Evaluating epoch...\n"
     ]
    },
    {
     "name": "stderr",
     "output_type": "stream",
     "text": [
      "\n",
      "  0%|          | 0/4 [00:00<?, ?it/s]\u001b[A\n",
      " 25%|██▌       | 1/4 [00:04<00:14,  4.87s/it]\u001b[A\n",
      "100%|██████████| 4/4 [00:05<00:00,  1.33s/it]\u001b[A\n",
      "\n",
      "  0%|          | 0/4 [00:00<?, ?it/s]\u001b[A\n",
      " 25%|██▌       | 1/4 [00:04<00:14,  4.92s/it]\u001b[A\n",
      "100%|██████████| 4/4 [00:05<00:00,  1.34s/it]\u001b[A\n",
      " 83%|████████▎ | 50/60 [13:35<02:43, 16.30s/it]"
     ]
    },
    {
     "name": "stdout",
     "output_type": "stream",
     "text": [
      "Epoch: 49 | Train_acc: 93.00% | Val_acc: 93.00% | Loss: 1.20 | Runtime: 16.26 seconds\n",
      "Evaluating epoch...\n"
     ]
    },
    {
     "name": "stderr",
     "output_type": "stream",
     "text": [
      "\n",
      "  0%|          | 0/4 [00:00<?, ?it/s]\u001b[A\n",
      " 25%|██▌       | 1/4 [00:04<00:14,  4.91s/it]\u001b[A\n",
      "100%|██████████| 4/4 [00:05<00:00,  1.34s/it]\u001b[A\n",
      "\n",
      "  0%|          | 0/4 [00:00<?, ?it/s]\u001b[A\n",
      " 25%|██▌       | 1/4 [00:04<00:14,  4.87s/it]\u001b[A\n",
      "100%|██████████| 4/4 [00:05<00:00,  1.34s/it]\u001b[A\n",
      " 85%|████████▌ | 51/60 [13:51<02:26, 16.33s/it]"
     ]
    },
    {
     "name": "stdout",
     "output_type": "stream",
     "text": [
      "Epoch: 50 | Train_acc: 95.00% | Val_acc: 95.00% | Loss: 1.34 | Runtime: 16.39 seconds\n",
      "Evaluating epoch...\n"
     ]
    },
    {
     "name": "stderr",
     "output_type": "stream",
     "text": [
      "\n",
      "  0%|          | 0/4 [00:00<?, ?it/s]\u001b[A\n",
      " 25%|██▌       | 1/4 [00:04<00:14,  4.98s/it]\u001b[A\n",
      " 50%|█████     | 2/4 [00:05<00:04,  2.11s/it]\u001b[A\n",
      "100%|██████████| 4/4 [00:05<00:00,  1.36s/it]\u001b[A\n",
      "\n",
      "  0%|          | 0/4 [00:00<?, ?it/s]\u001b[A\n",
      " 25%|██▌       | 1/4 [00:04<00:14,  4.86s/it]\u001b[A\n",
      " 50%|█████     | 2/4 [00:04<00:04,  2.06s/it]\u001b[A\n",
      "100%|██████████| 4/4 [00:05<00:00,  1.32s/it]\u001b[A\n",
      " 87%|████████▋ | 52/60 [14:08<02:10, 16.32s/it]"
     ]
    },
    {
     "name": "stdout",
     "output_type": "stream",
     "text": [
      "Epoch: 51 | Train_acc: 89.00% | Val_acc: 89.00% | Loss: 0.76 | Runtime: 16.30 seconds\n",
      "Evaluating epoch...\n"
     ]
    },
    {
     "name": "stderr",
     "output_type": "stream",
     "text": [
      "\n",
      "  0%|          | 0/4 [00:00<?, ?it/s]\u001b[A\n",
      " 25%|██▌       | 1/4 [00:04<00:14,  4.89s/it]\u001b[A\n",
      "100%|██████████| 4/4 [00:05<00:00,  1.33s/it]\u001b[A\n",
      "\n",
      "  0%|          | 0/4 [00:00<?, ?it/s]\u001b[A\n",
      " 25%|██▌       | 1/4 [00:04<00:14,  4.89s/it]\u001b[A\n",
      "100%|██████████| 4/4 [00:05<00:00,  1.33s/it]\u001b[A\n",
      " 88%|████████▊ | 53/60 [14:24<01:54, 16.30s/it]"
     ]
    },
    {
     "name": "stdout",
     "output_type": "stream",
     "text": [
      "Epoch: 52 | Train_acc: 95.00% | Val_acc: 95.00% | Loss: 1.11 | Runtime: 16.25 seconds\n",
      "Evaluating epoch...\n"
     ]
    },
    {
     "name": "stderr",
     "output_type": "stream",
     "text": [
      "\n",
      "  0%|          | 0/4 [00:00<?, ?it/s]\u001b[A\n",
      " 25%|██▌       | 1/4 [00:04<00:14,  4.84s/it]\u001b[A\n",
      "100%|██████████| 4/4 [00:05<00:00,  1.32s/it]\u001b[A\n",
      "\n",
      "  0%|          | 0/4 [00:00<?, ?it/s]\u001b[A\n",
      " 25%|██▌       | 1/4 [00:04<00:14,  4.86s/it]\u001b[A\n",
      "100%|██████████| 4/4 [00:05<00:00,  1.32s/it]\u001b[A\n",
      " 90%|█████████ | 54/60 [14:40<01:37, 16.26s/it]"
     ]
    },
    {
     "name": "stdout",
     "output_type": "stream",
     "text": [
      "Epoch: 53 | Train_acc: 90.00% | Val_acc: 90.00% | Loss: 1.09 | Runtime: 16.16 seconds\n",
      "Evaluating epoch...\n"
     ]
    },
    {
     "name": "stderr",
     "output_type": "stream",
     "text": [
      "\n",
      "  0%|          | 0/4 [00:00<?, ?it/s]\u001b[A\n",
      " 25%|██▌       | 1/4 [00:05<00:15,  5.05s/it]\u001b[A\n",
      " 50%|█████     | 2/4 [00:05<00:04,  2.14s/it]\u001b[A\n",
      "100%|██████████| 4/4 [00:05<00:00,  1.37s/it]\u001b[A\n",
      "\n",
      "  0%|          | 0/4 [00:00<?, ?it/s]\u001b[A\n",
      " 25%|██▌       | 1/4 [00:04<00:14,  4.88s/it]\u001b[A\n",
      " 50%|█████     | 2/4 [00:04<00:04,  2.07s/it]\u001b[A\n",
      "100%|██████████| 4/4 [00:05<00:00,  1.33s/it]\u001b[A\n",
      " 92%|█████████▏| 55/60 [14:56<01:21, 16.31s/it]"
     ]
    },
    {
     "name": "stdout",
     "output_type": "stream",
     "text": [
      "Epoch: 54 | Train_acc: 96.00% | Val_acc: 96.00% | Loss: 1.12 | Runtime: 16.42 seconds\n",
      "Evaluating epoch...\n"
     ]
    },
    {
     "name": "stderr",
     "output_type": "stream",
     "text": [
      "\n",
      "  0%|          | 0/4 [00:00<?, ?it/s]\u001b[A\n",
      " 25%|██▌       | 1/4 [00:04<00:14,  4.88s/it]\u001b[A\n",
      "100%|██████████| 4/4 [00:05<00:00,  1.33s/it]\u001b[A\n",
      "\n",
      "  0%|          | 0/4 [00:00<?, ?it/s]\u001b[A\n",
      " 25%|██▌       | 1/4 [00:04<00:14,  4.86s/it]\u001b[A\n",
      "100%|██████████| 4/4 [00:05<00:00,  1.32s/it]\u001b[A\n",
      " 93%|█████████▎| 56/60 [15:13<01:05, 16.27s/it]"
     ]
    },
    {
     "name": "stdout",
     "output_type": "stream",
     "text": [
      "Epoch: 55 | Train_acc: 89.00% | Val_acc: 89.00% | Loss: 0.74 | Runtime: 16.19 seconds\n",
      "Evaluating epoch...\n"
     ]
    },
    {
     "name": "stderr",
     "output_type": "stream",
     "text": [
      "\n",
      "  0%|          | 0/4 [00:00<?, ?it/s]\u001b[A\n",
      " 25%|██▌       | 1/4 [00:04<00:14,  4.89s/it]\u001b[A\n",
      "100%|██████████| 4/4 [00:05<00:00,  1.33s/it]\u001b[A\n",
      "\n",
      "  0%|          | 0/4 [00:00<?, ?it/s]\u001b[A\n",
      " 25%|██▌       | 1/4 [00:04<00:14,  4.89s/it]\u001b[A\n",
      "100%|██████████| 4/4 [00:05<00:00,  1.33s/it]\u001b[A\n",
      " 95%|█████████▌| 57/60 [15:29<00:48, 16.27s/it]"
     ]
    },
    {
     "name": "stdout",
     "output_type": "stream",
     "text": [
      "Epoch: 56 | Train_acc: 95.00% | Val_acc: 95.00% | Loss: 0.92 | Runtime: 16.27 seconds\n",
      "Evaluating epoch...\n"
     ]
    },
    {
     "name": "stderr",
     "output_type": "stream",
     "text": [
      "\n",
      "  0%|          | 0/4 [00:00<?, ?it/s]\u001b[A\n",
      " 25%|██▌       | 1/4 [00:05<00:15,  5.17s/it]\u001b[A\n",
      " 50%|█████     | 2/4 [00:05<00:04,  2.19s/it]\u001b[A\n",
      "100%|██████████| 4/4 [00:05<00:00,  1.42s/it]\u001b[A\n",
      "\n",
      "  0%|          | 0/4 [00:00<?, ?it/s]\u001b[A\n",
      " 25%|██▌       | 1/4 [00:04<00:14,  4.86s/it]\u001b[A\n",
      " 50%|█████     | 2/4 [00:04<00:04,  2.06s/it]\u001b[A\n",
      "100%|██████████| 4/4 [00:05<00:00,  1.33s/it]\u001b[A\n",
      " 97%|█████████▋| 58/60 [15:45<00:32, 16.36s/it]"
     ]
    },
    {
     "name": "stdout",
     "output_type": "stream",
     "text": [
      "Epoch: 57 | Train_acc: 97.00% | Val_acc: 97.00% | Loss: 0.56 | Runtime: 16.56 seconds\n",
      "Evaluating epoch...\n"
     ]
    },
    {
     "name": "stderr",
     "output_type": "stream",
     "text": [
      "\n",
      "  0%|          | 0/4 [00:00<?, ?it/s]\u001b[A\n",
      " 25%|██▌       | 1/4 [00:04<00:14,  4.84s/it]\u001b[A\n",
      "100%|██████████| 4/4 [00:05<00:00,  1.32s/it]\u001b[A\n",
      "\n",
      "  0%|          | 0/4 [00:00<?, ?it/s]\u001b[A\n",
      " 25%|██▌       | 1/4 [00:04<00:14,  4.88s/it]\u001b[A\n",
      "100%|██████████| 4/4 [00:05<00:00,  1.33s/it]\u001b[A\n",
      " 98%|█████████▊| 59/60 [16:02<00:16, 16.31s/it]"
     ]
    },
    {
     "name": "stdout",
     "output_type": "stream",
     "text": [
      "Epoch: 58 | Train_acc: 97.00% | Val_acc: 97.00% | Loss: 0.62 | Runtime: 16.20 seconds\n",
      "Evaluating epoch...\n"
     ]
    },
    {
     "name": "stderr",
     "output_type": "stream",
     "text": [
      "\n",
      "  0%|          | 0/4 [00:00<?, ?it/s]\u001b[A\n",
      " 25%|██▌       | 1/4 [00:04<00:14,  4.90s/it]\u001b[A\n",
      "100%|██████████| 4/4 [00:05<00:00,  1.33s/it]\u001b[A\n",
      "\n",
      "  0%|          | 0/4 [00:00<?, ?it/s]\u001b[A\n",
      " 25%|██▌       | 1/4 [00:04<00:14,  4.86s/it]\u001b[A\n",
      "100%|██████████| 4/4 [00:05<00:00,  1.32s/it]\u001b[A\n",
      "100%|██████████| 60/60 [16:18<00:00, 16.31s/it]"
     ]
    },
    {
     "name": "stdout",
     "output_type": "stream",
     "text": [
      "Epoch: 59 | Train_acc: 95.00% | Val_acc: 95.00% | Loss: 0.75 | Runtime: 16.25 seconds\n"
     ]
    },
    {
     "name": "stderr",
     "output_type": "stream",
     "text": [
      "\n"
     ]
    }
   ],
   "source": [
    "total_loss, epoch_durations, accuracies_train, accuracies_validation = train(model=model_overfit,\n",
    "                                                                            train_loader=subset_loader,\n",
    "                                                                            validation_loader=subset_loader,\n",
    "                                                                            criterion=criterion,\n",
    "                                                                            optimizer=optimizer,\n",
    "                                                                            epochs=epochs,\n",
    "                                                                            verbose=True)"
   ]
  },
  {
   "cell_type": "code",
   "execution_count": 31,
   "metadata": {},
   "outputs": [
    {
     "data": {
      "image/png": "[encoded data removed]",
      "text/plain": [
       "<Figure size 400x240 with 1 Axes>"
      ]
     },
     "metadata": {
      "needs_background": "light"
     },
     "output_type": "display_data"
    },
    {
     "data": {
      "image/png": "[encoded data removed]",
      "text/plain": [
       "<Figure size 400x240 with 1 Axes>"
      ]
     },
     "metadata": {
      "needs_background": "light"
     },
     "output_type": "display_data"
    }
   ],
   "source": [
    "figure(figsize=(5, 3), dpi=80)\n",
    "plt.title('Overfitting Experiment Accuracy')\n",
    "\n",
    "plt.xlabel(\"Epoch\")\n",
    "plt.ylabel(\"Accuracy\")\n",
    "plt.plot(accuracies_train, color='b')\n",
    "\n",
    "plt.show()\n",
    "\n",
    "figure(figsize=(5, 3), dpi=80)\n",
    "plt.title('Loss')\n",
    "plt.xlabel(\"Epoch\")\n",
    "plt.ylabel(\"Loss Value\")\n",
    "plt.plot(total_loss, color='r')\n",
    "plt.show()"
   ]
  },
  {
   "cell_type": "markdown",
   "metadata": {},
   "source": [
    "# Setting up the actual model:"
   ]
  },
  {
   "cell_type": "markdown",
   "metadata": {},
   "source": [
    "### Defining the Dataset object:"
   ]
  },
  {
   "cell_type": "code",
   "execution_count": 7,
   "metadata": {},
   "outputs": [],
   "source": [
    "dataset = MoleDataset(transform=image_preprocessing)"
   ]
  },
  {
   "cell_type": "markdown",
   "metadata": {},
   "source": [
    "### Splitting the dataset into train, validation, and test sets:"
   ]
  },
  {
   "cell_type": "code",
   "execution_count": 8,
   "metadata": {},
   "outputs": [],
   "source": [
    "# Defining the proportions of how the dataset will be split:\n",
    "train_proportion = 0.8\n",
    "validation_proportion = 0.1\n",
    "test_proportion = 0.1\n",
    "\n",
    "# Defining the sizes of the splits:\n",
    "\n",
    "# 1) The train set size:\n",
    "train_size = math.ceil(train_proportion * len(dataset))\n",
    "\n",
    "# 2) The validation set size:\n",
    "validation_size = math.ceil(validation_proportion * len(dataset))\n",
    "\n",
    "# 3) The test set size:\n",
    "test_size = math.floor(test_proportion * len(dataset))\n",
    "\n",
    "# Defining the indecies of the train, validation and test sets:\n",
    "all_indecies = np.random.choice(list(range(len(dataset))), (10, len(dataset) // 10), replace=False)\n",
    "\n",
    "train_set_ind = np.random.choice(list(range(all_indecies.shape[0])), int(train_proportion * 10), replace=False)\n",
    "val_set_ind = np.random.choice(list(range(all_indecies.shape[0])), int(validation_proportion * 10), replace=False)\n",
    "test_set_ind = np.random.choice(list(range(all_indecies.shape[0])), int(test_proportion * 10), replace=False)\n",
    "\n",
    "train_set_ind = np.append([], all_indecies[train_set_ind]).astype(np.int)\n",
    "val_set_ind = np.append([], all_indecies[val_set_ind]).astype(np.int)\n",
    "test_set_ind = np.append([], all_indecies[test_set_ind]).astype(np.int)\n",
    "\n",
    "# # Defining the train, validation, and test sets:\n",
    "class_threshold = 1000\n",
    "train_set = MoleDataset(transform=image_preprocessing, indecies=train_set_ind, class_threshold=class_threshold)\n",
    "validation_set = MoleDataset(transform=image_preprocessing, indecies=val_set_ind)\n",
    "test_set = MoleDataset(transform=image_preprocessing, indecies=test_set_ind)"
   ]
  },
  {
   "cell_type": "code",
   "execution_count": 9,
   "metadata": {
    "scrolled": false
   },
   "outputs": [
    {
     "name": "stdout",
     "output_type": "stream",
     "text": [
      "3653\n"
     ]
    },
    {
     "data": {
      "text/plain": [
       "{'akiec': 252,\n",
       " 'bcc': 420,\n",
       " 'bkl': 892,\n",
       " 'df': 101,\n",
       " 'mel': 876,\n",
       " 'nv': 1000,\n",
       " 'vasc': 112}"
      ]
     },
     "execution_count": 9,
     "metadata": {},
     "output_type": "execute_result"
    }
   ],
   "source": [
    "data_dist = train_set.get_data_distribution()\n",
    "print(len(train_set))\n",
    "data_dist"
   ]
  },
  {
   "cell_type": "markdown",
   "metadata": {},
   "source": [
    "### Plotting the train data distribution before augmentation"
   ]
  },
  {
   "cell_type": "code",
   "execution_count": 10,
   "metadata": {
    "scrolled": true
   },
   "outputs": [
    {
     "data": {
      "image/png": "[encoded data removed]",
      "text/plain": [
       "<Figure size 800x480 with 1 Axes>"
      ]
     },
     "metadata": {
      "needs_background": "light"
     },
     "output_type": "display_data"
    }
   ],
   "source": [
    "figure(figsize=(10, 6), dpi=80)\n",
    "plt.title('Data Distribution')\n",
    "\n",
    "y = list(data_dist.values())\n",
    "x = [f'{label} ({count})' for label, count in zip(data_dist.keys(), data_dist.values())]\n",
    "\n",
    "plt.xlabel(\"Class\")\n",
    "plt.ylabel(\"Frequency\")\n",
    "plt.bar(x, y, color='b')\n",
    "\n",
    "plt.show()"
   ]
  },
  {
   "cell_type": "markdown",
   "metadata": {},
   "source": [
    "# Augmenting the training data:"
   ]
  },
  {
   "cell_type": "code",
   "execution_count": 11,
   "metadata": {},
   "outputs": [
    {
     "name": "stdout",
     "output_type": "stream",
     "text": [
      "Number of data points to be augmented: 3347\n"
     ]
    },
    {
     "data": {
      "text/plain": [
       "[748, 580, 108, 899, 124, 0, 888]"
      ]
     },
     "execution_count": 11,
     "metadata": {},
     "output_type": "execute_result"
    }
   ],
   "source": [
    "augmentation_amount = [class_threshold - i for i in data_dist.values()]\n",
    "print(f'Number of data points to be augmented: {sum(augmentation_amount)}')\n",
    "augmentation_amount"
   ]
  },
  {
   "cell_type": "code",
   "execution_count": 125,
   "metadata": {
    "scrolled": true
   },
   "outputs": [
    {
     "name": "stdout",
     "output_type": "stream",
     "text": [
      "Cannot delete the augmented images due to at least one of the following reasons:\n",
      "1) The augemented images' folder contains a file that is not an augmented image or the metadata csv file.\n",
      "2) The augemented images' folder does not contain any augmented image.\n",
      "3) The augmented images' folder does not contain the metadatacsv file\n",
      "\n",
      "class: akiec | amount augmented: 735\n",
      "class: bcc | amount augmented: 570\n",
      "class: bkl | amount augmented: 145\n",
      "class: df | amount augmented: 905\n",
      "class: mel | amount augmented: 126\n",
      "class: nv | amount augmented: 0\n",
      "class: vasc | amount augmented: 888\n"
     ]
    }
   ],
   "source": [
    "# Getting the path where the augmented data will be placed:\n",
    "augmention_path_location = os.path.join(os.path.dirname(os.path.abspath(\"__file__\")), 'data', 'dataset_location.txt')\n",
    "augmentation_path = None\n",
    "with open(augmention_path_location, 'r') as file:\n",
    "    augmentation_path = json.loads(file.read())\n",
    "    augmentation_path = augmentation_path['aug_data']\n",
    "    \n",
    "augmenter = DataAugmenter(dataset=train_set, augmentation_path=augmentation_path)\n",
    "augmenter.augment_multiple_classes(list(train_set.mapping.keys()), augmentation_amount, replace=True)"
   ]
  },
  {
   "cell_type": "code",
   "execution_count": 12,
   "metadata": {
    "scrolled": false
   },
   "outputs": [],
   "source": [
    "# train_set = MoleDataset(transform=image_preprocessing, indecies=train_set_ind, augment=True)\n",
    "train_set = MoleDataset(transform=image_preprocessing, indecies=train_set_ind, augment=True, class_threshold=class_threshold)"
   ]
  },
  {
   "cell_type": "code",
   "execution_count": 13,
   "metadata": {},
   "outputs": [
    {
     "data": {
      "text/plain": [
       "{'akiec': 959,\n",
       " 'bcc': 990,\n",
       " 'bkl': 996,\n",
       " 'df': 1000,\n",
       " 'mel': 996,\n",
       " 'nv': 1036,\n",
       " 'vasc': 1000}"
      ]
     },
     "execution_count": 13,
     "metadata": {},
     "output_type": "execute_result"
    }
   ],
   "source": [
    "data_dist = train_set.get_data_distribution()\n",
    "data_dist"
   ]
  },
  {
   "cell_type": "code",
   "execution_count": 14,
   "metadata": {},
   "outputs": [
    {
     "data": {
      "image/png": "[encoded data removed]",
      "text/plain": [
       "<Figure size 800x480 with 1 Axes>"
      ]
     },
     "metadata": {
      "needs_background": "light"
     },
     "output_type": "display_data"
    }
   ],
   "source": [
    "figure(figsize=(10, 6), dpi=80)\n",
    "plt.title('Data Distribution')\n",
    "\n",
    "y = list(data_dist.values())\n",
    "x = [f'{label} ({count})' for label, count in zip(data_dist.keys(), data_dist.values())]\n",
    "\n",
    "plt.xlabel(\"Class\")\n",
    "plt.ylabel(\"Frequency\")\n",
    "plt.bar(x, y, color='b')\n",
    "\n",
    "plt.show()"
   ]
  },
  {
   "cell_type": "markdown",
   "metadata": {},
   "source": [
    "### Creating the DataLoader objects:"
   ]
  },
  {
   "cell_type": "code",
   "execution_count": 15,
   "metadata": {},
   "outputs": [],
   "source": [
    "train_batch_size, validation_batch_size, test_batch_size = 8, 8, 16\n",
    "\n",
    "# Setting the num_workers to the number of cores on this machine.\n",
    "num_workers = 4\n",
    "\n",
    "train_loader = DataLoader(train_set, shuffle=True, batch_size=train_batch_size, num_workers=num_workers)\n",
    "validation_loader = DataLoader(validation_set, shuffle=True, batch_size=validation_batch_size, num_workers=num_workers)\n",
    "test_loader = DataLoader(test_set, shuffle=True, batch_size=test_batch_size, num_workers=num_workers)"
   ]
  },
  {
   "cell_type": "markdown",
   "metadata": {},
   "source": [
    "### Creating the model:"
   ]
  },
  {
   "cell_type": "code",
   "execution_count": 28,
   "metadata": {},
   "outputs": [],
   "source": [
    "model = SkinCancerModel()"
   ]
  },
  {
   "cell_type": "markdown",
   "metadata": {},
   "source": [
    "### Defining the optimizer, criterion, and hyperparameters:"
   ]
  },
  {
   "cell_type": "code",
   "execution_count": 29,
   "metadata": {},
   "outputs": [],
   "source": [
    "learning_rate = 1e-3 # 1e-3 in the previous trial.\n",
    "\n",
    "# Getting the classes weights:\n",
    "# loss_weights = torch.tensor(dataset.class_weights(), dtype=torch.float)\n",
    "\n",
    "# Defining the optimizer:\n",
    "optimizer = optim.SGD(model.parameters(), lr=learning_rate)\n",
    "\n",
    "# Defining the learning rate schedular:\n",
    "scheduler = optim.lr_scheduler.StepLR(optimizer, step_size=20, gamma=0.1) # None in the previous trial.\n",
    "# scheduler = None\n",
    "\n",
    "# Defining the weighted loss function:\n",
    "# criterion = nn.CrossEntropyLoss(weight=loss_weights)\n",
    "criterion = nn.CrossEntropyLoss()\n",
    "criterion = criterion.to(device=device)"
   ]
  },
  {
   "cell_type": "markdown",
   "metadata": {},
   "source": [
    "### Defining the number of epochs:"
   ]
  },
  {
   "cell_type": "code",
   "execution_count": 30,
   "metadata": {},
   "outputs": [],
   "source": [
    "epochs = 45 # 10 in the previous trial."
   ]
  },
  {
   "cell_type": "markdown",
   "metadata": {},
   "source": [
    "# Training the model"
   ]
  },
  {
   "cell_type": "code",
   "execution_count": 31,
   "metadata": {},
   "outputs": [
    {
     "name": "stderr",
     "output_type": "stream",
     "text": [
      "\r",
      "  0%|          | 0/45 [00:00<?, ?it/s]"
     ]
    },
    {
     "name": "stdout",
     "output_type": "stream",
     "text": [
      "Evaluating epoch...\n"
     ]
    },
    {
     "name": "stderr",
     "output_type": "stream",
     "text": [
      "\r",
      "  2%|▏         | 1/45 [01:34<1:09:03, 94.17s/it]"
     ]
    },
    {
     "name": "stdout",
     "output_type": "stream",
     "text": [
      "Learning rate: 0.001\n",
      "Epoch: 0 | Train_acc: 23.68% | Val_acc: 51.65% | Loss: 2106.57 | Runtime: 94.17 seconds\n",
      "Evaluating epoch...\n"
     ]
    },
    {
     "name": "stderr",
     "output_type": "stream",
     "text": [
      "\r",
      "  4%|▍         | 2/45 [03:05<1:06:24, 92.67s/it]"
     ]
    },
    {
     "name": "stdout",
     "output_type": "stream",
     "text": [
      "Learning rate: 0.001\n",
      "Epoch: 1 | Train_acc: 45.52% | Val_acc: 46.65% | Loss: 1257.12 | Runtime: 91.63 seconds\n",
      "Evaluating epoch...\n"
     ]
    },
    {
     "name": "stderr",
     "output_type": "stream",
     "text": [
      "\r",
      "  7%|▋         | 3/45 [04:38<1:04:43, 92.47s/it]"
     ]
    },
    {
     "name": "stdout",
     "output_type": "stream",
     "text": [
      "Learning rate: 0.001\n",
      "Epoch: 2 | Train_acc: 49.41% | Val_acc: 45.55% | Loss: 1137.22 | Runtime: 92.24 seconds\n",
      "Evaluating epoch...\n"
     ]
    },
    {
     "name": "stderr",
     "output_type": "stream",
     "text": [
      "\r",
      "  9%|▉         | 4/45 [06:09<1:02:58, 92.15s/it]"
     ]
    },
    {
     "name": "stdout",
     "output_type": "stream",
     "text": [
      "Learning rate: 0.001\n",
      "Epoch: 3 | Train_acc: 52.42% | Val_acc: 50.55% | Loss: 1064.23 | Runtime: 91.66 seconds\n",
      "Evaluating epoch...\n"
     ]
    },
    {
     "name": "stderr",
     "output_type": "stream",
     "text": [
      "\r",
      " 11%|█         | 5/45 [07:41<1:01:15, 91.89s/it]"
     ]
    },
    {
     "name": "stdout",
     "output_type": "stream",
     "text": [
      "Learning rate: 0.001\n",
      "Epoch: 4 | Train_acc: 51.37% | Val_acc: 55.84% | Loss: 1001.07 | Runtime: 91.42 seconds\n",
      "Evaluating epoch...\n"
     ]
    },
    {
     "name": "stderr",
     "output_type": "stream",
     "text": [
      "\r",
      " 13%|█▎        | 6/45 [09:12<59:37, 91.74s/it]  "
     ]
    },
    {
     "name": "stdout",
     "output_type": "stream",
     "text": [
      "Learning rate: 0.001\n",
      "Epoch: 5 | Train_acc: 60.90% | Val_acc: 55.64% | Loss: 949.53 | Runtime: 91.45 seconds\n",
      "Evaluating epoch...\n"
     ]
    },
    {
     "name": "stderr",
     "output_type": "stream",
     "text": [
      "\r",
      " 16%|█▌        | 7/45 [10:43<57:59, 91.55s/it]"
     ]
    },
    {
     "name": "stdout",
     "output_type": "stream",
     "text": [
      "Learning rate: 0.001\n",
      "Epoch: 6 | Train_acc: 59.91% | Val_acc: 62.24% | Loss: 900.26 | Runtime: 91.17 seconds\n",
      "Evaluating epoch...\n"
     ]
    },
    {
     "name": "stderr",
     "output_type": "stream",
     "text": [
      "\r",
      " 18%|█▊        | 8/45 [12:14<56:12, 91.15s/it]"
     ]
    },
    {
     "name": "stdout",
     "output_type": "stream",
     "text": [
      "Learning rate: 0.001\n",
      "Epoch: 7 | Train_acc: 66.26% | Val_acc: 66.53% | Loss: 860.94 | Runtime: 90.28 seconds\n",
      "Evaluating epoch...\n"
     ]
    },
    {
     "name": "stderr",
     "output_type": "stream",
     "text": [
      "\r",
      " 20%|██        | 9/45 [13:44<54:29, 90.83s/it]"
     ]
    },
    {
     "name": "stdout",
     "output_type": "stream",
     "text": [
      "Learning rate: 0.001\n",
      "Epoch: 8 | Train_acc: 63.41% | Val_acc: 68.73% | Loss: 827.04 | Runtime: 90.12 seconds\n",
      "Evaluating epoch...\n"
     ]
    },
    {
     "name": "stderr",
     "output_type": "stream",
     "text": [
      "\r",
      " 22%|██▏       | 10/45 [15:14<52:53, 90.67s/it]"
     ]
    },
    {
     "name": "stdout",
     "output_type": "stream",
     "text": [
      "Learning rate: 0.001\n",
      "Epoch: 9 | Train_acc: 64.45% | Val_acc: 71.43% | Loss: 797.40 | Runtime: 90.32 seconds\n",
      "Evaluating epoch...\n"
     ]
    },
    {
     "name": "stderr",
     "output_type": "stream",
     "text": [
      "\r",
      " 24%|██▍       | 11/45 [16:44<51:16, 90.50s/it]"
     ]
    },
    {
     "name": "stdout",
     "output_type": "stream",
     "text": [
      "Learning rate: 0.001\n",
      "Epoch: 10 | Train_acc: 67.78% | Val_acc: 65.63% | Loss: 768.24 | Runtime: 90.11 seconds\n",
      "Evaluating epoch...\n"
     ]
    },
    {
     "name": "stderr",
     "output_type": "stream",
     "text": [
      "\r",
      " 27%|██▋       | 12/45 [18:14<49:44, 90.43s/it]"
     ]
    },
    {
     "name": "stdout",
     "output_type": "stream",
     "text": [
      "Learning rate: 0.001\n",
      "Epoch: 11 | Train_acc: 69.14% | Val_acc: 72.13% | Loss: 739.49 | Runtime: 90.27 seconds\n",
      "Evaluating epoch...\n"
     ]
    },
    {
     "name": "stderr",
     "output_type": "stream",
     "text": [
      "\r",
      " 29%|██▉       | 13/45 [19:45<48:12, 90.38s/it]"
     ]
    },
    {
     "name": "stdout",
     "output_type": "stream",
     "text": [
      "Learning rate: 0.001\n",
      "Epoch: 12 | Train_acc: 70.04% | Val_acc: 60.84% | Loss: 718.49 | Runtime: 90.27 seconds\n",
      "Evaluating epoch...\n"
     ]
    },
    {
     "name": "stderr",
     "output_type": "stream",
     "text": [
      "\r",
      " 31%|███       | 14/45 [21:15<46:40, 90.32s/it]"
     ]
    },
    {
     "name": "stdout",
     "output_type": "stream",
     "text": [
      "Learning rate: 0.001\n",
      "Epoch: 13 | Train_acc: 66.68% | Val_acc: 56.04% | Loss: 696.67 | Runtime: 90.19 seconds\n",
      "Evaluating epoch...\n"
     ]
    },
    {
     "name": "stderr",
     "output_type": "stream",
     "text": [
      "\r",
      " 33%|███▎      | 15/45 [22:45<45:08, 90.27s/it]"
     ]
    },
    {
     "name": "stdout",
     "output_type": "stream",
     "text": [
      "Learning rate: 0.001\n",
      "Epoch: 14 | Train_acc: 71.85% | Val_acc: 71.73% | Loss: 670.95 | Runtime: 90.15 seconds\n",
      "Evaluating epoch...\n"
     ]
    },
    {
     "name": "stderr",
     "output_type": "stream",
     "text": [
      "\r",
      " 36%|███▌      | 16/45 [24:15<43:37, 90.25s/it]"
     ]
    },
    {
     "name": "stdout",
     "output_type": "stream",
     "text": [
      "Learning rate: 0.001\n",
      "Epoch: 15 | Train_acc: 73.81% | Val_acc: 66.83% | Loss: 651.15 | Runtime: 90.19 seconds\n",
      "Evaluating epoch...\n"
     ]
    },
    {
     "name": "stderr",
     "output_type": "stream",
     "text": [
      "\r",
      " 38%|███▊      | 17/45 [25:45<42:06, 90.24s/it]"
     ]
    },
    {
     "name": "stdout",
     "output_type": "stream",
     "text": [
      "Learning rate: 0.001\n",
      "Epoch: 16 | Train_acc: 77.01% | Val_acc: 70.33% | Loss: 634.81 | Runtime: 90.23 seconds\n",
      "Evaluating epoch...\n"
     ]
    },
    {
     "name": "stderr",
     "output_type": "stream",
     "text": [
      "\r",
      " 40%|████      | 18/45 [27:15<40:35, 90.21s/it]"
     ]
    },
    {
     "name": "stdout",
     "output_type": "stream",
     "text": [
      "Learning rate: 0.001\n",
      "Epoch: 17 | Train_acc: 74.47% | Val_acc: 65.33% | Loss: 611.99 | Runtime: 90.13 seconds\n",
      "Evaluating epoch...\n"
     ]
    },
    {
     "name": "stderr",
     "output_type": "stream",
     "text": [
      "\r",
      " 42%|████▏     | 19/45 [28:46<39:07, 90.27s/it]"
     ]
    },
    {
     "name": "stdout",
     "output_type": "stream",
     "text": [
      "Learning rate: 0.001\n",
      "Epoch: 18 | Train_acc: 76.94% | Val_acc: 72.43% | Loss: 597.69 | Runtime: 90.42 seconds\n",
      "Evaluating epoch...\n"
     ]
    },
    {
     "name": "stderr",
     "output_type": "stream",
     "text": [
      "\r",
      " 44%|████▍     | 20/45 [30:16<37:34, 90.17s/it]"
     ]
    },
    {
     "name": "stdout",
     "output_type": "stream",
     "text": [
      "Learning rate: 0.001\n",
      "Epoch: 19 | Train_acc: 78.76% | Val_acc: 74.13% | Loss: 581.21 | Runtime: 89.94 seconds\n",
      "Evaluating epoch...\n"
     ]
    },
    {
     "name": "stderr",
     "output_type": "stream",
     "text": [
      "\r",
      " 47%|████▋     | 21/45 [31:46<36:04, 90.20s/it]"
     ]
    },
    {
     "name": "stdout",
     "output_type": "stream",
     "text": [
      "Learning rate: 0.0001\n",
      "Epoch: 20 | Train_acc: 80.44% | Val_acc: 71.33% | Loss: 516.76 | Runtime: 90.25 seconds\n",
      "Evaluating epoch...\n"
     ]
    },
    {
     "name": "stderr",
     "output_type": "stream",
     "text": [
      "\r",
      " 49%|████▉     | 22/45 [33:16<34:34, 90.21s/it]"
     ]
    },
    {
     "name": "stdout",
     "output_type": "stream",
     "text": [
      "Learning rate: 0.0001\n",
      "Epoch: 21 | Train_acc: 80.31% | Val_acc: 68.93% | Loss: 510.59 | Runtime: 90.23 seconds\n",
      "Evaluating epoch...\n"
     ]
    },
    {
     "name": "stderr",
     "output_type": "stream",
     "text": [
      "\r",
      " 51%|█████     | 23/45 [34:47<33:05, 90.26s/it]"
     ]
    },
    {
     "name": "stdout",
     "output_type": "stream",
     "text": [
      "Learning rate: 0.0001\n",
      "Epoch: 22 | Train_acc: 80.69% | Val_acc: 70.13% | Loss: 507.74 | Runtime: 90.38 seconds\n",
      "Evaluating epoch...\n"
     ]
    },
    {
     "name": "stderr",
     "output_type": "stream",
     "text": [
      "\r",
      " 53%|█████▎    | 24/45 [36:19<31:47, 90.83s/it]"
     ]
    },
    {
     "name": "stdout",
     "output_type": "stream",
     "text": [
      "Learning rate: 0.0001\n",
      "Epoch: 23 | Train_acc: 80.82% | Val_acc: 70.33% | Loss: 507.42 | Runtime: 92.14 seconds\n",
      "Evaluating epoch...\n"
     ]
    },
    {
     "name": "stderr",
     "output_type": "stream",
     "text": [
      "\r",
      " 56%|█████▌    | 25/45 [37:49<30:12, 90.64s/it]"
     ]
    },
    {
     "name": "stdout",
     "output_type": "stream",
     "text": [
      "Learning rate: 0.0001\n",
      "Epoch: 24 | Train_acc: 80.71% | Val_acc: 72.93% | Loss: 504.22 | Runtime: 90.21 seconds\n",
      "Evaluating epoch...\n"
     ]
    },
    {
     "name": "stderr",
     "output_type": "stream",
     "text": [
      "\r",
      " 58%|█████▊    | 26/45 [39:19<28:39, 90.51s/it]"
     ]
    },
    {
     "name": "stdout",
     "output_type": "stream",
     "text": [
      "Learning rate: 0.0001\n",
      "Epoch: 25 | Train_acc: 80.99% | Val_acc: 69.03% | Loss: 500.80 | Runtime: 90.20 seconds\n",
      "Evaluating epoch...\n"
     ]
    },
    {
     "name": "stderr",
     "output_type": "stream",
     "text": [
      "\r",
      " 60%|██████    | 27/45 [40:50<27:09, 90.51s/it]"
     ]
    },
    {
     "name": "stdout",
     "output_type": "stream",
     "text": [
      "Learning rate: 0.0001\n",
      "Epoch: 26 | Train_acc: 81.12% | Val_acc: 70.33% | Loss: 499.67 | Runtime: 90.50 seconds\n",
      "Evaluating epoch...\n"
     ]
    },
    {
     "name": "stderr",
     "output_type": "stream",
     "text": [
      "\r",
      " 62%|██████▏   | 28/45 [42:20<25:36, 90.40s/it]"
     ]
    },
    {
     "name": "stdout",
     "output_type": "stream",
     "text": [
      "Learning rate: 0.0001\n",
      "Epoch: 27 | Train_acc: 81.01% | Val_acc: 70.63% | Loss: 496.88 | Runtime: 90.16 seconds\n",
      "Evaluating epoch...\n"
     ]
    },
    {
     "name": "stderr",
     "output_type": "stream",
     "text": [
      "\r",
      " 64%|██████▍   | 29/45 [43:50<24:05, 90.37s/it]"
     ]
    },
    {
     "name": "stdout",
     "output_type": "stream",
     "text": [
      "Learning rate: 0.0001\n",
      "Epoch: 28 | Train_acc: 80.39% | Val_acc: 71.53% | Loss: 495.15 | Runtime: 90.27 seconds\n",
      "Evaluating epoch...\n"
     ]
    },
    {
     "name": "stderr",
     "output_type": "stream",
     "text": [
      "\r",
      " 67%|██████▋   | 30/45 [45:20<22:34, 90.33s/it]"
     ]
    },
    {
     "name": "stdout",
     "output_type": "stream",
     "text": [
      "Learning rate: 0.0001\n",
      "Epoch: 29 | Train_acc: 81.08% | Val_acc: 70.63% | Loss: 492.19 | Runtime: 90.24 seconds\n",
      "Evaluating epoch...\n"
     ]
    },
    {
     "name": "stderr",
     "output_type": "stream",
     "text": [
      "\r",
      " 69%|██████▉   | 31/45 [46:51<21:03, 90.28s/it]"
     ]
    },
    {
     "name": "stdout",
     "output_type": "stream",
     "text": [
      "Learning rate: 0.0001\n",
      "Epoch: 30 | Train_acc: 79.99% | Val_acc: 71.23% | Loss: 492.08 | Runtime: 90.17 seconds\n",
      "Evaluating epoch...\n"
     ]
    },
    {
     "name": "stderr",
     "output_type": "stream",
     "text": [
      "\r",
      " 71%|███████   | 32/45 [48:21<19:34, 90.32s/it]"
     ]
    },
    {
     "name": "stdout",
     "output_type": "stream",
     "text": [
      "Learning rate: 0.0001\n",
      "Epoch: 31 | Train_acc: 81.31% | Val_acc: 71.83% | Loss: 489.18 | Runtime: 90.40 seconds\n",
      "Evaluating epoch...\n"
     ]
    },
    {
     "name": "stderr",
     "output_type": "stream",
     "text": [
      "\r",
      " 73%|███████▎  | 33/45 [49:51<18:03, 90.33s/it]"
     ]
    },
    {
     "name": "stdout",
     "output_type": "stream",
     "text": [
      "Learning rate: 0.0001\n",
      "Epoch: 32 | Train_acc: 81.34% | Val_acc: 70.43% | Loss: 486.38 | Runtime: 90.36 seconds\n",
      "Evaluating epoch...\n"
     ]
    },
    {
     "name": "stderr",
     "output_type": "stream",
     "text": [
      "\r",
      " 76%|███████▌  | 34/45 [51:22<16:33, 90.33s/it]"
     ]
    },
    {
     "name": "stdout",
     "output_type": "stream",
     "text": [
      "Learning rate: 0.0001\n",
      "Epoch: 33 | Train_acc: 81.50% | Val_acc: 70.73% | Loss: 484.32 | Runtime: 90.34 seconds\n",
      "Evaluating epoch...\n"
     ]
    },
    {
     "name": "stderr",
     "output_type": "stream",
     "text": [
      "\r",
      " 78%|███████▊  | 35/45 [52:52<15:03, 90.36s/it]"
     ]
    },
    {
     "name": "stdout",
     "output_type": "stream",
     "text": [
      "Learning rate: 0.0001\n",
      "Epoch: 34 | Train_acc: 81.18% | Val_acc: 70.93% | Loss: 481.06 | Runtime: 90.43 seconds\n",
      "Evaluating epoch...\n"
     ]
    },
    {
     "name": "stderr",
     "output_type": "stream",
     "text": [
      "\r",
      " 80%|████████  | 36/45 [54:23<13:33, 90.41s/it]"
     ]
    },
    {
     "name": "stdout",
     "output_type": "stream",
     "text": [
      "Learning rate: 0.0001\n",
      "Epoch: 35 | Train_acc: 81.21% | Val_acc: 70.93% | Loss: 480.00 | Runtime: 90.50 seconds\n",
      "Evaluating epoch...\n"
     ]
    },
    {
     "name": "stderr",
     "output_type": "stream",
     "text": [
      "\r",
      " 82%|████████▏ | 37/45 [55:53<12:03, 90.38s/it]"
     ]
    },
    {
     "name": "stdout",
     "output_type": "stream",
     "text": [
      "Learning rate: 0.0001\n",
      "Epoch: 36 | Train_acc: 81.53% | Val_acc: 70.13% | Loss: 479.41 | Runtime: 90.32 seconds\n",
      "Evaluating epoch...\n"
     ]
    },
    {
     "name": "stderr",
     "output_type": "stream",
     "text": [
      "\r",
      " 84%|████████▍ | 38/45 [57:23<10:32, 90.35s/it]"
     ]
    },
    {
     "name": "stdout",
     "output_type": "stream",
     "text": [
      "Learning rate: 0.0001\n",
      "Epoch: 37 | Train_acc: 81.75% | Val_acc: 69.63% | Loss: 477.48 | Runtime: 90.26 seconds\n",
      "Evaluating epoch...\n"
     ]
    },
    {
     "name": "stderr",
     "output_type": "stream",
     "text": [
      "\r",
      " 87%|████████▋ | 39/45 [58:54<09:02, 90.43s/it]"
     ]
    },
    {
     "name": "stdout",
     "output_type": "stream",
     "text": [
      "Learning rate: 0.0001\n",
      "Epoch: 38 | Train_acc: 81.88% | Val_acc: 70.93% | Loss: 476.73 | Runtime: 90.61 seconds\n",
      "Evaluating epoch...\n"
     ]
    },
    {
     "name": "stderr",
     "output_type": "stream",
     "text": [
      "\r",
      " 89%|████████▉ | 40/45 [1:00:24<07:31, 90.36s/it]"
     ]
    },
    {
     "name": "stdout",
     "output_type": "stream",
     "text": [
      "Learning rate: 0.0001\n",
      "Epoch: 39 | Train_acc: 81.51% | Val_acc: 72.03% | Loss: 471.19 | Runtime: 90.20 seconds\n",
      "Evaluating epoch...\n"
     ]
    },
    {
     "name": "stderr",
     "output_type": "stream",
     "text": [
      "\r",
      " 91%|█████████ | 41/45 [1:01:54<06:01, 90.29s/it]"
     ]
    },
    {
     "name": "stdout",
     "output_type": "stream",
     "text": [
      "Learning rate: 1e-05\n",
      "Epoch: 40 | Train_acc: 82.10% | Val_acc: 71.03% | Loss: 467.14 | Runtime: 90.14 seconds\n",
      "Evaluating epoch...\n"
     ]
    },
    {
     "name": "stderr",
     "output_type": "stream",
     "text": [
      "\r",
      " 93%|█████████▎| 42/45 [1:03:25<04:30, 90.30s/it]"
     ]
    },
    {
     "name": "stdout",
     "output_type": "stream",
     "text": [
      "Learning rate: 1e-05\n",
      "Epoch: 41 | Train_acc: 82.08% | Val_acc: 71.63% | Loss: 465.65 | Runtime: 90.31 seconds\n",
      "Evaluating epoch...\n"
     ]
    },
    {
     "name": "stderr",
     "output_type": "stream",
     "text": [
      "\r",
      " 96%|█████████▌| 43/45 [1:04:58<03:02, 91.24s/it]"
     ]
    },
    {
     "name": "stdout",
     "output_type": "stream",
     "text": [
      "Learning rate: 1e-05\n",
      "Epoch: 42 | Train_acc: 82.00% | Val_acc: 70.73% | Loss: 465.24 | Runtime: 93.43 seconds\n",
      "Evaluating epoch...\n"
     ]
    },
    {
     "name": "stderr",
     "output_type": "stream",
     "text": [
      "\r",
      " 98%|█████████▊| 44/45 [1:06:30<01:31, 91.45s/it]"
     ]
    },
    {
     "name": "stdout",
     "output_type": "stream",
     "text": [
      "Learning rate: 1e-05\n",
      "Epoch: 43 | Train_acc: 82.08% | Val_acc: 71.63% | Loss: 464.48 | Runtime: 91.95 seconds\n",
      "Evaluating epoch...\n"
     ]
    },
    {
     "name": "stderr",
     "output_type": "stream",
     "text": [
      "100%|██████████| 45/45 [1:08:01<00:00, 90.71s/it]"
     ]
    },
    {
     "name": "stdout",
     "output_type": "stream",
     "text": [
      "Learning rate: 1e-05\n",
      "Epoch: 44 | Train_acc: 82.13% | Val_acc: 71.13% | Loss: 464.29 | Runtime: 91.48 seconds\n"
     ]
    },
    {
     "name": "stderr",
     "output_type": "stream",
     "text": [
      "\n"
     ]
    }
   ],
   "source": [
    "total_loss, epoch_durations, accuracies_train, accuracies_validation = train(model=model,\n",
    "                                                                            train_loader=train_loader,\n",
    "                                                                            validation_loader=validation_loader,\n",
    "                                                                            criterion=criterion,\n",
    "                                                                            optimizer=optimizer,\n",
    "                                                                            scheduler=scheduler,\n",
    "                                                                            epochs=epochs,\n",
    "                                                                            verbose=True)"
   ]
  },
  {
   "cell_type": "code",
   "execution_count": 22,
   "metadata": {},
   "outputs": [
    {
     "data": {
      "image/png": "[encoded data removed]",
      "text/plain": [
       "<Figure size 400x240 with 1 Axes>"
      ]
     },
     "metadata": {
      "needs_background": "light"
     },
     "output_type": "display_data"
    },
    {
     "data": {
      "image/png": "[encoded data removed]",
      "text/plain": [
       "<Figure size 400x240 with 1 Axes>"
      ]
     },
     "metadata": {
      "needs_background": "light"
     },
     "output_type": "display_data"
    }
   ],
   "source": [
    "figure(figsize=(5, 3), dpi=80)\n",
    "plt.title('Accuracy')\n",
    "\n",
    "plt.xlabel(\"Epoch\")\n",
    "plt.ylabel(\"Accuracy\")\n",
    "plt.plot(accuracies_train, color='b')\n",
    "\n",
    "plt.show()\n",
    "\n",
    "figure(figsize=(5, 3), dpi=80)\n",
    "plt.title('Loss')\n",
    "plt.xlabel(\"Epoch\")\n",
    "plt.ylabel(\"Loss Value\")\n",
    "plt.plot(total_loss, color='r')\n",
    "plt.show()"
   ]
  },
  {
   "cell_type": "markdown",
   "metadata": {},
   "source": [
    "# Evaluating the model with the test set:"
   ]
  },
  {
   "cell_type": "code",
   "execution_count": 23,
   "metadata": {},
   "outputs": [],
   "source": [
    "test_accuracy = evaluate(model=model, data_loader=test_loader, device=device)"
   ]
  },
  {
   "cell_type": "code",
   "execution_count": 24,
   "metadata": {},
   "outputs": [
    {
     "name": "stdout",
     "output_type": "stream",
     "text": [
      "Test accuracy: 68.63%\n"
     ]
    }
   ],
   "source": [
    "print(f'Test accuracy: {test_accuracy:.2f}%')"
   ]
  }
 ],
 "metadata": {
  "kernelspec": {
   "display_name": "Python 3",
   "language": "python",
   "name": "python3"
  },
  "language_info": {
   "codemirror_mode": {
    "name": "ipython",
    "version": 3
   },
   "file_extension": ".py",
   "mimetype": "text/x-python",
   "name": "python",
   "nbconvert_exporter": "python",
   "pygments_lexer": "ipython3",
   "version": "3.7.11"
  },
  "vscode": {
   "interpreter": {
    "hash": "10eb846de63666c3d1da1aff7a31c23ecda0022b7e23d8d52b6d5432baf7978e"
   }
  }
 },
 "nbformat": 4,
 "nbformat_minor": 2
}
