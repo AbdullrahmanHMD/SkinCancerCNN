{
 "cells": [
  {
   "cell_type": "code",
   "execution_count": 1,
   "metadata": {},
   "outputs": [],
   "source": [
    "%load_ext autoreload\n",
    "%autoreload 2"
   ]
  },
  {
   "cell_type": "code",
   "execution_count": 2,
   "metadata": {},
   "outputs": [],
   "source": [
    "# Dataset imports:\n",
    "from data.moleDataset import *\n",
    "\n",
    "# Data augmenter imports:\n",
    "from data.data_augmentation import*\n",
    "\n",
    "# Torch imports:\n",
    "import torch\n",
    "import torch.nn as nn\n",
    "from torch import optim\n",
    "from torchvision import transforms\n",
    "from torch.utils.data import Subset, DataLoader, random_split\n",
    "\n",
    "# Model imports:\n",
    "from model import *\n",
    "\n",
    "# Train and evaluation imports:\n",
    "from train import train\n",
    "from evaluate import evaluate\n",
    "\n",
    "# Plotting imports:\n",
    "import matplotlib.pyplot as plt\n",
    "from matplotlib.pyplot import figure\n",
    "\n",
    "# General imports:\n",
    "import os\n",
    "import json\n",
    "import math"
   ]
  },
  {
   "cell_type": "code",
   "execution_count": 3,
   "metadata": {},
   "outputs": [],
   "source": [
    "os.environ['KMP_DUPLICATE_LIB_OK'] = 'True'"
   ]
  },
  {
   "cell_type": "markdown",
   "metadata": {},
   "source": [
    "### Defining the device"
   ]
  },
  {
   "cell_type": "code",
   "execution_count": 4,
   "metadata": {},
   "outputs": [
    {
     "name": "stdout",
     "output_type": "stream",
     "text": [
      "Using: NVIDIA GeForce GTX 1060 6GB\n",
      "Current device: cuda\n"
     ]
    }
   ],
   "source": [
    "device = 'cpu'\n",
    "if torch.cuda.is_available():\n",
    "    device = 'cuda'\n",
    "    print(f'Using: {torch.cuda.get_device_name(0)}')\n",
    "print(f'Current device: {device}')"
   ]
  },
  {
   "cell_type": "markdown",
   "metadata": {},
   "source": [
    "# Data preprocessing:"
   ]
  },
  {
   "cell_type": "markdown",
   "metadata": {},
   "source": [
    "### Getting the mean and standard deviation of the dataset in order to apply normalization on the data:"
   ]
  },
  {
   "cell_type": "code",
   "execution_count": 5,
   "metadata": {},
   "outputs": [
    {
     "name": "stdout",
     "output_type": "stream",
     "text": [
      "Dataset mean: \t\t\t[0.4944856143767711, 0.4950292797617727, 0.4954058302766022]\n",
      "Dataset standard deviation: \t[0.28984177278042145, 0.28989603043370027, 0.28941759149050483]\n"
     ]
    }
   ],
   "source": [
    "# Getting the path to the .txt file that contains the mean and std:\n",
    "DATA_STATS_FILE_NAME = \"dataset_stats.txt\"\n",
    "STATS_FILE_PATH = os.path.join(os.path.dirname(os.path.abspath('__file__')), 'data', DATA_STATS_FILE_NAME)\n",
    "\n",
    "# Reading the statistics file:\n",
    "stats_dict = None\n",
    "with open(STATS_FILE_PATH, 'r') as stats_file:\n",
    "    stats_dict = json.loads(stats_file.read())\n",
    "    \n",
    "mean, std = stats_dict['mean'], stats_dict['std']\n",
    "\n",
    "print(f'Dataset mean: \\t\\t\\t{mean}\\nDataset standard deviation: \\t{std}')"
   ]
  },
  {
   "cell_type": "markdown",
   "metadata": {},
   "source": [
    "### Creating the preprocessing operations that the images will undergo:"
   ]
  },
  {
   "cell_type": "code",
   "execution_count": 6,
   "metadata": {},
   "outputs": [],
   "source": [
    "# This Compose includes the following:\n",
    "#     1) Transforms the images to tensors.\n",
    "#     2) Normalized the dataset.\n",
    "#     3) Sharpens the images.\n",
    "image_preprocessing = transforms.Compose([\n",
    "                            transforms.ToTensor(),\n",
    "                            transforms.transforms.Normalize(mean, std),\n",
    "                            lambda image : transforms.functional.adjust_sharpness(image,\n",
    "                                                                                sharpness_factor=2)])\n",
    "\n",
    "image_preprocessing = transforms.Compose([\n",
    "                            transforms.ToTensor(),\n",
    "                            transforms.transforms.Normalize(mean, std)])\n",
    "\n",
    "# This transform is the same as the above one but it does not convert to Tensor\n",
    "# So the returned image from the dataset can be visualized easier.\n",
    "image_preprocessing_test = transforms.Compose([\n",
    "                            transforms.transforms.Normalize(mean, std),\n",
    "                            lambda image : transforms.functional.adjust_sharpness(image,\n",
    "                                                                                sharpness_factor=2)])"
   ]
  },
  {
   "cell_type": "markdown",
   "metadata": {},
   "source": [
    "# Defining the dataset:"
   ]
  },
  {
   "cell_type": "code",
   "execution_count": 7,
   "metadata": {},
   "outputs": [],
   "source": [
    "# Creating the dataset instance:\n",
    "test_dataset = MoleDataset(transform=image_preprocessing)"
   ]
  },
  {
   "cell_type": "markdown",
   "metadata": {},
   "source": [
    "### The dataset class distribution:"
   ]
  },
  {
   "cell_type": "code",
   "execution_count": 8,
   "metadata": {
    "scrolled": true
   },
   "outputs": [
    {
     "data": {
      "text/plain": [
       "{'akiec': 327,\n",
       " 'bcc': 514,\n",
       " 'bkl': 1099,\n",
       " 'df': 115,\n",
       " 'mel': 1113,\n",
       " 'nv': 6705,\n",
       " 'vasc': 142}"
      ]
     },
     "execution_count": 8,
     "metadata": {},
     "output_type": "execute_result"
    }
   ],
   "source": [
    "data_dist = test_dataset.get_data_distribution()\n",
    "data_dist"
   ]
  },
  {
   "cell_type": "markdown",
   "metadata": {},
   "source": [
    "### Plotting the data distribution:"
   ]
  },
  {
   "cell_type": "code",
   "execution_count": null,
   "metadata": {},
   "outputs": [],
   "source": [
    "figure(figsize=(10, 6), dpi=80)\n",
    "plt.title('Data Distribution')\n",
    "\n",
    "y = list(data_dist.values())\n",
    "x = [f'{label} ({count})' for label, count in zip(data_dist.keys(), data_dist.values())]\n",
    "\n",
    "plt.xlabel(\"Class\")\n",
    "plt.ylabel(\"Frequency\")\n",
    "plt.bar(x, y, color='b')\n",
    "\n",
    "plt.show()"
   ]
  },
  {
   "cell_type": "markdown",
   "metadata": {},
   "source": [
    "# Overfitting Experiment:"
   ]
  },
  {
   "cell_type": "markdown",
   "metadata": {},
   "source": [
    "### Creating a subset for training:"
   ]
  },
  {
   "cell_type": "code",
   "execution_count": null,
   "metadata": {
    "scrolled": true
   },
   "outputs": [],
   "source": [
    "SUBSET_SIZE = 100\n",
    "selected_class = 2\n",
    "sample_array_1 = test_dataset.get_class_indecies(selected_class)\n",
    "\n",
    "selected_class = 4\n",
    "sample_array_2 = test_dataset.get_class_indecies(selected_class)\n",
    "\n",
    "sample_array = sample_array_1 + sample_array_2\n",
    "\n",
    "subset_indicies = np.random.choice(sample_array, SUBSET_SIZE, replace=False)\n",
    "train_subset = Subset(test_dataset, subset_indicies)"
   ]
  },
  {
   "cell_type": "code",
   "execution_count": null,
   "metadata": {},
   "outputs": [],
   "source": [
    "subset_loader = DataLoader(train_subset, shuffle=True, batch_size=32)"
   ]
  },
  {
   "cell_type": "markdown",
   "metadata": {},
   "source": [
    "### Creating the model:"
   ]
  },
  {
   "cell_type": "code",
   "execution_count": null,
   "metadata": {},
   "outputs": [],
   "source": [
    "model_overfit = SkinCancerModel()"
   ]
  },
  {
   "cell_type": "markdown",
   "metadata": {},
   "source": [
    "### The hyperparameters, the loss function and the optimizer:"
   ]
  },
  {
   "cell_type": "code",
   "execution_count": null,
   "metadata": {},
   "outputs": [],
   "source": [
    "learning_rate = 1e-3\n",
    "momentum = 0.9\n",
    "\n",
    "criterion = nn.CrossEntropyLoss()\n",
    "optimizer = optim.SGD(model_overfit.parameters(), lr=learning_rate, momentum=momentum)"
   ]
  },
  {
   "cell_type": "code",
   "execution_count": null,
   "metadata": {},
   "outputs": [],
   "source": [
    "epochs = 60"
   ]
  },
  {
   "cell_type": "markdown",
   "metadata": {},
   "source": [
    "### Overfitting the model:"
   ]
  },
  {
   "cell_type": "code",
   "execution_count": null,
   "metadata": {},
   "outputs": [],
   "source": [
    "total_loss, epoch_durations, accuracies_train, accuracies_validation = train(model=model_overfit,\n",
    "                                                                            train_loader=subset_loader,\n",
    "                                                                            validation_loader=subset_loader,\n",
    "                                                                            criterion=criterion,\n",
    "                                                                            optimizer=optimizer,\n",
    "                                                                            epochs=epochs,\n",
    "                                                                            verbose=True)"
   ]
  },
  {
   "cell_type": "code",
   "execution_count": null,
   "metadata": {},
   "outputs": [],
   "source": [
    "figure(figsize=(5, 3), dpi=80)\n",
    "plt.title('Overfitting Experiment Accuracy')\n",
    "\n",
    "plt.xlabel(\"Epoch\")\n",
    "plt.ylabel(\"Accuracy\")\n",
    "plt.plot(accuracies_train, color='b')\n",
    "\n",
    "plt.show()\n",
    "\n",
    "figure(figsize=(5, 3), dpi=80)\n",
    "plt.title('Loss')\n",
    "plt.xlabel(\"Epoch\")\n",
    "plt.ylabel(\"Loss Value\")\n",
    "plt.plot(total_loss, color='r')\n",
    "plt.show()"
   ]
  },
  {
   "cell_type": "markdown",
   "metadata": {},
   "source": [
    "# Setting up the actual model:"
   ]
  },
  {
   "cell_type": "markdown",
   "metadata": {},
   "source": [
    "### Defining the Dataset object:"
   ]
  },
  {
   "cell_type": "code",
   "execution_count": 7,
   "metadata": {},
   "outputs": [],
   "source": [
    "dataset = MoleDataset()"
   ]
  },
  {
   "cell_type": "markdown",
   "metadata": {},
   "source": [
    "### Splitting the dataset into train, validation, and test sets:"
   ]
  },
  {
   "cell_type": "code",
   "execution_count": 8,
   "metadata": {
    "scrolled": true
   },
   "outputs": [],
   "source": [
    "# Defining the proportions of how the dataset will be split:\n",
    "train_proportion = 0.8\n",
    "validation_proportion = 0.1\n",
    "test_proportion = 0.1\n",
    "\n",
    "# Defining the sizes of the splits:\n",
    "\n",
    "# 1) The train set size:\n",
    "train_size = math.ceil(train_proportion * len(dataset))\n",
    "\n",
    "# 2) The validation set size:\n",
    "validation_size = math.ceil(validation_proportion * len(dataset))\n",
    "\n",
    "# 3) The test set size:\n",
    "test_size = math.floor(test_proportion * len(dataset))\n",
    "\n",
    "# Defining the indecies of the train, validation and test sets:\n",
    "all_indecies = np.random.choice(list(range(len(dataset))), (10, len(dataset) // 10), replace=False)\n",
    "\n",
    "train_set_ind = np.random.choice(list(range(all_indecies.shape[0])), int(train_proportion * 10), replace=False)\n",
    "val_set_ind = np.random.choice(list(range(all_indecies.shape[0])), int(validation_proportion * 10), replace=False)\n",
    "test_set_ind = np.random.choice(list(range(all_indecies.shape[0])), int(test_proportion * 10), replace=False)\n",
    "\n",
    "train_set_ind = np.append([], all_indecies[train_set_ind]).astype(np.int)\n",
    "val_set_ind = np.append([], all_indecies[val_set_ind]).astype(np.int)\n",
    "test_set_ind = np.append([], all_indecies[test_set_ind]).astype(np.int)\n",
    "\n",
    "# # Defining the train, validation, and test sets:\n",
    "class_threshold = 3000\n",
    "train_set = MoleDataset(indecies=train_set_ind, class_threshold=class_threshold)\n",
    "# train_set = MoleDataset(indecies=train_set_ind)\n",
    "validation_set = MoleDataset(transform=image_preprocessing, indecies=val_set_ind)\n",
    "test_set = MoleDataset(transform=image_preprocessing, indecies=test_set_ind)"
   ]
  },
  {
   "cell_type": "code",
   "execution_count": 9,
   "metadata": {},
   "outputs": [],
   "source": [
    "# i = 4\n",
    "\n",
    "# # print(f'Metadata {train_set.metadata.iloc[i, :]}')\n",
    "# print(f'Mapped label: {train_set.mapped_labels[i]}')\n",
    "# print(f'Label from the instance: {train_set.labels[i]}')\n",
    "# print(f'Label: {train_set[i][1]}')\n",
    "# print(train_set[i][2])\n",
    "\n",
    "\n",
    "# image = train_set[i][0]\n",
    "# plt.imshow(image.permute(1, 2, 0))"
   ]
  },
  {
   "cell_type": "code",
   "execution_count": 10,
   "metadata": {
    "scrolled": true
   },
   "outputs": [
    {
     "name": "stdout",
     "output_type": "stream",
     "text": [
      "5601\n"
     ]
    },
    {
     "data": {
      "text/plain": [
       "{'akiec': 252,\n",
       " 'bcc': 400,\n",
       " 'bkl': 858,\n",
       " 'df': 90,\n",
       " 'mel': 886,\n",
       " 'nv': 3000,\n",
       " 'vasc': 115}"
      ]
     },
     "execution_count": 10,
     "metadata": {},
     "output_type": "execute_result"
    }
   ],
   "source": [
    "data_dist = train_set.get_data_distribution()\n",
    "print(len(train_set))\n",
    "data_dist"
   ]
  },
  {
   "cell_type": "markdown",
   "metadata": {},
   "source": [
    "### Plotting the train data distribution before augmentation"
   ]
  },
  {
   "cell_type": "code",
   "execution_count": 11,
   "metadata": {
    "scrolled": true
   },
   "outputs": [
    {
     "data": {
      "image/png": "[encoded data removed]",
      "text/plain": [
       "<Figure size 800x480 with 1 Axes>"
      ]
     },
     "metadata": {
      "needs_background": "light"
     },
     "output_type": "display_data"
    }
   ],
   "source": [
    "figure(figsize=(10, 6), dpi=80)\n",
    "plt.title('Data Distribution')\n",
    "\n",
    "y = list(data_dist.values())\n",
    "x = [f'{label} ({count})' for label, count in zip(data_dist.keys(), data_dist.values())]\n",
    "\n",
    "plt.xlabel(\"Class\")\n",
    "plt.ylabel(\"Frequency\")\n",
    "plt.bar(x, y, color='b')\n",
    "\n",
    "plt.show()"
   ]
  },
  {
   "cell_type": "markdown",
   "metadata": {},
   "source": [
    "# Augmenting the training data:"
   ]
  },
  {
   "cell_type": "code",
   "execution_count": 13,
   "metadata": {},
   "outputs": [
    {
     "name": "stdout",
     "output_type": "stream",
     "text": [
      "Number of data points to be augmented: 15381\n"
     ]
    },
    {
     "data": {
      "text/plain": [
       "array([2741, 2586, 2123, 2912, 2135,    0, 2884], dtype=int64)"
      ]
     },
     "execution_count": 13,
     "metadata": {},
     "output_type": "execute_result"
    }
   ],
   "source": [
    "augmentation_amount = np.array([class_threshold - i for i in data_dist.values()])\n",
    "print(f'Number of data points to be augmented: {sum(augmentation_amount)}')\n",
    "augmentation_amount"
   ]
  },
  {
   "cell_type": "code",
   "execution_count": 19,
   "metadata": {
    "scrolled": false
   },
   "outputs": [
    {
     "name": "stdout",
     "output_type": "stream",
     "text": [
      "Cannot delete the augmented images due to at least one of the following reasons:\n",
      "1) The augemented images' folder contains a file that is not an augmented image or the metadata csv file.\n",
      "2) The augemented images' folder does not contain any augmented image.\n",
      "3) The augmented images' folder does not contain the metadatacsv file\n",
      "\n",
      "class: akiec | amount augmented: 2744\n"
     ]
    },
    {
     "name": "stderr",
     "output_type": "stream",
     "text": [
      "C:\\Users\\abooo\\anaconda3\\envs\\comp411\\lib\\site-packages\\pandas\\core\\series.py:1056: SettingWithCopyWarning: \n",
      "A value is trying to be set on a copy of a slice from a DataFrame\n",
      "\n",
      "See the caveats in the documentation: https://pandas.pydata.org/pandas-docs/stable/user_guide/indexing.html#returning-a-view-versus-a-copy\n",
      "  cacher_needs_updating = self._check_is_chained_assignment_possible()\n"
     ]
    },
    {
     "name": "stdout",
     "output_type": "stream",
     "text": [
      "class: bcc | amount augmented: 2577\n",
      "class: bkl | amount augmented: 2121\n",
      "class: df | amount augmented: 2897\n",
      "class: mel | amount augmented: 2129\n",
      "class: nv | amount augmented: 0\n",
      "class: vasc | amount augmented: 2887\n"
     ]
    }
   ],
   "source": [
    "# Getting the path where the augmented data will be placed:\n",
    "augmention_path_location = os.path.join(os.path.dirname(os.path.abspath(\"__file__\")), 'data', 'dataset_location.txt')\n",
    "augmentation_path = None\n",
    "with open(augmention_path_location, 'r') as file:\n",
    "    augmentation_path = json.loads(file.read())\n",
    "    augmentation_path = augmentation_path['aug_data']\n",
    "    \n",
    "    \n",
    "# Note: Uncomment this code if you want to augment new data.\n",
    "# augmenter = DataAugmenter(dataset=train_set, augmentation_path=augmentation_path)\n",
    "# Note: set replace to True if you want to delete the already augmented data and augment new data\n",
    "# augmenter.augment_multiple_classes(list(train_set.mapping.keys()), augmentation_amount, replace=True)"
   ]
  },
  {
   "cell_type": "code",
   "execution_count": 12,
   "metadata": {
    "scrolled": false
   },
   "outputs": [],
   "source": [
    "# train_set = MoleDataset(transform=image_preprocessing, indecies=train_set_ind, augment=True)\n",
    "train_set = MoleDataset(transform=image_preprocessing, indecies=train_set_ind, augment=True, class_threshold=class_threshold)"
   ]
  },
  {
   "cell_type": "code",
   "execution_count": 13,
   "metadata": {
    "scrolled": true
   },
   "outputs": [
    {
     "data": {
      "text/plain": [
       "{'akiec': 2996,\n",
       " 'bcc': 2977,\n",
       " 'bkl': 2979,\n",
       " 'df': 2987,\n",
       " 'mel': 3000,\n",
       " 'nv': 3000,\n",
       " 'vasc': 3000}"
      ]
     },
     "execution_count": 13,
     "metadata": {},
     "output_type": "execute_result"
    }
   ],
   "source": [
    "data_dist = train_set.get_data_distribution()\n",
    "data_dist"
   ]
  },
  {
   "cell_type": "markdown",
   "metadata": {},
   "source": [
    "# Plotting the data distribution after the augmentation:"
   ]
  },
  {
   "cell_type": "code",
   "execution_count": 14,
   "metadata": {},
   "outputs": [
    {
     "data": {
      "image/png": "[encoded data removed]",
      "text/plain": [
       "<Figure size 800x480 with 1 Axes>"
      ]
     },
     "metadata": {
      "needs_background": "light"
     },
     "output_type": "display_data"
    }
   ],
   "source": [
    "figure(figsize=(10, 6), dpi=80)\n",
    "plt.title('Data Distribution')\n",
    "\n",
    "y = list(data_dist.values())\n",
    "x = [f'{label} ({count})' for label, count in zip(data_dist.keys(), data_dist.values())]\n",
    "\n",
    "plt.xlabel(\"Class\")\n",
    "plt.ylabel(\"Frequency\")\n",
    "plt.bar(x, y, color='b')\n",
    "\n",
    "plt.show()"
   ]
  },
  {
   "cell_type": "markdown",
   "metadata": {},
   "source": [
    "### Creating the DataLoader objects:"
   ]
  },
  {
   "cell_type": "code",
   "execution_count": 15,
   "metadata": {},
   "outputs": [],
   "source": [
    "train_batch_size, validation_batch_size, test_batch_size = 16, 16, 32\n",
    "\n",
    "# Setting the num_workers to the number of cores on this machine.\n",
    "num_workers = 4\n",
    "\n",
    "train_loader = DataLoader(train_set, shuffle=True, batch_size=train_batch_size, num_workers=num_workers)\n",
    "validation_loader = DataLoader(validation_set, shuffle=True, batch_size=validation_batch_size, num_workers=num_workers)\n",
    "test_loader = DataLoader(test_set, shuffle=True, batch_size=test_batch_size, num_workers=num_workers)"
   ]
  },
  {
   "cell_type": "markdown",
   "metadata": {},
   "source": [
    "### Creating the model:"
   ]
  },
  {
   "cell_type": "code",
   "execution_count": 16,
   "metadata": {},
   "outputs": [],
   "source": [
    "dropout_prob = 0.5"
   ]
  },
  {
   "cell_type": "code",
   "execution_count": 17,
   "metadata": {},
   "outputs": [],
   "source": [
    "model = SkinCancerModel(dropout_prob=dropout_prob)"
   ]
  },
  {
   "cell_type": "markdown",
   "metadata": {},
   "source": [
    "### Defining the optimizer, criterion, and hyperparameters:"
   ]
  },
  {
   "cell_type": "code",
   "execution_count": 28,
   "metadata": {},
   "outputs": [],
   "source": [
    "learning_rate = 1e-3 # 1e-3\n",
    "weight_decay = 1e-7 # 5e-6\n",
    "\n",
    "# Getting the classes weights:\n",
    "# loss_weights = torch.tensor(dataset.class_weights(), dtype=torch.float)\n",
    "\n",
    "# Defining the optimizer:\n",
    "momentum = 0.9\n",
    "optimizer = optim.SGD(model.parameters(), lr=learning_rate, momentum=momentum, weight_decay=weight_decay)\n",
    "# optimizer = optim.Adam(model.parameters(), lr=learning_rate, weight_decay=weight_decay)\n",
    "\n",
    "# Defining the learning rate schedular:\n",
    "scheduler = optim.lr_scheduler.StepLR(optimizer, step_size=25, gamma=0.1) # step_size=30\n",
    "# scheduler = None # Try without a scheduler\n",
    " \n",
    "# Defining the weighted loss function:\n",
    "# criterion = nn.CrossEntropyLoss(weight=loss_weights)\n",
    "criterion = nn.CrossEntropyLoss()\n",
    "criterion = criterion.to(device=device)"
   ]
  },
  {
   "cell_type": "markdown",
   "metadata": {},
   "source": [
    "### Defining the number of epochs:"
   ]
  },
  {
   "cell_type": "code",
   "execution_count": 29,
   "metadata": {},
   "outputs": [],
   "source": [
    "epochs = 40 # 50"
   ]
  },
  {
   "cell_type": "markdown",
   "metadata": {},
   "source": [
    "# Training the model"
   ]
  },
  {
   "cell_type": "code",
   "execution_count": 30,
   "metadata": {},
   "outputs": [
    {
     "name": "stderr",
     "output_type": "stream",
     "text": [
      "\r",
      "  0%|          | 0/40 [00:00<?, ?it/s]"
     ]
    },
    {
     "name": "stdout",
     "output_type": "stream",
     "text": [
      "Evaluating epoch...\n"
     ]
    },
    {
     "name": "stderr",
     "output_type": "stream",
     "text": [
      "\r",
      "  2%|▎         | 1/40 [03:49<2:28:53, 229.06s/it]"
     ]
    },
    {
     "name": "stdout",
     "output_type": "stream",
     "text": [
      "Learning rate: 0.001\n",
      "Epoch: 0 | Train_acc: 29.02% | Val_acc: 34.07% | Loss: 2365.95 | Runtime: 229.06 seconds\n",
      "Evaluating epoch...\n"
     ]
    },
    {
     "name": "stderr",
     "output_type": "stream",
     "text": [
      "\r",
      "  5%|▌         | 2/40 [07:34<2:23:45, 226.98s/it]"
     ]
    },
    {
     "name": "stdout",
     "output_type": "stream",
     "text": [
      "Learning rate: 0.001\n",
      "Epoch: 1 | Train_acc: 59.73% | Val_acc: 58.14% | Loss: 1723.32 | Runtime: 225.51 seconds\n",
      "Evaluating epoch...\n"
     ]
    },
    {
     "name": "stderr",
     "output_type": "stream",
     "text": [
      "\r",
      "  8%|▊         | 3/40 [11:15<2:18:11, 224.10s/it]"
     ]
    },
    {
     "name": "stdout",
     "output_type": "stream",
     "text": [
      "Learning rate: 0.001\n",
      "Epoch: 2 | Train_acc: 69.57% | Val_acc: 63.24% | Loss: 1377.17 | Runtime: 220.67 seconds\n",
      "Evaluating epoch...\n"
     ]
    },
    {
     "name": "stderr",
     "output_type": "stream",
     "text": [
      "\r",
      " 10%|█         | 4/40 [14:59<2:14:28, 224.13s/it]"
     ]
    },
    {
     "name": "stdout",
     "output_type": "stream",
     "text": [
      "Learning rate: 0.001\n",
      "Epoch: 3 | Train_acc: 74.22% | Val_acc: 58.04% | Loss: 1150.60 | Runtime: 224.19 seconds\n",
      "Evaluating epoch...\n"
     ]
    },
    {
     "name": "stderr",
     "output_type": "stream",
     "text": [
      "\r",
      " 12%|█▎        | 5/40 [18:47<2:11:31, 225.46s/it]"
     ]
    },
    {
     "name": "stdout",
     "output_type": "stream",
     "text": [
      "Learning rate: 0.001\n",
      "Epoch: 4 | Train_acc: 78.56% | Val_acc: 64.34% | Loss: 987.41 | Runtime: 227.81 seconds\n",
      "Evaluating epoch...\n"
     ]
    },
    {
     "name": "stderr",
     "output_type": "stream",
     "text": [
      "\r",
      " 15%|█▌        | 6/40 [22:22<2:05:51, 222.09s/it]"
     ]
    },
    {
     "name": "stdout",
     "output_type": "stream",
     "text": [
      "Learning rate: 0.001\n",
      "Epoch: 5 | Train_acc: 82.14% | Val_acc: 72.13% | Loss: 870.48 | Runtime: 215.55 seconds\n",
      "Evaluating epoch...\n"
     ]
    },
    {
     "name": "stderr",
     "output_type": "stream",
     "text": [
      "\r",
      " 18%|█▊        | 7/40 [26:03<2:01:55, 221.67s/it]"
     ]
    },
    {
     "name": "stdout",
     "output_type": "stream",
     "text": [
      "Learning rate: 0.001\n",
      "Epoch: 6 | Train_acc: 83.58% | Val_acc: 66.53% | Loss: 772.80 | Runtime: 220.81 seconds\n",
      "Evaluating epoch...\n"
     ]
    },
    {
     "name": "stderr",
     "output_type": "stream",
     "text": [
      "\r",
      " 20%|██        | 8/40 [29:36<1:56:47, 218.99s/it]"
     ]
    },
    {
     "name": "stdout",
     "output_type": "stream",
     "text": [
      "Learning rate: 0.001\n",
      "Epoch: 7 | Train_acc: 84.12% | Val_acc: 73.33% | Loss: 696.94 | Runtime: 213.25 seconds\n",
      "Evaluating epoch...\n"
     ]
    },
    {
     "name": "stderr",
     "output_type": "stream",
     "text": [
      "\r",
      " 22%|██▎       | 9/40 [33:32<1:55:49, 224.18s/it]"
     ]
    },
    {
     "name": "stdout",
     "output_type": "stream",
     "text": [
      "Learning rate: 0.0001\n",
      "Epoch: 8 | Train_acc: 88.73% | Val_acc: 77.62% | Loss: 497.01 | Runtime: 235.59 seconds\n",
      "Evaluating epoch...\n"
     ]
    },
    {
     "name": "stderr",
     "output_type": "stream",
     "text": [
      "\r",
      " 25%|██▌       | 10/40 [37:03<1:50:00, 220.02s/it]"
     ]
    },
    {
     "name": "stdout",
     "output_type": "stream",
     "text": [
      "Learning rate: 0.0001\n",
      "Epoch: 9 | Train_acc: 89.26% | Val_acc: 75.42% | Loss: 457.90 | Runtime: 210.71 seconds\n",
      "Evaluating epoch...\n"
     ]
    },
    {
     "name": "stderr",
     "output_type": "stream",
     "text": [
      "\r",
      " 28%|██▊       | 11/40 [40:43<1:46:24, 220.16s/it]"
     ]
    },
    {
     "name": "stdout",
     "output_type": "stream",
     "text": [
      "Learning rate: 0.0001\n",
      "Epoch: 10 | Train_acc: 89.69% | Val_acc: 77.32% | Loss: 439.41 | Runtime: 220.46 seconds\n",
      "Evaluating epoch...\n"
     ]
    },
    {
     "name": "stderr",
     "output_type": "stream",
     "text": [
      "\r",
      " 30%|███       | 12/40 [44:16<1:41:39, 217.84s/it]"
     ]
    },
    {
     "name": "stdout",
     "output_type": "stream",
     "text": [
      "Learning rate: 0.0001\n",
      "Epoch: 11 | Train_acc: 90.08% | Val_acc: 77.62% | Loss: 423.94 | Runtime: 212.55 seconds\n",
      "Evaluating epoch...\n"
     ]
    },
    {
     "name": "stderr",
     "output_type": "stream",
     "text": [
      "\r",
      " 32%|███▎      | 13/40 [47:46<1:36:57, 215.46s/it]"
     ]
    },
    {
     "name": "stdout",
     "output_type": "stream",
     "text": [
      "Learning rate: 0.0001\n",
      "Epoch: 12 | Train_acc: 90.36% | Val_acc: 78.72% | Loss: 412.00 | Runtime: 209.98 seconds\n",
      "Evaluating epoch...\n"
     ]
    },
    {
     "name": "stderr",
     "output_type": "stream",
     "text": [
      "\r",
      " 35%|███▌      | 14/40 [51:18<1:33:00, 214.64s/it]"
     ]
    },
    {
     "name": "stdout",
     "output_type": "stream",
     "text": [
      "Learning rate: 0.0001\n",
      "Epoch: 13 | Train_acc: 90.80% | Val_acc: 76.72% | Loss: 401.43 | Runtime: 212.73 seconds\n",
      "Evaluating epoch...\n"
     ]
    },
    {
     "name": "stderr",
     "output_type": "stream",
     "text": [
      "\r",
      " 38%|███▊      | 15/40 [54:45<1:28:23, 212.13s/it]"
     ]
    },
    {
     "name": "stdout",
     "output_type": "stream",
     "text": [
      "Learning rate: 0.0001\n",
      "Epoch: 14 | Train_acc: 90.64% | Val_acc: 74.73% | Loss: 389.50 | Runtime: 206.32 seconds\n",
      "Evaluating epoch...\n"
     ]
    },
    {
     "name": "stderr",
     "output_type": "stream",
     "text": [
      "\r",
      " 40%|████      | 16/40 [58:10<1:24:04, 210.18s/it]"
     ]
    },
    {
     "name": "stdout",
     "output_type": "stream",
     "text": [
      "Learning rate: 0.0001\n",
      "Epoch: 15 | Train_acc: 91.04% | Val_acc: 75.92% | Loss: 380.07 | Runtime: 205.67 seconds\n",
      "Evaluating epoch...\n"
     ]
    },
    {
     "name": "stderr",
     "output_type": "stream",
     "text": [
      "\r",
      " 42%|████▎     | 17/40 [1:01:45<1:21:02, 211.42s/it]"
     ]
    },
    {
     "name": "stdout",
     "output_type": "stream",
     "text": [
      "Learning rate: 1e-05\n",
      "Epoch: 16 | Train_acc: 91.63% | Val_acc: 78.52% | Loss: 351.56 | Runtime: 214.29 seconds\n",
      "Evaluating epoch...\n"
     ]
    },
    {
     "name": "stderr",
     "output_type": "stream",
     "text": [
      "\r",
      " 45%|████▌     | 18/40 [1:05:24<1:18:22, 213.75s/it]"
     ]
    },
    {
     "name": "stdout",
     "output_type": "stream",
     "text": [
      "Learning rate: 1e-05\n",
      "Epoch: 17 | Train_acc: 91.79% | Val_acc: 78.22% | Loss: 347.42 | Runtime: 219.17 seconds\n",
      "Evaluating epoch...\n"
     ]
    },
    {
     "name": "stderr",
     "output_type": "stream",
     "text": [
      "\r",
      " 48%|████▊     | 19/40 [1:09:17<1:16:48, 219.45s/it]"
     ]
    },
    {
     "name": "stdout",
     "output_type": "stream",
     "text": [
      "Learning rate: 1e-05\n",
      "Epoch: 18 | Train_acc: 91.69% | Val_acc: 78.22% | Loss: 346.05 | Runtime: 232.74 seconds\n",
      "Evaluating epoch...\n"
     ]
    },
    {
     "name": "stderr",
     "output_type": "stream",
     "text": [
      "\r",
      " 50%|█████     | 20/40 [1:13:14<1:14:56, 224.82s/it]"
     ]
    },
    {
     "name": "stdout",
     "output_type": "stream",
     "text": [
      "Learning rate: 1e-05\n",
      "Epoch: 19 | Train_acc: 91.81% | Val_acc: 77.52% | Loss: 344.43 | Runtime: 237.34 seconds\n",
      "Evaluating epoch...\n"
     ]
    },
    {
     "name": "stderr",
     "output_type": "stream",
     "text": [
      "\r",
      " 52%|█████▎    | 21/40 [1:17:16<1:12:49, 229.99s/it]"
     ]
    },
    {
     "name": "stdout",
     "output_type": "stream",
     "text": [
      "Learning rate: 1e-05\n",
      "Epoch: 20 | Train_acc: 91.70% | Val_acc: 78.42% | Loss: 343.18 | Runtime: 242.02 seconds\n",
      "Evaluating epoch...\n"
     ]
    },
    {
     "name": "stderr",
     "output_type": "stream",
     "text": [
      "\r",
      " 55%|█████▌    | 22/40 [1:21:13<1:09:37, 232.10s/it]"
     ]
    },
    {
     "name": "stdout",
     "output_type": "stream",
     "text": [
      "Learning rate: 1e-05\n",
      "Epoch: 21 | Train_acc: 91.82% | Val_acc: 78.82% | Loss: 341.92 | Runtime: 237.03 seconds\n",
      "Evaluating epoch...\n"
     ]
    },
    {
     "name": "stderr",
     "output_type": "stream",
     "text": [
      "\r",
      " 57%|█████▊    | 23/40 [1:25:14<1:06:29, 234.69s/it]"
     ]
    },
    {
     "name": "stdout",
     "output_type": "stream",
     "text": [
      "Learning rate: 1e-05\n",
      "Epoch: 22 | Train_acc: 91.91% | Val_acc: 78.02% | Loss: 340.77 | Runtime: 240.72 seconds\n",
      "Evaluating epoch...\n"
     ]
    },
    {
     "name": "stderr",
     "output_type": "stream",
     "text": [
      "\r",
      " 60%|██████    | 24/40 [1:29:17<1:03:14, 237.15s/it]"
     ]
    },
    {
     "name": "stdout",
     "output_type": "stream",
     "text": [
      "Learning rate: 1e-05\n",
      "Epoch: 23 | Train_acc: 91.82% | Val_acc: 78.72% | Loss: 339.60 | Runtime: 242.88 seconds\n",
      "Evaluating epoch...\n"
     ]
    },
    {
     "name": "stderr",
     "output_type": "stream",
     "text": [
      "\r",
      " 62%|██████▎   | 25/40 [1:33:49<1:01:54, 247.61s/it]"
     ]
    },
    {
     "name": "stdout",
     "output_type": "stream",
     "text": [
      "Learning rate: 1.0000000000000002e-06\n",
      "Epoch: 24 | Train_acc: 91.87% | Val_acc: 78.52% | Loss: 336.05 | Runtime: 272.02 seconds\n",
      "Evaluating epoch...\n"
     ]
    },
    {
     "name": "stderr",
     "output_type": "stream",
     "text": [
      "\r",
      " 65%|██████▌   | 26/40 [1:38:14<58:59, 252.82s/it]  "
     ]
    },
    {
     "name": "stdout",
     "output_type": "stream",
     "text": [
      "Learning rate: 1.0000000000000002e-06\n",
      "Epoch: 25 | Train_acc: 91.86% | Val_acc: 78.52% | Loss: 335.71 | Runtime: 264.98 seconds\n",
      "Evaluating epoch...\n"
     ]
    },
    {
     "name": "stderr",
     "output_type": "stream",
     "text": [
      "\r",
      " 68%|██████▊   | 27/40 [1:42:37<55:28, 256.01s/it]"
     ]
    },
    {
     "name": "stdout",
     "output_type": "stream",
     "text": [
      "Learning rate: 1.0000000000000002e-06\n",
      "Epoch: 26 | Train_acc: 91.87% | Val_acc: 78.52% | Loss: 335.57 | Runtime: 263.43 seconds\n",
      "Evaluating epoch...\n"
     ]
    },
    {
     "name": "stderr",
     "output_type": "stream",
     "text": [
      "\r",
      " 70%|███████   | 28/40 [1:46:33<50:00, 250.03s/it]"
     ]
    },
    {
     "name": "stdout",
     "output_type": "stream",
     "text": [
      "Learning rate: 1.0000000000000002e-06\n",
      "Epoch: 27 | Train_acc: 91.86% | Val_acc: 78.52% | Loss: 335.44 | Runtime: 236.10 seconds\n",
      "Evaluating epoch...\n"
     ]
    },
    {
     "name": "stderr",
     "output_type": "stream",
     "text": [
      "\r",
      " 72%|███████▎  | 29/40 [1:50:25<44:51, 244.70s/it]"
     ]
    },
    {
     "name": "stdout",
     "output_type": "stream",
     "text": [
      "Learning rate: 1.0000000000000002e-06\n",
      "Epoch: 28 | Train_acc: 91.88% | Val_acc: 78.62% | Loss: 335.32 | Runtime: 232.27 seconds\n",
      "Evaluating epoch...\n"
     ]
    },
    {
     "name": "stderr",
     "output_type": "stream",
     "text": [
      "\r",
      " 75%|███████▌  | 30/40 [1:54:19<40:13, 241.39s/it]"
     ]
    },
    {
     "name": "stdout",
     "output_type": "stream",
     "text": [
      "Learning rate: 1.0000000000000002e-06\n",
      "Epoch: 29 | Train_acc: 91.87% | Val_acc: 78.52% | Loss: 335.14 | Runtime: 233.67 seconds\n",
      "Evaluating epoch...\n"
     ]
    },
    {
     "name": "stderr",
     "output_type": "stream",
     "text": [
      "\r",
      " 78%|███████▊  | 31/40 [1:58:15<35:56, 239.66s/it]"
     ]
    },
    {
     "name": "stdout",
     "output_type": "stream",
     "text": [
      "Learning rate: 1.0000000000000002e-06\n",
      "Epoch: 30 | Train_acc: 91.90% | Val_acc: 78.62% | Loss: 335.11 | Runtime: 235.61 seconds\n",
      "Evaluating epoch...\n"
     ]
    },
    {
     "name": "stderr",
     "output_type": "stream",
     "text": [
      "\r",
      " 80%|████████  | 32/40 [2:02:14<31:57, 239.63s/it]"
     ]
    },
    {
     "name": "stdout",
     "output_type": "stream",
     "text": [
      "Learning rate: 1.0000000000000002e-06\n",
      "Epoch: 31 | Train_acc: 91.89% | Val_acc: 78.62% | Loss: 334.93 | Runtime: 239.54 seconds\n",
      "Evaluating epoch...\n"
     ]
    },
    {
     "name": "stderr",
     "output_type": "stream",
     "text": [
      "\r",
      " 82%|████████▎ | 33/40 [2:06:13<27:55, 239.40s/it]"
     ]
    },
    {
     "name": "stdout",
     "output_type": "stream",
     "text": [
      "Learning rate: 1.0000000000000002e-07\n",
      "Epoch: 32 | Train_acc: 91.89% | Val_acc: 78.62% | Loss: 334.50 | Runtime: 238.88 seconds\n",
      "Evaluating epoch...\n"
     ]
    },
    {
     "name": "stderr",
     "output_type": "stream",
     "text": [
      "\r",
      " 85%|████████▌ | 34/40 [2:10:02<23:36, 236.16s/it]"
     ]
    },
    {
     "name": "stdout",
     "output_type": "stream",
     "text": [
      "Learning rate: 1.0000000000000002e-07\n",
      "Epoch: 33 | Train_acc: 91.89% | Val_acc: 78.62% | Loss: 334.49 | Runtime: 228.59 seconds\n"
     ]
    },
    {
     "name": "stderr",
     "output_type": "stream",
     "text": [
      " 85%|████████▌ | 34/40 [2:10:30<23:01, 230.32s/it]\n"
     ]
    },
    {
     "ename": "KeyboardInterrupt",
     "evalue": "",
     "output_type": "error",
     "traceback": [
      "\u001b[1;31m---------------------------------------------------------------------------\u001b[0m",
      "\u001b[1;31mKeyboardInterrupt\u001b[0m                         Traceback (most recent call last)",
      "\u001b[1;32m<ipython-input-30-419944116b74>\u001b[0m in \u001b[0;36m<module>\u001b[1;34m\u001b[0m\n\u001b[0;32m      6\u001b[0m                                                                             \u001b[0mscheduler\u001b[0m\u001b[1;33m=\u001b[0m\u001b[0mscheduler\u001b[0m\u001b[1;33m,\u001b[0m\u001b[1;33m\u001b[0m\u001b[1;33m\u001b[0m\u001b[0m\n\u001b[0;32m      7\u001b[0m                                                                             \u001b[0mepochs\u001b[0m\u001b[1;33m=\u001b[0m\u001b[0mepochs\u001b[0m\u001b[1;33m,\u001b[0m\u001b[1;33m\u001b[0m\u001b[1;33m\u001b[0m\u001b[0m\n\u001b[1;32m----> 8\u001b[1;33m                                                                             verbose=True)\n\u001b[0m",
      "\u001b[1;32mG:\\Edu\\Other Repos\\SkinCancerCNN\\train.py\u001b[0m in \u001b[0;36mtrain\u001b[1;34m(model, train_loader, validation_loader, criterion, optimizer, epochs, scheduler, verbose, device)\u001b[0m\n\u001b[0;32m     56\u001b[0m             \u001b[0mx\u001b[0m\u001b[1;33m,\u001b[0m \u001b[0my\u001b[0m \u001b[1;33m=\u001b[0m \u001b[0mdatum\u001b[0m\u001b[1;33m\u001b[0m\u001b[1;33m\u001b[0m\u001b[0m\n\u001b[0;32m     57\u001b[0m \u001b[1;33m\u001b[0m\u001b[0m\n\u001b[1;32m---> 58\u001b[1;33m             \u001b[0mx\u001b[0m \u001b[1;33m=\u001b[0m \u001b[0mx\u001b[0m\u001b[1;33m.\u001b[0m\u001b[0mto\u001b[0m\u001b[1;33m(\u001b[0m\u001b[0mdevice\u001b[0m\u001b[1;33m=\u001b[0m\u001b[0mdevice\u001b[0m\u001b[1;33m)\u001b[0m\u001b[1;33m\u001b[0m\u001b[1;33m\u001b[0m\u001b[0m\n\u001b[0m\u001b[0;32m     59\u001b[0m             \u001b[0my\u001b[0m \u001b[1;33m=\u001b[0m \u001b[0my\u001b[0m\u001b[1;33m.\u001b[0m\u001b[0mto\u001b[0m\u001b[1;33m(\u001b[0m\u001b[0mdevice\u001b[0m\u001b[1;33m=\u001b[0m\u001b[0mdevice\u001b[0m\u001b[1;33m)\u001b[0m\u001b[1;33m\u001b[0m\u001b[1;33m\u001b[0m\u001b[0m\n\u001b[0;32m     60\u001b[0m \u001b[1;33m\u001b[0m\u001b[0m\n",
      "\u001b[1;31mKeyboardInterrupt\u001b[0m: "
     ]
    }
   ],
   "source": [
    "total_loss, epoch_durations, accuracies_train, accuracies_validation = train(model=model,\n",
    "                                                                            train_loader=train_loader,\n",
    "                                                                            validation_loader=validation_loader,\n",
    "                                                                            criterion=criterion,\n",
    "                                                                            optimizer=optimizer,\n",
    "                                                                            scheduler=scheduler,\n",
    "                                                                            epochs=epochs,\n",
    "                                                                            verbose=True)"
   ]
  },
  {
   "cell_type": "code",
   "execution_count": 21,
   "metadata": {
    "scrolled": true
   },
   "outputs": [
    {
     "data": {
      "image/png": "[encoded data removed]",
      "text/plain": [
       "<Figure size 800x320 with 1 Axes>"
      ]
     },
     "metadata": {
      "needs_background": "light"
     },
     "output_type": "display_data"
    },
    {
     "data": {
      "image/png": "[encoded data removed]",
      "text/plain": [
       "<Figure size 800x320 with 1 Axes>"
      ]
     },
     "metadata": {
      "needs_background": "light"
     },
     "output_type": "display_data"
    }
   ],
   "source": [
    "figure(figsize=(10, 4), dpi=80)\n",
    "plt.title('Train and validation accuracies')\n",
    "\n",
    "plt.xlabel(\"Epoch\")\n",
    "plt.ylabel(\"Accuracy\")\n",
    "plt.plot(accuracies_train, 'bo-')\n",
    "plt.plot(accuracies_validation, 'ro-')\n",
    "\n",
    "plt.legend([\"Train Accuracy\", \"Validation Accuracy\"], loc =\"lower right\")\n",
    "plt.show()\n",
    "\n",
    "\n",
    "figure(figsize=(10, 4), dpi=80)\n",
    "plt.title('Loss')\n",
    "plt.xlabel(\"Epoch\")\n",
    "plt.ylabel(\"Loss Value\")\n",
    "plt.plot(total_loss, 'go-')\n",
    "plt.show()"
   ]
  },
  {
   "cell_type": "code",
   "execution_count": 22,
   "metadata": {},
   "outputs": [
    {
     "name": "stdout",
     "output_type": "stream",
     "text": [
      "tensor([[[[-0.0614, -0.3598,  0.3796],\n",
      "          [-0.2161,  0.3515, -0.0538],\n",
      "          [ 0.0415, -0.5313,  0.0941]],\n",
      "\n",
      "         [[-0.0385, -0.0650, -0.4908],\n",
      "          [-0.4270,  0.2199, -0.4119],\n",
      "          [-0.2633, -0.4604,  0.1342]],\n",
      "\n",
      "         [[-0.9694, -0.0904, -0.4268],\n",
      "          [-0.0444, -0.2704, -0.4152],\n",
      "          [-0.1216,  0.0065,  0.3172]]],\n",
      "\n",
      "\n",
      "        [[[-0.1136, -0.1301, -0.4235],\n",
      "          [-0.2324,  0.2354,  0.0823],\n",
      "          [-0.2386, -0.1672,  0.0829]],\n",
      "\n",
      "         [[-0.8168, -0.5217, -0.4645],\n",
      "          [ 0.1645, -0.5309, -0.2630],\n",
      "          [-0.2283, -0.5699, -0.4258]],\n",
      "\n",
      "         [[ 0.1167,  0.6237,  0.0840],\n",
      "          [ 0.0370,  0.2951,  0.0411],\n",
      "          [ 0.5049,  0.6555,  0.2642]]],\n",
      "\n",
      "\n",
      "        [[[-0.5218, -0.5624, -0.6310],\n",
      "          [ 0.0673, -0.7192, -0.8362],\n",
      "          [-0.3417, -0.1193, -0.1640]],\n",
      "\n",
      "         [[ 0.2328,  0.3927,  0.1597],\n",
      "          [ 0.0172,  0.0690,  0.2928],\n",
      "          [ 0.1943,  0.2798,  0.2011]],\n",
      "\n",
      "         [[ 0.2470, -0.1469,  0.3271],\n",
      "          [-0.0743, -0.4652, -0.2130],\n",
      "          [ 0.1675,  0.4356,  0.1079]]],\n",
      "\n",
      "\n",
      "        [[[-0.2748, -0.1202,  0.1433],\n",
      "          [ 0.1726,  0.7108,  0.0185],\n",
      "          [-0.1587,  0.1592,  0.1561]],\n",
      "\n",
      "         [[ 0.1514, -0.1546,  0.1286],\n",
      "          [-0.1587,  0.1690, -0.0157],\n",
      "          [ 0.4792,  0.4852,  0.1252]],\n",
      "\n",
      "         [[ 0.0879,  0.2078,  0.4035],\n",
      "          [-0.2366,  0.3195,  0.3130],\n",
      "          [ 0.3870, -0.0875, -0.0017]]]], device='cuda:0')\n",
      "tensor([ 0.2461, -0.3731,  0.2833, -0.0547], device='cuda:0')\n",
      "tensor([1.4278, 1.6652, 1.5332, 0.9293], device='cuda:0')\n",
      "tensor([ 0.0905, -0.3278,  0.0203, -0.3534], device='cuda:0')\n",
      "tensor([[[[-1.8332e-01,  3.6072e-01,  2.8897e-01],\n",
      "          [-6.9627e-03,  1.2381e-01, -2.8731e-01],\n",
      "          [ 5.2402e-02, -2.2564e-01, -4.0002e-01]],\n",
      "\n",
      "         [[-3.6537e-03, -7.8329e-02,  3.5910e-01],\n",
      "          [-1.5096e-01, -2.2088e-02,  2.7848e-01],\n",
      "          [-2.2558e-01,  6.7554e-01, -4.1545e-02]],\n",
      "\n",
      "         [[ 3.7458e-01,  5.5297e-01,  1.1457e-02],\n",
      "          [ 2.4722e-01, -1.7243e-01, -5.6187e-02],\n",
      "          [ 4.3702e-03,  4.3797e-01, -2.6852e-01]],\n",
      "\n",
      "         [[ 2.4938e-01,  3.1695e-01, -1.6938e-01],\n",
      "          [-1.4645e-01,  1.3851e-01,  8.7227e-02],\n",
      "          [ 3.3458e-01,  5.2110e-01,  1.9050e-01]]],\n",
      "\n",
      "\n",
      "        [[[-2.5033e-01,  1.4504e-01, -5.5612e-02],\n",
      "          [-3.3765e-01, -4.0362e-01, -1.6797e-01],\n",
      "          [-2.3967e-01, -1.8052e-01, -1.0780e-01]],\n",
      "\n",
      "         [[ 6.1524e-01, -7.8864e-01, -1.0496e-01],\n",
      "          [ 1.5496e-01,  7.5591e-02,  8.1883e-01],\n",
      "          [ 5.5644e-01, -5.3231e-02, -9.3424e-03]],\n",
      "\n",
      "         [[-3.9005e-01, -1.0089e-01,  4.8072e-01],\n",
      "          [-4.5803e-01, -5.0053e-02, -2.5622e-02],\n",
      "          [-5.0126e-03,  6.7918e-02, -1.4552e-01]],\n",
      "\n",
      "         [[-1.2285e-01, -2.8810e-01, -9.6296e-03],\n",
      "          [-2.6233e-01, -2.6504e-01, -1.4051e-01],\n",
      "          [ 1.5815e-01, -3.7499e-01,  7.2010e-02]]],\n",
      "\n",
      "\n",
      "        [[[ 2.0218e-01, -2.0374e-01,  2.1515e-01],\n",
      "          [-1.8267e-01,  1.1372e-01,  2.7833e-01],\n",
      "          [ 7.6911e-02,  2.0616e-02,  1.4861e-01]],\n",
      "\n",
      "         [[ 2.3124e-01, -1.2579e-02,  6.0906e-02],\n",
      "          [ 1.2641e-01,  8.1883e-02,  2.2814e-01],\n",
      "          [ 2.1827e-01,  1.9998e-01, -3.3130e-01]],\n",
      "\n",
      "         [[ 1.9612e-01,  4.8623e-01, -7.2678e-02],\n",
      "          [-3.8457e-01,  3.5857e-01,  9.2793e-01],\n",
      "          [ 5.9713e-02, -1.5869e-01,  4.0161e-01]],\n",
      "\n",
      "         [[-5.7867e-02,  1.3167e-01, -1.7312e-01],\n",
      "          [ 2.1579e-03, -3.6635e-02, -1.8273e-02],\n",
      "          [ 8.0633e-02,  2.3664e-01, -1.7642e-01]]],\n",
      "\n",
      "\n",
      "        [[[ 7.0769e-01,  4.1504e-01,  1.3407e-01],\n",
      "          [ 4.5903e-01,  5.9141e-01,  4.9505e-01],\n",
      "          [-2.9641e-02,  4.2745e-01,  1.5034e-01]],\n",
      "\n",
      "         [[-1.3031e-01,  6.5006e-03,  1.7573e-01],\n",
      "          [-2.8206e-01,  1.5511e-01, -1.3665e-01],\n",
      "          [ 1.3523e-01, -4.2897e-02, -9.3551e-02]],\n",
      "\n",
      "         [[-1.2425e-01, -1.3793e-01,  2.9047e-01],\n",
      "          [ 1.4154e-01,  2.1984e-01,  4.6842e-01],\n",
      "          [-1.7125e-01, -5.0738e-01, -1.2521e-01]],\n",
      "\n",
      "         [[-1.2055e-01, -3.5196e-01,  1.2021e-01],\n",
      "          [ 6.7003e-02,  1.8200e-01,  9.6276e-02],\n",
      "          [ 2.3194e-02, -2.0527e-01, -9.1860e-02]]],\n",
      "\n",
      "\n",
      "        [[[ 5.9152e-01, -2.7937e-01,  8.7976e-02],\n",
      "          [ 3.7649e-01, -1.5451e-01,  1.7820e-01],\n",
      "          [-2.7146e-01, -2.9626e-02,  2.9583e-01]],\n",
      "\n",
      "         [[ 3.9141e-01,  3.5927e-01,  4.3714e-01],\n",
      "          [ 3.4478e-01,  2.7260e-01,  3.8261e-01],\n",
      "          [ 3.7963e-01, -2.3043e-01,  6.1272e-01]],\n",
      "\n",
      "         [[-1.4892e-01, -3.0397e-01, -2.6028e-01],\n",
      "          [-1.6870e-01, -2.2882e-01, -3.5749e-01],\n",
      "          [-3.0538e-01, -3.7060e-01, -2.7631e-01]],\n",
      "\n",
      "         [[ 4.0086e-01,  3.1056e-01,  1.1467e-01],\n",
      "          [ 1.1026e-01,  6.6710e-02, -4.8011e-02],\n",
      "          [ 1.4322e-01,  9.7701e-02,  2.0804e-01]]],\n",
      "\n",
      "\n",
      "        [[[-1.4317e-01,  2.5444e-01,  1.2652e-01],\n",
      "          [ 1.2698e-02,  3.5215e-01, -1.2776e-01],\n",
      "          [-2.8884e-01, -3.1734e-01,  4.5208e-02]],\n",
      "\n",
      "         [[-1.0377e-01,  5.0630e-01, -1.6070e-01],\n",
      "          [ 6.8692e-01, -2.1548e-01,  1.8974e-01],\n",
      "          [-6.2610e-03, -2.9518e-01,  4.5158e-02]],\n",
      "\n",
      "         [[ 5.3859e-01,  2.0971e-01,  1.7029e-01],\n",
      "          [ 4.4425e-01,  1.0331e-01,  1.1829e-01],\n",
      "          [-1.3396e-01, -1.9569e-01, -1.6123e-01]],\n",
      "\n",
      "         [[ 3.1266e-01,  1.5926e-01,  2.0925e-01],\n",
      "          [-2.0299e-02,  2.5309e-03,  7.1224e-02],\n",
      "          [-7.8659e-02, -1.1186e-01, -2.8556e-01]]],\n",
      "\n",
      "\n",
      "        [[[-1.4227e-01,  8.7243e-03,  1.0208e-01],\n",
      "          [-2.2483e-02,  7.0067e-02,  3.3384e-01],\n",
      "          [-1.3654e-02, -1.8941e-01, -1.9682e-01]],\n",
      "\n",
      "         [[ 7.6125e-01,  2.8456e-01,  4.2200e-01],\n",
      "          [-4.3715e-02,  3.2768e-01,  3.9552e-02],\n",
      "          [ 4.0040e-01,  6.0850e-01, -2.2320e-02]],\n",
      "\n",
      "         [[-2.4806e-01,  7.8992e-02,  5.7731e-04],\n",
      "          [ 4.3473e-01, -9.8255e-02, -6.5079e-02],\n",
      "          [ 1.1514e-01, -4.5475e-02,  2.3934e-01]],\n",
      "\n",
      "         [[ 1.0321e-01, -2.0418e-01, -1.1041e-01],\n",
      "          [-2.4611e-01, -3.0995e-01, -8.3203e-02],\n",
      "          [-2.5624e-01, -1.7963e-01,  9.3130e-02]]],\n",
      "\n",
      "\n",
      "        [[[ 3.4843e-01, -1.1369e-01,  3.6455e-01],\n",
      "          [ 2.8708e-02,  5.3814e-02, -3.0306e-02],\n",
      "          [-2.0649e-01, -1.3264e-01, -1.9130e-01]],\n",
      "\n",
      "         [[-2.4095e-01, -3.5822e-01, -3.5042e-01],\n",
      "          [-7.2753e-02, -2.3964e-01, -2.3706e-01],\n",
      "          [-1.6116e-01, -7.6601e-02, -4.3883e-01]],\n",
      "\n",
      "         [[ 2.7220e-01, -2.1122e-01,  1.5204e-02],\n",
      "          [-7.0657e-02,  2.2802e-03, -1.5412e-01],\n",
      "          [ 9.8418e-02,  1.8298e-02,  2.1665e-01]],\n",
      "\n",
      "         [[ 2.0226e-01, -2.9493e-01, -2.0273e-01],\n",
      "          [ 1.7271e-02,  1.6193e-01,  2.9755e-01],\n",
      "          [ 1.8148e-02,  3.6738e-01,  1.1068e-01]]]], device='cuda:0')\n",
      "tensor([-0.0015,  0.1777, -0.0473,  0.1544, -0.0797,  0.0353, -0.0518, -0.0096],\n",
      "       device='cuda:0')\n",
      "tensor([1.0856, 1.1703, 1.2778, 1.4668, 1.4313, 1.1922, 1.2509, 1.0664],\n",
      "       device='cuda:0')\n",
      "tensor([-0.0922,  0.1165, -0.0959,  0.1158, -0.2386, -0.0360, -0.1251, -0.1989],\n",
      "       device='cuda:0')\n",
      "tensor([[[[ 1.4835e-01,  2.0589e-02,  5.0050e-02, -6.0611e-02, -1.2721e-01],\n",
      "          [ 5.9804e-02,  2.1496e-01, -1.2616e-01, -1.4211e-01, -1.0003e-01],\n",
      "          [-4.8468e-02,  4.7918e-02, -7.6750e-02, -4.5938e-02, -9.9227e-03],\n",
      "          [-1.6692e-02,  1.7514e-01,  4.3139e-02,  7.9793e-02,  4.8191e-02],\n",
      "          [ 1.7267e-01,  6.2814e-02, -8.5876e-02,  2.8578e-02, -1.1668e-01]],\n",
      "\n",
      "         [[-1.0461e-01, -1.2828e-01, -2.0798e-02, -2.2597e-01, -9.0886e-02],\n",
      "          [-1.0252e-01, -1.6197e-01, -2.0748e-01, -2.3782e-01, -1.0956e-02],\n",
      "          [-1.8296e-01, -4.4444e-02, -9.5202e-02,  1.3316e-01,  1.1050e-02],\n",
      "          [-6.2977e-02, -7.0818e-02, -2.1769e-02,  7.3235e-02, -2.6694e-02],\n",
      "          [-1.1897e-01, -9.3616e-02, -2.2354e-01,  8.7216e-03, -2.0205e-01]],\n",
      "\n",
      "         [[ 6.9170e-02, -7.0716e-02,  7.2634e-02, -7.3789e-02, -5.3062e-02],\n",
      "          [ 3.2225e-02,  1.0642e-02, -4.1727e-02, -5.8772e-02, -1.9669e-01],\n",
      "          [ 1.5250e-01, -4.3643e-02, -7.4525e-02, -2.8999e-02,  1.2657e-02],\n",
      "          [ 1.0919e-01,  2.0832e-01, -4.1833e-02,  5.4767e-02, -1.7422e-02],\n",
      "          [ 3.9432e-03,  4.3898e-02, -1.2155e-01, -2.8999e-02, -1.8794e-01]],\n",
      "\n",
      "         ...,\n",
      "\n",
      "         [[ 2.7148e-03, -6.9380e-02, -4.3589e-02, -5.1687e-02,  5.0493e-02],\n",
      "          [-8.2203e-02, -1.5829e-01,  8.3147e-02, -3.8392e-02, -5.5848e-02],\n",
      "          [ 4.1166e-02,  9.7426e-02, -1.3907e-01,  4.0643e-02, -3.9466e-02],\n",
      "          [ 9.3439e-02,  2.7706e-01,  5.5229e-03, -5.1432e-02, -1.1430e-01],\n",
      "          [-3.6451e-02, -2.5358e-02, -1.1019e-02,  4.2941e-03, -2.9748e-02]],\n",
      "\n",
      "         [[-2.2427e-01,  9.2074e-03, -1.8066e-01, -1.5743e-01, -1.0837e-01],\n",
      "          [-2.1283e-01, -5.7536e-02, -4.3821e-02, -4.4279e-02, -1.0107e-01],\n",
      "          [ 1.1192e-02, -1.2824e-01, -7.6729e-02, -1.0042e-01, -1.3976e-01],\n",
      "          [ 7.3422e-02, -9.6580e-03, -1.3760e-01, -1.7380e-01,  9.4295e-02],\n",
      "          [-1.4081e-01, -2.0838e-01, -1.4633e-01, -1.4449e-01, -1.1005e-01]],\n",
      "\n",
      "         [[ 2.6078e-01, -2.7777e-01,  1.5110e-01,  4.2461e-02,  6.2648e-02],\n",
      "          [ 1.9655e-01,  1.1927e-01,  2.5537e-01, -9.0500e-03,  1.2307e-01],\n",
      "          [ 2.5616e-01, -2.7648e-02,  1.9629e-01,  8.1108e-02, -9.5041e-02],\n",
      "          [ 7.5235e-02,  1.5474e-01,  8.9305e-03,  1.5823e-01,  7.7471e-02],\n",
      "          [ 1.0448e-01,  9.4458e-02, -2.4470e-02, -9.8948e-02,  9.8066e-02]]],\n",
      "\n",
      "\n",
      "        [[[-3.7873e-02, -1.4414e-01,  5.7863e-02, -1.2143e-01,  4.0373e-02],\n",
      "          [-7.5711e-02, -1.2031e-01, -3.3268e-02, -4.7663e-02,  9.1970e-02],\n",
      "          [-6.0571e-02, -2.2149e-01, -7.3952e-02, -1.2395e-01,  4.2928e-02],\n",
      "          [ 9.2918e-02, -1.6250e-01, -3.5623e-01, -5.9739e-02, -4.9179e-02],\n",
      "          [-2.2993e-02, -1.1855e-01, -1.8189e-01, -6.9402e-02, -1.8771e-01]],\n",
      "\n",
      "         [[ 2.1894e-01, -4.2577e-03, -8.5772e-02, -4.7502e-02,  7.5013e-02],\n",
      "          [ 2.5280e-02, -8.3080e-02,  7.3470e-02, -5.1929e-03,  8.8204e-02],\n",
      "          [-2.3419e-03, -3.5246e-02,  6.2334e-02, -3.6494e-02, -1.7587e-01],\n",
      "          [-3.4421e-02,  2.5235e-01, -9.3439e-02, -2.4647e-02, -3.3892e-02],\n",
      "          [-8.1948e-02, -1.4288e-01,  9.0142e-02, -2.0330e-02, -9.0303e-03]],\n",
      "\n",
      "         [[-3.4332e-02, -7.4150e-02,  2.9042e-02,  1.8169e-01,  1.9868e-01],\n",
      "          [-1.5591e-01, -1.5990e-01,  8.3136e-02,  1.5924e-01,  4.5739e-02],\n",
      "          [-1.3987e-01,  2.5376e-04, -9.4514e-02, -1.3247e-01, -4.0200e-02],\n",
      "          [-1.0611e-01, -2.4168e-01, -1.8132e-01, -1.1903e-01, -2.2394e-01],\n",
      "          [ 3.2710e-02, -7.6504e-02, -4.7319e-02, -2.0469e-01, -4.9007e-03]],\n",
      "\n",
      "         ...,\n",
      "\n",
      "         [[ 1.0315e-01, -1.3756e-01,  5.6963e-02,  4.2317e-02,  6.2310e-02],\n",
      "          [-1.7680e-01,  2.5051e-02, -1.4993e-01,  7.4079e-02,  2.5150e-01],\n",
      "          [-6.6416e-02, -1.3778e-01, -2.1105e-01, -1.4470e-01,  2.8762e-02],\n",
      "          [-1.2049e-01, -1.1300e-01, -2.5716e-02, -5.0729e-02, -2.2747e-01],\n",
      "          [-1.2014e-02, -7.5979e-02,  8.6035e-03, -1.3868e-01, -9.5404e-02]],\n",
      "\n",
      "         [[ 3.6326e-02, -6.6397e-02,  2.7112e-01, -9.5108e-03,  2.1060e-02],\n",
      "          [-1.6277e-01, -1.9981e-01,  5.9860e-02, -2.7064e-02,  2.7200e-02],\n",
      "          [-3.7080e-02, -1.5467e-01, -2.5735e-01,  8.1050e-02,  1.1553e-01],\n",
      "          [-9.4037e-03,  1.4116e-01, -8.3991e-02, -2.4305e-02, -4.8997e-02],\n",
      "          [-1.1383e-01, -7.8725e-02, -3.0827e-02,  6.7393e-02, -1.0867e-01]],\n",
      "\n",
      "         [[-6.3181e-02, -2.1151e-01, -1.0984e-01, -1.3381e-01, -6.0720e-02],\n",
      "          [ 9.9552e-02,  9.5227e-04, -9.7214e-03, -3.5706e-02,  3.3990e-02],\n",
      "          [-1.3605e-01,  7.6715e-02, -8.5472e-02,  1.8753e-01,  1.2138e-01],\n",
      "          [-1.4414e-02,  2.2188e-02, -3.5373e-02, -9.0386e-02,  2.1146e-02],\n",
      "          [ 6.4314e-02, -3.3412e-02,  1.4134e-02, -1.1260e-01, -2.4746e-02]]],\n",
      "\n",
      "\n",
      "        [[[-1.0729e-01,  2.2057e-02,  8.3603e-02, -2.4500e-02,  3.2148e-02],\n",
      "          [ 2.6692e-02, -2.5869e-01, -1.3891e-01,  9.5078e-02,  2.2494e-01],\n",
      "          [ 6.7294e-02, -1.4221e-01, -1.6605e-01, -9.5633e-02, -1.1149e-01],\n",
      "          [ 1.9982e-01, -5.0915e-02, -1.8847e-01, -1.5110e-01, -3.7336e-02],\n",
      "          [-6.1863e-02, -2.7427e-02,  5.7971e-02,  9.9868e-03,  2.5040e-02]],\n",
      "\n",
      "         [[-4.1571e-02,  1.6831e-01,  7.2863e-02,  2.9127e-02,  1.0596e-01],\n",
      "          [ 5.0267e-02, -9.9623e-02, -1.4299e-02, -1.2439e-01, -1.5386e-03],\n",
      "          [ 1.1799e-02,  2.9744e-02,  1.7711e-02,  2.0343e-02, -1.0082e-02],\n",
      "          [-2.1481e-02,  6.8227e-02,  9.5875e-03, -6.7549e-02, -8.1665e-02],\n",
      "          [-6.7631e-02, -8.2226e-02,  2.3792e-02,  1.9569e-01,  1.7535e-01]],\n",
      "\n",
      "         [[-7.4355e-02,  1.5509e-01, -4.2556e-02, -9.7826e-03, -1.2144e-01],\n",
      "          [-3.7616e-02, -1.6170e-01, -4.8504e-02, -6.4812e-02, -8.9361e-02],\n",
      "          [-1.0084e-01,  6.3580e-02, -3.1275e-02, -1.5049e-02, -2.9566e-01],\n",
      "          [-1.3695e-01, -1.5732e-01,  3.5785e-02, -2.1087e-01, -1.5466e-01],\n",
      "          [ 7.1906e-02, -1.3156e-02,  1.1559e-02, -1.6299e-01, -9.5257e-02]],\n",
      "\n",
      "         ...,\n",
      "\n",
      "         [[-6.7725e-02,  1.7746e-01,  2.9265e-01, -1.0475e-02,  1.1119e-02],\n",
      "          [ 4.1884e-02, -5.5293e-02, -9.6513e-02, -1.2717e-02, -6.8454e-03],\n",
      "          [-7.6245e-02,  8.8363e-02, -1.9502e-01, -1.6478e-01,  1.5524e-01],\n",
      "          [-7.2238e-02, -7.0731e-02, -1.1644e-01,  1.0709e-01, -1.6142e-01],\n",
      "          [ 2.4272e-02,  5.5960e-03, -8.6912e-02,  6.9014e-02, -3.5385e-02]],\n",
      "\n",
      "         [[ 1.6851e-01,  1.2826e-01,  7.9262e-02,  7.3372e-02,  1.0298e-01],\n",
      "          [ 1.4931e-01, -5.7217e-02,  1.0475e-01,  2.5621e-02, -2.7506e-03],\n",
      "          [ 1.2596e-01, -1.5081e-01,  1.7012e-02, -6.5693e-02,  1.3355e-01],\n",
      "          [-9.3891e-02, -3.9737e-02, -1.8557e-01, -2.5207e-01, -6.3520e-02],\n",
      "          [ 3.4272e-02,  3.4470e-02, -9.6689e-02,  1.0108e-01, -4.8654e-02]],\n",
      "\n",
      "         [[ 4.8342e-02,  1.4111e-01, -3.1377e-01, -1.7304e-01,  2.4808e-02],\n",
      "          [ 6.0147e-02, -1.3369e-01, -7.2177e-02,  2.5712e-02,  4.6900e-02],\n",
      "          [ 3.4452e-02,  1.5372e-02, -8.5146e-02,  3.1418e-02,  1.8080e-01],\n",
      "          [ 3.3980e-02, -9.8558e-02,  1.4057e-01,  6.2494e-02, -8.5198e-02],\n",
      "          [-1.3749e-02,  9.1480e-02, -1.3438e-01,  5.6193e-03,  1.1090e-01]]],\n",
      "\n",
      "\n",
      "        ...,\n",
      "\n",
      "\n",
      "        [[[-1.3277e-01, -1.8490e-02,  3.7614e-02, -5.3866e-03, -1.7655e-01],\n",
      "          [ 2.2489e-01, -5.4604e-02,  1.2196e-01,  6.1630e-02,  3.9649e-02],\n",
      "          [-1.9370e-02, -2.9666e-02,  4.9867e-03,  1.3737e-01,  1.2754e-01],\n",
      "          [ 2.9275e-02,  3.2823e-02,  1.0252e-01,  1.2620e-01,  1.3391e-01],\n",
      "          [ 1.0109e-01, -1.1216e-01, -2.4118e-03, -6.4661e-03,  4.6607e-02]],\n",
      "\n",
      "         [[-3.3526e-02, -1.0735e-01,  3.8490e-02,  1.4122e-01,  6.0815e-02],\n",
      "          [-1.1344e-02,  9.5051e-02, -8.3318e-02, -2.3913e-01, -1.0457e-01],\n",
      "          [ 4.7280e-02,  1.1268e-01,  8.7728e-02,  9.5536e-02, -6.8944e-02],\n",
      "          [-7.9623e-02,  5.7379e-02, -6.0492e-02, -1.8391e-01, -1.4461e-01],\n",
      "          [-4.8987e-02, -1.0714e-01, -4.2577e-02,  1.1387e-01,  1.0929e-01]],\n",
      "\n",
      "         [[ 1.7166e-01, -5.0052e-02, -9.1762e-02, -1.6902e-01,  2.8850e-02],\n",
      "          [ 8.8256e-04,  1.1649e-01,  4.1328e-02, -1.6227e-02, -1.8928e-01],\n",
      "          [-5.2193e-03,  1.1521e-01,  7.9961e-02,  9.4688e-02,  2.5997e-01],\n",
      "          [ 3.2404e-02, -4.2304e-02,  2.5573e-02, -3.4581e-02,  7.2364e-02],\n",
      "          [ 7.0604e-02,  4.1953e-02, -9.5783e-02,  1.7256e-01,  2.0237e-01]],\n",
      "\n",
      "         ...,\n",
      "\n",
      "         [[ 1.0195e-01,  1.1436e-02, -3.7530e-02,  1.2994e-01, -3.0872e-02],\n",
      "          [-2.4782e-02, -1.3061e-01,  1.2700e-01,  5.9313e-02,  1.5596e-02],\n",
      "          [ 6.5745e-02, -7.6197e-02,  5.4419e-02, -1.4208e-01,  1.3979e-01],\n",
      "          [ 1.1056e-01,  4.6570e-02,  4.7538e-02, -2.0030e-02,  1.5747e-01],\n",
      "          [ 1.1652e-01,  6.2726e-02,  7.3388e-03,  1.6711e-01,  7.1635e-02]],\n",
      "\n",
      "         [[-8.3942e-02, -1.5901e-01, -1.8089e-01, -4.4804e-02,  3.9534e-02],\n",
      "          [ 3.2466e-01,  8.0075e-02, -1.0801e-01,  6.0740e-02, -6.6065e-02],\n",
      "          [-1.5156e-01, -1.9584e-01, -9.2117e-02,  7.4743e-02,  2.4689e-02],\n",
      "          [ 1.9126e-01,  8.0538e-02, -1.7026e-02, -5.7776e-02, -1.2178e-01],\n",
      "          [ 4.8832e-02, -7.9163e-02,  2.1141e-03,  2.2957e-02, -4.5582e-02]],\n",
      "\n",
      "         [[ 1.0620e-01,  9.8594e-02,  1.0271e-01,  1.1006e-01, -8.6849e-02],\n",
      "          [ 9.8812e-02, -7.5170e-02,  4.6363e-02,  6.3293e-02, -1.2968e-02],\n",
      "          [-1.8717e-02, -7.3618e-03, -1.0838e-01,  5.0201e-02, -7.8683e-03],\n",
      "          [-1.5418e-01, -5.5117e-02, -1.8407e-01,  1.2651e-02,  2.8781e-02],\n",
      "          [ 1.0300e-01,  2.8842e-02, -8.2538e-02, -1.5295e-01, -8.0403e-02]]],\n",
      "\n",
      "\n",
      "        [[[ 2.1407e-02, -8.1529e-02,  5.1315e-02, -5.5197e-02, -1.1077e-02],\n",
      "          [-1.5441e-04,  1.6058e-01, -9.2715e-02,  2.0227e-01,  1.5931e-01],\n",
      "          [ 1.2510e-01, -7.8299e-02, -1.3849e-01, -9.4354e-02, -1.6520e-01],\n",
      "          [ 5.9461e-02,  1.7350e-04, -2.8235e-02, -1.2891e-01, -2.0228e-01],\n",
      "          [ 1.3450e-01, -4.5273e-02, -9.5429e-02, -8.5001e-02, -1.4701e-01]],\n",
      "\n",
      "         [[-1.9974e-01, -3.5030e-02,  6.0238e-02,  4.6674e-02,  6.2146e-02],\n",
      "          [-1.6926e-02, -1.0180e-01,  1.5002e-01,  1.6198e-01, -5.2920e-02],\n",
      "          [ 8.8034e-02,  1.1701e-01,  3.4556e-02,  1.5384e-01,  1.2067e-01],\n",
      "          [-8.7771e-02,  1.9427e-02,  2.2720e-02,  9.1610e-03,  1.3188e-01],\n",
      "          [-1.9935e-03,  1.8448e-01,  4.6463e-02,  1.5154e-01, -2.9284e-02]],\n",
      "\n",
      "         [[ 1.0478e-01, -9.5000e-02, -6.4391e-02,  5.6068e-01,  1.5450e-01],\n",
      "          [-3.9740e-02, -3.6370e-01, -1.5636e-01,  6.2564e-02,  1.6017e-01],\n",
      "          [ 1.0778e-01, -1.0041e-02, -1.8124e-01, -6.9473e-02, -8.8885e-02],\n",
      "          [ 5.1748e-02, -7.0648e-02, -6.1583e-02, -4.6887e-02, -9.1265e-02],\n",
      "          [ 1.7227e-02,  8.9029e-02, -1.6190e-01, -1.0795e-01, -1.5918e-01]],\n",
      "\n",
      "         ...,\n",
      "\n",
      "         [[ 4.8706e-02, -1.3432e-01,  1.0110e-01,  1.9348e-01,  2.9373e-01],\n",
      "          [ 1.1436e-01,  5.4097e-02,  8.9602e-02,  5.7495e-02,  8.3180e-02],\n",
      "          [-1.9079e-02, -3.0809e-02, -2.5909e-01, -2.6711e-01, -2.2345e-02],\n",
      "          [-1.0678e-01, -1.1067e-01, -1.3094e-01, -2.3223e-01,  3.9552e-02],\n",
      "          [ 7.9828e-02,  7.4511e-02,  4.7290e-02, -1.4694e-02,  2.1605e-02]],\n",
      "\n",
      "         [[-5.9434e-03, -8.2577e-02,  6.7444e-03,  7.1522e-02,  1.8488e-01],\n",
      "          [ 8.4373e-02,  5.4175e-02, -2.1541e-01,  1.1212e-01,  1.0628e-01],\n",
      "          [-4.7571e-02, -1.1402e-01, -1.0005e-01, -3.3694e-02, -6.5583e-02],\n",
      "          [-1.0687e-01,  2.9186e-02,  1.8804e-01,  1.5705e-02, -1.3866e-01],\n",
      "          [ 3.1677e-01,  8.2327e-02,  2.1093e-01,  1.2340e-01,  1.4461e-02]],\n",
      "\n",
      "         [[ 3.9935e-02, -1.7285e-01, -2.6614e-03,  7.1115e-02, -8.2790e-02],\n",
      "          [-2.1717e-01, -4.3775e-02, -5.8439e-02, -6.9949e-02, -1.2569e-01],\n",
      "          [-4.9642e-02, -8.5088e-02,  6.2775e-02, -9.0773e-02, -6.5810e-02],\n",
      "          [-1.5945e-01, -2.7644e-02, -4.7823e-02, -2.0354e-01, -1.7980e-01],\n",
      "          [-1.9201e-01, -1.0788e-01, -9.9777e-02, -1.9192e-01, -1.0872e-01]]],\n",
      "\n",
      "\n",
      "        [[[ 2.8659e-02,  7.5308e-02, -5.2692e-02,  3.8109e-02,  3.8553e-02],\n",
      "          [-1.9885e-03, -1.7572e-02,  2.2870e-02,  5.6145e-02,  4.6035e-02],\n",
      "          [-1.6651e-01, -8.3222e-02, -2.8320e-02,  8.3620e-02, -2.7267e-02],\n",
      "          [-1.2773e-01,  2.7415e-02, -4.8481e-02, -2.2081e-03,  1.1770e-01],\n",
      "          [ 6.1153e-02,  1.5117e-01,  1.1029e-01,  4.6447e-02,  1.8692e-01]],\n",
      "\n",
      "         [[ 6.1598e-02,  7.9053e-02, -1.4128e-01,  4.6292e-02, -4.0192e-02],\n",
      "          [-5.2264e-02, -9.9224e-02, -7.0677e-02, -3.3137e-02,  2.6315e-03],\n",
      "          [-1.0937e-01,  4.4398e-02,  1.2627e-01, -2.1879e-01,  6.6662e-02],\n",
      "          [-5.9155e-02, -3.6893e-03,  9.8501e-03, -1.7868e-01, -7.0871e-02],\n",
      "          [-4.2359e-02, -1.1020e-01, -5.1426e-02, -6.8810e-03, -9.9407e-02]],\n",
      "\n",
      "         [[-2.3483e-01, -1.1969e-01, -1.2756e-01, -3.6027e-02,  9.9614e-02],\n",
      "          [-1.9516e-01, -6.8709e-02, -2.3596e-01,  7.0654e-02,  2.9966e-01],\n",
      "          [-1.1867e-01,  9.2059e-03,  1.0759e-01, -1.6327e-01,  5.5233e-02],\n",
      "          [-2.9661e-02, -2.9516e-01,  2.8524e-01, -7.7513e-02, -7.8911e-03],\n",
      "          [ 2.1412e-01,  1.5258e-01,  2.0381e-01,  2.5522e-01,  9.3247e-02]],\n",
      "\n",
      "         ...,\n",
      "\n",
      "         [[-1.7493e-02, -7.8774e-02, -4.6281e-02, -3.4462e-02, -1.2864e-03],\n",
      "          [-4.3238e-02, -1.0461e-01, -2.3919e-01,  6.1844e-02,  1.6227e-01],\n",
      "          [-1.2288e-01,  1.5888e-02, -1.0622e-01,  6.4584e-02,  5.5506e-02],\n",
      "          [-2.0784e-02, -8.2725e-02, -1.2619e-01,  2.0251e-01,  1.2473e-01],\n",
      "          [-1.2330e-01,  1.1391e-01,  5.4688e-03,  4.3869e-01,  1.9257e-01]],\n",
      "\n",
      "         [[ 5.6615e-02, -2.6547e-04,  4.3733e-02,  4.0335e-03,  2.4428e-03],\n",
      "          [ 8.3107e-03, -4.3149e-02,  3.7381e-02,  5.2988e-02, -5.8173e-02],\n",
      "          [-1.2581e-02, -1.3363e-02, -1.6029e-01, -1.0963e-01,  9.8276e-02],\n",
      "          [-2.1288e-01, -1.2469e-01,  7.5033e-02,  1.2556e-02,  8.0692e-02],\n",
      "          [-9.5555e-02,  1.6518e-01,  1.4449e-01, -9.8948e-02, -1.1453e-01]],\n",
      "\n",
      "         [[ 1.2684e-02,  7.7925e-02,  1.1124e-01,  3.7016e-02,  4.6792e-03],\n",
      "          [ 7.0684e-02, -6.5097e-03,  1.1742e-01,  2.7607e-03, -9.7560e-02],\n",
      "          [ 3.7030e-03,  9.8014e-02, -1.4361e-02, -8.1593e-02, -2.3733e-02],\n",
      "          [ 5.1698e-02,  3.9220e-02, -1.0392e-01,  4.9789e-02, -6.7603e-02],\n",
      "          [ 3.4409e-02,  6.3666e-02,  2.5857e-01, -3.3883e-02, -2.1080e-01]]]],\n"
     ]
    },
    {
     "name": "stdout",
     "output_type": "stream",
     "text": [
      "       device='cuda:0')\n",
      "tensor([-0.0317, -0.0098,  0.0079, -0.0213,  0.0032, -0.0179, -0.0633, -0.0169,\n",
      "        -0.0196, -0.0264,  0.0528, -0.0056, -0.0433, -0.0144, -0.0500,  0.0094],\n",
      "       device='cuda:0')\n",
      "tensor([0.9987, 1.1245, 0.9183, 0.3499, 0.9277, 0.2936, 0.9363, 0.3175, 1.0712,\n",
      "        1.1990, 1.0419, 0.5486, 0.8991, 0.3110, 0.8587, 1.0324],\n",
      "       device='cuda:0')\n",
      "tensor([-0.5315, -0.3651, -0.2667, -0.7898, -0.2907, -0.7612, -0.6689, -0.5339,\n",
      "        -0.4431, -0.4661,  0.0955, -0.4249, -0.6105, -0.6209, -0.5407, -0.2987],\n",
      "       device='cuda:0')\n",
      "tensor([[ 0.0376, -0.0065,  0.0497,  ...,  0.0033, -0.0231,  0.0068],\n",
      "        [-0.0313, -0.0026, -0.0705,  ...,  0.0284,  0.0019,  0.0670],\n",
      "        [-0.0689, -0.0516, -0.0485,  ..., -0.0643, -0.0358, -0.0396],\n",
      "        ...,\n",
      "        [-0.0639, -0.0093, -0.0151,  ..., -0.0145,  0.0358, -0.0507],\n",
      "        [-0.1014, -0.0621, -0.0304,  ..., -0.0635,  0.0106, -0.0070],\n",
      "        [ 0.0925,  0.0764,  0.0578,  ..., -0.0144,  0.0023,  0.0204]],\n",
      "       device='cuda:0')\n",
      "tensor([ 0.0115,  0.0252,  0.2440,  0.0785, -0.2565, -0.0145, -0.0754],\n",
      "       device='cuda:0')\n"
     ]
    }
   ],
   "source": [
    "for param in model.parameters():\n",
    "    print(param.data)"
   ]
  },
  {
   "cell_type": "markdown",
   "metadata": {},
   "source": [
    "# Evaluating the model with the test set:"
   ]
  },
  {
   "cell_type": "code",
   "execution_count": 23,
   "metadata": {},
   "outputs": [],
   "source": [
    "test_accuracy = evaluate(model=model, data_loader=test_loader, device=device)"
   ]
  },
  {
   "cell_type": "code",
   "execution_count": 24,
   "metadata": {},
   "outputs": [
    {
     "name": "stdout",
     "output_type": "stream",
     "text": [
      "Test accuracy: 82.52%\n"
     ]
    }
   ],
   "source": [
    "print(f'Test accuracy: {test_accuracy:.2f}%')"
   ]
  },
  {
   "cell_type": "markdown",
   "metadata": {},
   "source": [
    "# Saving the model:"
   ]
  },
  {
   "cell_type": "markdown",
   "metadata": {},
   "source": [
    "### Creating the path in which the model will be saved:"
   ]
  },
  {
   "cell_type": "code",
   "execution_count": 23,
   "metadata": {},
   "outputs": [],
   "source": [
    "path = os.getcwd()\n",
    "model_name = \"model_91_ac\""
   ]
  },
  {
   "cell_type": "code",
   "execution_count": 42,
   "metadata": {},
   "outputs": [],
   "source": [
    "MODEL_PATH = os.path.join(path, model_name)"
   ]
  },
  {
   "cell_type": "markdown",
   "metadata": {},
   "source": [
    "### Saving the model:"
   ]
  },
  {
   "cell_type": "code",
   "execution_count": null,
   "metadata": {},
   "outputs": [],
   "source": [
    "torch.save(model.state_dict(), MODEL_PATH)"
   ]
  },
  {
   "cell_type": "markdown",
   "metadata": {},
   "source": [
    "# Loading the model:"
   ]
  },
  {
   "cell_type": "code",
   "execution_count": 47,
   "metadata": {},
   "outputs": [
    {
     "ename": "RuntimeError",
     "evalue": "Error(s) in loading state_dict for SkinCancerModel:\n\tMissing key(s) in state_dict: \"conv_1.weight\", \"conv_1.bias\", \"batch_norm_1.weight\", \"batch_norm_1.bias\", \"batch_norm_1.running_mean\", \"batch_norm_1.running_var\", \"conv_2.weight\", \"conv_2.bias\", \"batch_norm_2.weight\", \"batch_norm_2.bias\", \"batch_norm_2.running_mean\", \"batch_norm_2.running_var\", \"conv_3.weight\", \"conv_3.bias\", \"batch_norm_3.weight\", \"batch_norm_3.bias\", \"batch_norm_3.running_mean\", \"batch_norm_3.running_var\", \"fc_1.weight\", \"fc_1.bias\". \n\tUnexpected key(s) in state_dict: \"model_state_dict\". ",
     "output_type": "error",
     "traceback": [
      "\u001b[1;31m---------------------------------------------------------------------------\u001b[0m",
      "\u001b[1;31mRuntimeError\u001b[0m                              Traceback (most recent call last)",
      "\u001b[1;32m<ipython-input-47-d4068b669204>\u001b[0m in \u001b[0;36m<module>\u001b[1;34m\u001b[0m\n\u001b[0;32m      1\u001b[0m \u001b[0mmodel\u001b[0m \u001b[1;33m=\u001b[0m \u001b[0mSkinCancerModel\u001b[0m\u001b[1;33m(\u001b[0m\u001b[1;33m)\u001b[0m\u001b[1;33m\u001b[0m\u001b[1;33m\u001b[0m\u001b[0m\n\u001b[1;32m----> 2\u001b[1;33m \u001b[0mmodel\u001b[0m\u001b[1;33m.\u001b[0m\u001b[0mload_state_dict\u001b[0m\u001b[1;33m(\u001b[0m\u001b[0mtorch\u001b[0m\u001b[1;33m.\u001b[0m\u001b[0mload\u001b[0m\u001b[1;33m(\u001b[0m\u001b[0mmodel_path\u001b[0m\u001b[1;33m)\u001b[0m\u001b[1;33m)\u001b[0m\u001b[1;33m\u001b[0m\u001b[1;33m\u001b[0m\u001b[0m\n\u001b[0m\u001b[0;32m      3\u001b[0m \u001b[0mmodel\u001b[0m\u001b[1;33m.\u001b[0m\u001b[0meval\u001b[0m\u001b[1;33m(\u001b[0m\u001b[1;33m)\u001b[0m\u001b[1;33m\u001b[0m\u001b[1;33m\u001b[0m\u001b[0m\n\u001b[0;32m      4\u001b[0m \u001b[1;31m# model.eval()\u001b[0m\u001b[1;33m\u001b[0m\u001b[1;33m\u001b[0m\u001b[1;33m\u001b[0m\u001b[0m\n",
      "\u001b[1;32m~\\anaconda3\\envs\\comp411\\lib\\site-packages\\torch\\nn\\modules\\module.py\u001b[0m in \u001b[0;36mload_state_dict\u001b[1;34m(self, state_dict, strict)\u001b[0m\n\u001b[0;32m   1481\u001b[0m         \u001b[1;32mif\u001b[0m \u001b[0mlen\u001b[0m\u001b[1;33m(\u001b[0m\u001b[0merror_msgs\u001b[0m\u001b[1;33m)\u001b[0m \u001b[1;33m>\u001b[0m \u001b[1;36m0\u001b[0m\u001b[1;33m:\u001b[0m\u001b[1;33m\u001b[0m\u001b[1;33m\u001b[0m\u001b[0m\n\u001b[0;32m   1482\u001b[0m             raise RuntimeError('Error(s) in loading state_dict for {}:\\n\\t{}'.format(\n\u001b[1;32m-> 1483\u001b[1;33m                                self.__class__.__name__, \"\\n\\t\".join(error_msgs)))\n\u001b[0m\u001b[0;32m   1484\u001b[0m         \u001b[1;32mreturn\u001b[0m \u001b[0m_IncompatibleKeys\u001b[0m\u001b[1;33m(\u001b[0m\u001b[0mmissing_keys\u001b[0m\u001b[1;33m,\u001b[0m \u001b[0munexpected_keys\u001b[0m\u001b[1;33m)\u001b[0m\u001b[1;33m\u001b[0m\u001b[1;33m\u001b[0m\u001b[0m\n\u001b[0;32m   1485\u001b[0m \u001b[1;33m\u001b[0m\u001b[0m\n",
      "\u001b[1;31mRuntimeError\u001b[0m: Error(s) in loading state_dict for SkinCancerModel:\n\tMissing key(s) in state_dict: \"conv_1.weight\", \"conv_1.bias\", \"batch_norm_1.weight\", \"batch_norm_1.bias\", \"batch_norm_1.running_mean\", \"batch_norm_1.running_var\", \"conv_2.weight\", \"conv_2.bias\", \"batch_norm_2.weight\", \"batch_norm_2.bias\", \"batch_norm_2.running_mean\", \"batch_norm_2.running_var\", \"conv_3.weight\", \"conv_3.bias\", \"batch_norm_3.weight\", \"batch_norm_3.bias\", \"batch_norm_3.running_mean\", \"batch_norm_3.running_var\", \"fc_1.weight\", \"fc_1.bias\". \n\tUnexpected key(s) in state_dict: \"model_state_dict\". "
     ]
    }
   ],
   "source": [
    "model = SkinCancerModel()\n",
    "model.load_state_dict(torch.load(MODEL_PATH))\n",
    "model.eval()\n",
    "# model.eval()"
   ]
  },
  {
   "cell_type": "code",
   "execution_count": 45,
   "metadata": {},
   "outputs": [],
   "source": [
    "test_accuracy = evaluate(model=model, data_loader=test_loader, device=device)"
   ]
  },
  {
   "cell_type": "code",
   "execution_count": 46,
   "metadata": {},
   "outputs": [
    {
     "name": "stdout",
     "output_type": "stream",
     "text": [
      "Test accuracy: 86.41%\n"
     ]
    }
   ],
   "source": [
    "print(f'Test accuracy: {test_accuracy:.2f}%')"
   ]
  }
 ],
 "metadata": {
  "kernelspec": {
   "display_name": "Python 3",
   "language": "python",
   "name": "python3"
  },
  "language_info": {
   "codemirror_mode": {
    "name": "ipython",
    "version": 3
   },
   "file_extension": ".py",
   "mimetype": "text/x-python",
   "name": "python",
   "nbconvert_exporter": "python",
   "pygments_lexer": "ipython3",
   "version": "3.7.11"
  },
  "vscode": {
   "interpreter": {
    "hash": "10eb846de63666c3d1da1aff7a31c23ecda0022b7e23d8d52b6d5432baf7978e"
   }
  }
 },
 "nbformat": 4,
 "nbformat_minor": 2
}
