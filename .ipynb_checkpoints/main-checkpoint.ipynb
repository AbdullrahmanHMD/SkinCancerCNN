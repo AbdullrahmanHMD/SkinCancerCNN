{
 "cells": [
  {
   "cell_type": "code",
   "execution_count": 1,
   "metadata": {},
   "outputs": [],
   "source": [
    "%load_ext autoreload\n",
    "%autoreload 2"
   ]
  },
  {
   "cell_type": "code",
   "execution_count": 2,
   "metadata": {},
   "outputs": [],
   "source": [
    "from data.moleDataset import *\n",
    "\n",
    "# Torch imports:\n",
    "import torch\n",
    "import torch.nn as nn\n",
    "from torch import optim\n",
    "from torchvision import transforms\n",
    "from torch.utils.data import Subset, DataLoader\n",
    "\n",
    "# Model imports:\n",
    "from model import *\n",
    "\n",
    "# Train and evaluation imports:\n",
    "from train import train\n",
    "\n",
    "import os\n",
    "import json"
   ]
  },
  {
   "cell_type": "code",
   "execution_count": 3,
   "metadata": {},
   "outputs": [],
   "source": [
    "os.environ['KMP_DUPLICATE_LIB_OK'] = 'True'"
   ]
  },
  {
   "cell_type": "markdown",
   "metadata": {},
   "source": [
    "### Defining the device"
   ]
  },
  {
   "cell_type": "code",
   "execution_count": 4,
   "metadata": {},
   "outputs": [
    {
     "name": "stdout",
     "output_type": "stream",
     "text": [
      "Using: NVIDIA GeForce GTX 1060 6GB\n",
      "Current device: cuda\n"
     ]
    }
   ],
   "source": [
    "device = 'cpu'\n",
    "if torch.cuda.is_available():\n",
    "    device = 'cuda'\n",
    "    print(f'Using: {torch.cuda.get_device_name(0)}')\n",
    "print(f'Current device: {device}')"
   ]
  },
  {
   "cell_type": "markdown",
   "metadata": {},
   "source": [
    "# Data preprocessing:"
   ]
  },
  {
   "cell_type": "markdown",
   "metadata": {},
   "source": [
    "### Getting the mean and standard deviation of the dataset in order to apply normalization on the data:"
   ]
  },
  {
   "cell_type": "code",
   "execution_count": 5,
   "metadata": {},
   "outputs": [
    {
     "name": "stdout",
     "output_type": "stream",
     "text": [
      "Dataset mean: \t\t\t[0.4944856143767711, 0.4950292797617727, 0.4954058302766022]\n",
      "Dataset standard deviation: \t[0.28984177278042145, 0.28989603043370027, 0.28941759149050483]\n"
     ]
    }
   ],
   "source": [
    "# Getting the path to the .txt file that contains the mean and std:\n",
    "DATA_STATS_FILE_NAME = \"dataset_stats.txt\"\n",
    "STATS_FILE_PATH = os.path.join(os.path.dirname(os.path.abspath('__file__')), 'data', DATA_STATS_FILE_NAME)\n",
    "\n",
    "# Reading the statistics file:\n",
    "stats_dict = None\n",
    "with open(STATS_FILE_PATH, 'r') as stats_file:\n",
    "    stats_dict = json.loads(stats_file.read())\n",
    "    \n",
    "mean, std = stats_dict['mean'], stats_dict['std']\n",
    "\n",
    "print(f'Dataset mean: \\t\\t\\t{mean}\\nDataset standard deviation: \\t{std}')"
   ]
  },
  {
   "cell_type": "markdown",
   "metadata": {},
   "source": [
    "### Creating the preprocessing operations that the images will undergo:"
   ]
  },
  {
   "cell_type": "code",
   "execution_count": 6,
   "metadata": {},
   "outputs": [],
   "source": [
    "image_preprocessing = transforms.Compose([\n",
    "                            transforms.ToTensor(),\n",
    "                            transforms.transforms.Normalize(mean, std),\n",
    "                            lambda image : transforms.functional.adjust_sharpness(image,\n",
    "                                                                                sharpness_factor=2)])\n",
    "\n",
    "# This transform is the same as the above one but it does not convert to Tensor\n",
    "# So the returned image from the dataset can be visualized easier.\n",
    "image_preprocessing_test = transforms.Compose([\n",
    "                            transforms.transforms.Normalize(mean, std),\n",
    "                            lambda image : transforms.functional.adjust_sharpness(image,\n",
    "                                                                                sharpness_factor=2)])"
   ]
  },
  {
   "cell_type": "markdown",
   "metadata": {},
   "source": [
    "# Defining the dataset:"
   ]
  },
  {
   "cell_type": "code",
   "execution_count": 7,
   "metadata": {},
   "outputs": [],
   "source": [
    "# Creating the dataset instance:\n",
    "test_dataset = MoleDataset(transform=image_preprocessing)"
   ]
  },
  {
   "cell_type": "markdown",
   "metadata": {},
   "source": [
    "### The dataset class distribution:"
   ]
  },
  {
   "cell_type": "code",
   "execution_count": 8,
   "metadata": {
    "scrolled": true
   },
   "outputs": [
    {
     "data": {
      "text/plain": [
       "{'akiec': 327,\n",
       " 'bcc': 514,\n",
       " 'bkl': 1099,\n",
       " 'df': 115,\n",
       " 'mel': 1113,\n",
       " 'nv': 6705,\n",
       " 'vasc': 142}"
      ]
     },
     "execution_count": 8,
     "metadata": {},
     "output_type": "execute_result"
    }
   ],
   "source": [
    "data_dist = test_dataset.get_data_distribution()\n",
    "data_dist"
   ]
  },
  {
   "cell_type": "markdown",
   "metadata": {},
   "source": [
    "### Plotting the data distribution:"
   ]
  },
  {
   "cell_type": "code",
   "execution_count": 9,
   "metadata": {},
   "outputs": [
    {
     "data": {
      "text/plain": [
       "<Figure size 800x480 with 1 Axes>"
      ]
     },
     "metadata": {},
     "output_type": "display_data"
    }
   ],
   "source": [
    "import matplotlib.pyplot as plt\n",
    "from matplotlib.pyplot import figure\n",
    "\n",
    "\n",
    "figure(figsize=(10, 6), dpi=80)\n",
    "plt.title('Data Distribution')\n",
    "\n",
    "y = list(data_dist.values())\n",
    "x = [f'{label} ({count})' for label, count in zip(data_dist.keys(), data_dist.values())]\n",
    "\n",
    "plt.xlabel(\"Class\")\n",
    "plt.ylabel(\"Frequency\")\n",
    "plt.bar(x, y, color='b')\n",
    "\n",
    "plt.show()"
   ]
  },
  {
   "cell_type": "markdown",
   "metadata": {},
   "source": [
    "# Overfitting Experiment:"
   ]
  },
  {
   "cell_type": "markdown",
   "metadata": {},
   "source": [
    "### Creating a subset for training:"
   ]
  },
  {
   "cell_type": "code",
   "execution_count": 76,
   "metadata": {
    "scrolled": true
   },
   "outputs": [],
   "source": [
    "SUBSET_SIZE = 150\n",
    "sample_array = list(range(len(test_dataset)))\n",
    "subset_indicies = np.random.choice(sample_array, SUBSET_SIZE, replace=False)\n",
    "train_subset = Subset(test_dataset, subset_indicies)"
   ]
  },
  {
   "cell_type": "code",
   "execution_count": 77,
   "metadata": {},
   "outputs": [],
   "source": [
    "subset_loader = DataLoader(train_subset, shuffle=False, batch_size=8)"
   ]
  },
  {
   "cell_type": "markdown",
   "metadata": {},
   "source": [
    "### Creating the model:"
   ]
  },
  {
   "cell_type": "code",
   "execution_count": 78,
   "metadata": {},
   "outputs": [],
   "source": [
    "model_overfit = SkinCancerModel()\n",
    "# model_overfit = None"
   ]
  },
  {
   "cell_type": "markdown",
   "metadata": {},
   "source": [
    "### The hyperparameters, the loss function and the optimizer:"
   ]
  },
  {
   "cell_type": "code",
   "execution_count": 79,
   "metadata": {},
   "outputs": [],
   "source": [
    "learning_rate = 7e-3\n",
    "momentum = 0.9\n",
    "\n",
    "criterion = nn.CrossEntropyLoss()\n",
    "optimizer = optim.SGD(model_overfit.parameters(), lr=learning_rate, momentum=momentum)"
   ]
  },
  {
   "cell_type": "code",
   "execution_count": 80,
   "metadata": {},
   "outputs": [],
   "source": [
    "epochs = 20"
   ]
  },
  {
   "cell_type": "markdown",
   "metadata": {},
   "source": [
    "### Overfitting the model:"
   ]
  },
  {
   "cell_type": "code",
   "execution_count": 81,
   "metadata": {},
   "outputs": [
    {
     "name": "stderr",
     "output_type": "stream",
     "text": [
      "\r",
      "  0%|          | 0/20 [00:00<?, ?it/s]"
     ]
    },
    {
     "name": "stdout",
     "output_type": "stream",
     "text": [
      "Evaluating epoch...\n"
     ]
    },
    {
     "name": "stderr",
     "output_type": "stream",
     "text": [
      "\r",
      "  5%|▌         | 1/20 [00:11<03:43, 11.75s/it]"
     ]
    },
    {
     "name": "stdout",
     "output_type": "stream",
     "text": [
      "Epoch: 0 | Train_acc: 39.58% | Val_acc: 39.58% | Loss: 248.73 | Runtime: 11.75 seconds\n",
      "Evaluating epoch...\n"
     ]
    },
    {
     "name": "stderr",
     "output_type": "stream",
     "text": [
      "\r",
      " 10%|█         | 2/20 [00:22<03:25, 11.40s/it]"
     ]
    },
    {
     "name": "stdout",
     "output_type": "stream",
     "text": [
      "Epoch: 1 | Train_acc: 38.74% | Val_acc: 38.74% | Loss: 75.56 | Runtime: 11.15 seconds\n",
      "Evaluating epoch...\n"
     ]
    },
    {
     "name": "stderr",
     "output_type": "stream",
     "text": [
      "\r",
      " 15%|█▌        | 3/20 [00:33<03:11, 11.24s/it]"
     ]
    },
    {
     "name": "stdout",
     "output_type": "stream",
     "text": [
      "Epoch: 2 | Train_acc: 38.74% | Val_acc: 38.74% | Loss: 32.10 | Runtime: 11.05 seconds\n",
      "Evaluating epoch...\n"
     ]
    },
    {
     "name": "stderr",
     "output_type": "stream",
     "text": [
      "\r",
      " 20%|██        | 4/20 [00:46<03:07, 11.73s/it]"
     ]
    },
    {
     "name": "stdout",
     "output_type": "stream",
     "text": [
      "Epoch: 3 | Train_acc: 38.74% | Val_acc: 38.74% | Loss: 25.01 | Runtime: 12.49 seconds\n",
      "Evaluating epoch...\n"
     ]
    },
    {
     "name": "stderr",
     "output_type": "stream",
     "text": [
      "\r",
      " 25%|██▌       | 5/20 [00:57<02:53, 11.55s/it]"
     ]
    },
    {
     "name": "stdout",
     "output_type": "stream",
     "text": [
      "Epoch: 4 | Train_acc: 38.74% | Val_acc: 38.74% | Loss: 22.65 | Runtime: 11.23 seconds\n",
      "Evaluating epoch...\n"
     ]
    },
    {
     "name": "stderr",
     "output_type": "stream",
     "text": [
      "\r",
      " 30%|███       | 6/20 [01:08<02:39, 11.39s/it]"
     ]
    },
    {
     "name": "stdout",
     "output_type": "stream",
     "text": [
      "Epoch: 5 | Train_acc: 39.16% | Val_acc: 39.16% | Loss: 22.41 | Runtime: 11.09 seconds\n",
      "Evaluating epoch...\n"
     ]
    },
    {
     "name": "stderr",
     "output_type": "stream",
     "text": [
      "\r",
      " 35%|███▌      | 7/20 [01:19<02:27, 11.34s/it]"
     ]
    },
    {
     "name": "stdout",
     "output_type": "stream",
     "text": [
      "Epoch: 6 | Train_acc: 40.00% | Val_acc: 40.00% | Loss: 21.61 | Runtime: 11.24 seconds\n",
      "Evaluating epoch...\n"
     ]
    },
    {
     "name": "stderr",
     "output_type": "stream",
     "text": [
      "\r",
      " 40%|████      | 8/20 [01:31<02:15, 11.28s/it]"
     ]
    },
    {
     "name": "stdout",
     "output_type": "stream",
     "text": [
      "Epoch: 7 | Train_acc: 40.42% | Val_acc: 40.42% | Loss: 21.05 | Runtime: 11.15 seconds\n",
      "Evaluating epoch...\n"
     ]
    },
    {
     "name": "stderr",
     "output_type": "stream",
     "text": [
      "\r",
      " 45%|████▌     | 9/20 [01:43<02:08, 11.65s/it]"
     ]
    },
    {
     "name": "stdout",
     "output_type": "stream",
     "text": [
      "Epoch: 8 | Train_acc: 40.42% | Val_acc: 40.42% | Loss: 20.60 | Runtime: 12.45 seconds\n",
      "Evaluating epoch...\n"
     ]
    },
    {
     "name": "stderr",
     "output_type": "stream",
     "text": [
      "\r",
      " 50%|█████     | 10/20 [01:55<01:55, 11.57s/it]"
     ]
    },
    {
     "name": "stdout",
     "output_type": "stream",
     "text": [
      "Epoch: 9 | Train_acc: 40.84% | Val_acc: 40.84% | Loss: 19.96 | Runtime: 11.40 seconds\n",
      "Evaluating epoch...\n"
     ]
    },
    {
     "name": "stderr",
     "output_type": "stream",
     "text": [
      "\r",
      " 55%|█████▌    | 11/20 [02:06<01:43, 11.54s/it]"
     ]
    },
    {
     "name": "stdout",
     "output_type": "stream",
     "text": [
      "Epoch: 10 | Train_acc: 41.68% | Val_acc: 41.68% | Loss: 19.66 | Runtime: 11.46 seconds\n",
      "Evaluating epoch...\n"
     ]
    },
    {
     "name": "stderr",
     "output_type": "stream",
     "text": [
      "\r",
      " 60%|██████    | 12/20 [02:18<01:32, 11.54s/it]"
     ]
    },
    {
     "name": "stdout",
     "output_type": "stream",
     "text": [
      "Epoch: 11 | Train_acc: 42.95% | Val_acc: 42.95% | Loss: 19.16 | Runtime: 11.55 seconds\n",
      "Evaluating epoch...\n"
     ]
    },
    {
     "name": "stderr",
     "output_type": "stream",
     "text": [
      "\r",
      " 65%|██████▌   | 13/20 [02:29<01:20, 11.48s/it]"
     ]
    },
    {
     "name": "stdout",
     "output_type": "stream",
     "text": [
      "Epoch: 12 | Train_acc: 42.95% | Val_acc: 42.95% | Loss: 18.64 | Runtime: 11.35 seconds\n",
      "Evaluating epoch...\n"
     ]
    },
    {
     "name": "stderr",
     "output_type": "stream",
     "text": [
      "\r",
      " 70%|███████   | 14/20 [02:40<01:08, 11.49s/it]"
     ]
    },
    {
     "name": "stdout",
     "output_type": "stream",
     "text": [
      "Epoch: 13 | Train_acc: 42.95% | Val_acc: 42.95% | Loss: 18.30 | Runtime: 11.51 seconds\n",
      "Evaluating epoch...\n"
     ]
    },
    {
     "name": "stderr",
     "output_type": "stream",
     "text": [
      "\r",
      " 75%|███████▌  | 15/20 [02:51<00:56, 11.37s/it]"
     ]
    },
    {
     "name": "stdout",
     "output_type": "stream",
     "text": [
      "Epoch: 14 | Train_acc: 43.79% | Val_acc: 43.79% | Loss: 17.85 | Runtime: 11.10 seconds\n",
      "Evaluating epoch...\n"
     ]
    },
    {
     "name": "stderr",
     "output_type": "stream",
     "text": [
      "\r",
      " 80%|████████  | 16/20 [03:03<00:45, 11.30s/it]"
     ]
    },
    {
     "name": "stdout",
     "output_type": "stream",
     "text": [
      "Epoch: 15 | Train_acc: 45.89% | Val_acc: 45.89% | Loss: 17.36 | Runtime: 11.12 seconds\n",
      "Evaluating epoch...\n"
     ]
    },
    {
     "name": "stderr",
     "output_type": "stream",
     "text": [
      "\r",
      " 85%|████████▌ | 17/20 [03:14<00:33, 11.23s/it]"
     ]
    },
    {
     "name": "stdout",
     "output_type": "stream",
     "text": [
      "Epoch: 16 | Train_acc: 46.32% | Val_acc: 46.32% | Loss: 16.92 | Runtime: 11.08 seconds\n",
      "Evaluating epoch...\n"
     ]
    },
    {
     "name": "stderr",
     "output_type": "stream",
     "text": [
      "\r",
      " 90%|█████████ | 18/20 [03:26<00:23, 11.59s/it]"
     ]
    },
    {
     "name": "stdout",
     "output_type": "stream",
     "text": [
      "Epoch: 17 | Train_acc: 48.42% | Val_acc: 48.42% | Loss: 16.42 | Runtime: 12.43 seconds\n",
      "Evaluating epoch...\n"
     ]
    },
    {
     "name": "stderr",
     "output_type": "stream",
     "text": [
      "\r",
      " 95%|█████████▌| 19/20 [03:37<00:11, 11.50s/it]"
     ]
    },
    {
     "name": "stdout",
     "output_type": "stream",
     "text": [
      "Epoch: 18 | Train_acc: 48.84% | Val_acc: 48.84% | Loss: 15.84 | Runtime: 11.29 seconds\n",
      "Evaluating epoch...\n"
     ]
    },
    {
     "name": "stderr",
     "output_type": "stream",
     "text": [
      "100%|██████████| 20/20 [03:49<00:00, 11.46s/it]"
     ]
    },
    {
     "name": "stdout",
     "output_type": "stream",
     "text": [
      "Epoch: 19 | Train_acc: 49.68% | Val_acc: 49.68% | Loss: 15.38 | Runtime: 11.27 seconds\n"
     ]
    },
    {
     "name": "stderr",
     "output_type": "stream",
     "text": [
      "\n"
     ]
    }
   ],
   "source": [
    "total_loss, epoch_durations, accuracies_train, accuracies_validation = train(model=model_overfit,\n",
    "                                                                            train_loader=subset_loader,\n",
    "                                                                            validation_loader=subset_loader,\n",
    "                                                                            criterion=criterion,\n",
    "                                                                            optimizer=optimizer,\n",
    "                                                                            epochs=epochs,\n",
    "                                                                            verbose=True)"
   ]
  },
  {
   "cell_type": "code",
   "execution_count": 82,
   "metadata": {},
   "outputs": [
    {
     "data": {
      "text/plain": [
       "[<matplotlib.lines.Line2D at 0x201f2f24208>]"
      ]
     },
     "execution_count": 82,
     "metadata": {},
     "output_type": "execute_result"
    },
    {
     "data": {
      "image/png": "[encoded data removed]",
      "text/plain": [
       "<Figure size 432x288 with 1 Axes>"
      ]
     },
     "metadata": {
      "needs_background": "light"
     },
     "output_type": "display_data"
    }
   ],
   "source": [
    "plt.plot(accuracies_validation)\n",
    "plt.plot(total_loss, color='r')"
   ]
  },
  {
   "cell_type": "code",
   "execution_count": null,
   "metadata": {},
   "outputs": [],
   "source": []
  }
 ],
 "metadata": {
  "kernelspec": {
   "display_name": "Python 3",
   "language": "python",
   "name": "python3"
  },
  "language_info": {
   "codemirror_mode": {
    "name": "ipython",
    "version": 3
   },
   "file_extension": ".py",
   "mimetype": "text/x-python",
   "name": "python",
   "nbconvert_exporter": "python",
   "pygments_lexer": "ipython3",
   "version": "3.7.11"
  }
 },
 "nbformat": 4,
 "nbformat_minor": 2
}
