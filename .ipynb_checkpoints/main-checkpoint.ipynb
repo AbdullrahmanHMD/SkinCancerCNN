{
 "cells": [
  {
   "cell_type": "code",
   "execution_count": 16,
   "metadata": {},
   "outputs": [
    {
     "name": "stdout",
     "output_type": "stream",
     "text": [
      "The autoreload extension is already loaded. To reload it, use:\n",
      "  %reload_ext autoreload\n"
     ]
    }
   ],
   "source": [
    "%load_ext autoreload\n",
    "%autoreload 2"
   ]
  },
  {
   "cell_type": "code",
   "execution_count": 33,
   "metadata": {},
   "outputs": [],
   "source": [
    "# Dataset imports:\n",
    "from data.moleDataset import *\n",
    "\n",
    "# Data augmenter imports:\n",
    "from data.data_augmentation import*\n",
    "\n",
    "# Torch imports:\n",
    "import torch\n",
    "import torch.nn as nn\n",
    "from torch import optim\n",
    "from torchvision import transforms\n",
    "from torch.utils.data import Subset, DataLoader, random_split\n",
    "\n",
    "# Model imports:\n",
    "from model import *\n",
    "\n",
    "# Train and evaluation imports:\n",
    "from train import train\n",
    "from evaluate import evaluate\n",
    "\n",
    "# Plotting imports:\n",
    "import matplotlib.pyplot as plt\n",
    "from matplotlib.pyplot import figure\n",
    "\n",
    "# General imports:\n",
    "import os\n",
    "import json\n",
    "import math\n",
    "\n",
    "# Other imports:\n",
    "from tqdm import tqdm"
   ]
  },
  {
   "cell_type": "code",
   "execution_count": 18,
   "metadata": {},
   "outputs": [],
   "source": [
    "os.environ['KMP_DUPLICATE_LIB_OK'] = 'True'"
   ]
  },
  {
   "cell_type": "markdown",
   "metadata": {},
   "source": [
    "### Defining the device"
   ]
  },
  {
   "cell_type": "code",
   "execution_count": 19,
   "metadata": {},
   "outputs": [
    {
     "name": "stdout",
     "output_type": "stream",
     "text": [
      "Using: NVIDIA GeForce GTX 1060 6GB\n",
      "Current device: cuda\n"
     ]
    }
   ],
   "source": [
    "device = 'cpu'\n",
    "if torch.cuda.is_available():\n",
    "    device = 'cuda'\n",
    "    print(f'Using: {torch.cuda.get_device_name(0)}')\n",
    "print(f'Current device: {device}')"
   ]
  },
  {
   "cell_type": "markdown",
   "metadata": {},
   "source": [
    "# Data preprocessing:"
   ]
  },
  {
   "cell_type": "markdown",
   "metadata": {},
   "source": [
    "### Getting the mean and standard deviation of the dataset in order to apply normalization on the data:"
   ]
  },
  {
   "cell_type": "code",
   "execution_count": 20,
   "metadata": {},
   "outputs": [
    {
     "name": "stdout",
     "output_type": "stream",
     "text": [
      "Dataset mean: \t\t\t[0.4944856143767711, 0.4950292797617727, 0.4954058302766022]\n",
      "Dataset standard deviation: \t[0.28984177278042145, 0.28989603043370027, 0.28941759149050483]\n"
     ]
    }
   ],
   "source": [
    "# Getting the path to the .txt file that contains the mean and std:\n",
    "DATA_STATS_FILE_NAME = \"dataset_stats.txt\"\n",
    "STATS_FILE_PATH = os.path.join(os.path.dirname(os.path.abspath('__file__')), 'data', DATA_STATS_FILE_NAME)\n",
    "\n",
    "# Reading the statistics file:\n",
    "stats_dict = None\n",
    "with open(STATS_FILE_PATH, 'r') as stats_file:\n",
    "    stats_dict = json.loads(stats_file.read())\n",
    "    \n",
    "mean, std = stats_dict['mean'], stats_dict['std']\n",
    "\n",
    "print(f'Dataset mean: \\t\\t\\t{mean}\\nDataset standard deviation: \\t{std}')"
   ]
  },
  {
   "cell_type": "markdown",
   "metadata": {},
   "source": [
    "### Creating the preprocessing operations that the images will undergo:"
   ]
  },
  {
   "cell_type": "code",
   "execution_count": 21,
   "metadata": {},
   "outputs": [],
   "source": [
    "# This Compose includes the following:\n",
    "#     1) Transforms the images to tensors.\n",
    "#     2) Normalized the dataset.\n",
    "#     3) Sharpens the images.\n",
    "image_preprocessing = transforms.Compose([\n",
    "                            transforms.ToTensor(),\n",
    "                            transforms.transforms.Normalize(mean, std),\n",
    "                            lambda image : transforms.functional.adjust_sharpness(image,\n",
    "                                                                                sharpness_factor=2)])\n",
    "\n",
    "image_preprocessing = transforms.Compose([\n",
    "                            transforms.ToTensor(),\n",
    "                            transforms.transforms.Normalize(mean, std)])\n",
    "\n",
    "# This transform is the same as the above one but it does not convert to Tensor\n",
    "# So the returned image from the dataset can be visualized easier.\n",
    "image_preprocessing_test = transforms.Compose([\n",
    "                            transforms.transforms.Normalize(mean, std),\n",
    "                            lambda image : transforms.functional.adjust_sharpness(image,\n",
    "                                                                                sharpness_factor=2)])"
   ]
  },
  {
   "cell_type": "markdown",
   "metadata": {},
   "source": [
    "# Defining the dataset:"
   ]
  },
  {
   "cell_type": "code",
   "execution_count": 33,
   "metadata": {},
   "outputs": [],
   "source": [
    "# Creating the dataset instance:\n",
    "test_dataset = MoleDataset(transform=image_preprocessing)"
   ]
  },
  {
   "cell_type": "markdown",
   "metadata": {},
   "source": [
    "### The dataset class distribution:"
   ]
  },
  {
   "cell_type": "code",
   "execution_count": 21,
   "metadata": {
    "scrolled": true
   },
   "outputs": [
    {
     "data": {
      "text/plain": [
       "{'akiec': 327,\n",
       " 'bcc': 514,\n",
       " 'bkl': 1099,\n",
       " 'df': 115,\n",
       " 'mel': 1113,\n",
       " 'nv': 6705,\n",
       " 'vasc': 142}"
      ]
     },
     "execution_count": 21,
     "metadata": {},
     "output_type": "execute_result"
    }
   ],
   "source": [
    "data_dist = test_dataset.get_data_distribution()\n",
    "data_dist"
   ]
  },
  {
   "cell_type": "markdown",
   "metadata": {},
   "source": [
    "### Plotting the data distribution:"
   ]
  },
  {
   "cell_type": "code",
   "execution_count": null,
   "metadata": {},
   "outputs": [],
   "source": [
    "figure(figsize=(10, 6), dpi=80)\n",
    "plt.title('Data Distribution')\n",
    "\n",
    "y = list(data_dist.values())\n",
    "x = [f'{label} ({count})' for label, count in zip(data_dist.keys(), data_dist.values())]\n",
    "\n",
    "plt.xlabel(\"Class\")\n",
    "plt.ylabel(\"Frequency\")\n",
    "plt.bar(x, y, color='b')\n",
    "\n",
    "plt.show()"
   ]
  },
  {
   "cell_type": "markdown",
   "metadata": {},
   "source": [
    "# Overfitting Experiment:"
   ]
  },
  {
   "cell_type": "markdown",
   "metadata": {},
   "source": [
    "### Creating a subset for training:"
   ]
  },
  {
   "cell_type": "code",
   "execution_count": null,
   "metadata": {
    "scrolled": true
   },
   "outputs": [],
   "source": [
    "SUBSET_SIZE = 100\n",
    "selected_class = 2\n",
    "sample_array_1 = test_dataset.get_class_indecies(selected_class)\n",
    "\n",
    "selected_class = 4\n",
    "sample_array_2 = test_dataset.get_class_indecies(selected_class)\n",
    "\n",
    "sample_array = sample_array_1 + sample_array_2\n",
    "\n",
    "subset_indicies = np.random.choice(sample_array, SUBSET_SIZE, replace=False)\n",
    "train_subset = Subset(test_dataset, subset_indicies)"
   ]
  },
  {
   "cell_type": "code",
   "execution_count": null,
   "metadata": {},
   "outputs": [],
   "source": [
    "subset_loader = DataLoader(train_subset, shuffle=True, batch_size=32)"
   ]
  },
  {
   "cell_type": "markdown",
   "metadata": {},
   "source": [
    "### Creating the model:"
   ]
  },
  {
   "cell_type": "code",
   "execution_count": 23,
   "metadata": {},
   "outputs": [],
   "source": [
    "model_overfit = SkinCancerModel()"
   ]
  },
  {
   "cell_type": "markdown",
   "metadata": {},
   "source": [
    "### The hyperparameters, the loss function and the optimizer:"
   ]
  },
  {
   "cell_type": "code",
   "execution_count": 24,
   "metadata": {},
   "outputs": [],
   "source": [
    "learning_rate = 1e-3\n",
    "momentum = 0.9\n",
    "\n",
    "criterion = nn.CrossEntropyLoss()\n",
    "optimizer = optim.SGD(model_overfit.parameters(), lr=learning_rate, momentum=momentum)"
   ]
  },
  {
   "cell_type": "code",
   "execution_count": 25,
   "metadata": {},
   "outputs": [],
   "source": [
    "epochs = 60"
   ]
  },
  {
   "cell_type": "markdown",
   "metadata": {},
   "source": [
    "### Overfitting the model:"
   ]
  },
  {
   "cell_type": "code",
   "execution_count": null,
   "metadata": {},
   "outputs": [],
   "source": [
    "total_loss, epoch_durations, accuracies_train, accuracies_validation = train(model=model_overfit,\n",
    "                                                                            train_loader=subset_loader,\n",
    "                                                                            validation_loader=subset_loader,\n",
    "                                                                            criterion=criterion,\n",
    "                                                                            optimizer=optimizer,\n",
    "                                                                            epochs=epochs,\n",
    "                                                                            verbose=True)"
   ]
  },
  {
   "cell_type": "code",
   "execution_count": null,
   "metadata": {},
   "outputs": [],
   "source": [
    "figure(figsize=(5, 3), dpi=80)\n",
    "plt.title('Overfitting Experiment Accuracy')\n",
    "\n",
    "plt.xlabel(\"Epoch\")\n",
    "plt.ylabel(\"Accuracy\")\n",
    "plt.plot(accuracies_train, color='b')\n",
    "\n",
    "plt.show()\n",
    "\n",
    "figure(figsize=(5, 3), dpi=80)\n",
    "plt.title('Loss')\n",
    "plt.xlabel(\"Epoch\")\n",
    "plt.ylabel(\"Loss Value\")\n",
    "plt.plot(total_loss, color='r')\n",
    "plt.show()"
   ]
  },
  {
   "cell_type": "markdown",
   "metadata": {},
   "source": [
    "# Setting up the actual model:"
   ]
  },
  {
   "cell_type": "markdown",
   "metadata": {},
   "source": [
    "### Defining the Dataset object:"
   ]
  },
  {
   "cell_type": "code",
   "execution_count": 22,
   "metadata": {},
   "outputs": [],
   "source": [
    "dataset = MoleDataset()"
   ]
  },
  {
   "cell_type": "markdown",
   "metadata": {},
   "source": [
    "### Splitting the dataset into train, validation, and test sets:"
   ]
  },
  {
   "cell_type": "code",
   "execution_count": 23,
   "metadata": {
    "scrolled": true
   },
   "outputs": [],
   "source": [
    "# Defining the proportions of how the dataset will be split:\n",
    "train_proportion = 0.8\n",
    "validation_proportion = 0.1\n",
    "test_proportion = 0.1\n",
    "\n",
    "# Defining the sizes of the splits:\n",
    "\n",
    "# 1) The train set size:\n",
    "train_size = math.ceil(train_proportion * len(dataset))\n",
    "\n",
    "# 2) The validation set size:\n",
    "validation_size = math.ceil(validation_proportion * len(dataset))\n",
    "\n",
    "# 3) The test set size:\n",
    "test_size = math.floor(test_proportion * len(dataset))\n",
    "\n",
    "# Defining the indecies of the train, validation and test sets:\n",
    "all_indecies = np.random.choice(list(range(len(dataset))), (10, len(dataset) // 10), replace=False)\n",
    "\n",
    "train_set_ind = np.random.choice(list(range(all_indecies.shape[0])), int(train_proportion * 10), replace=False)\n",
    "val_set_ind = np.random.choice(list(range(all_indecies.shape[0])), int(validation_proportion * 10), replace=False)\n",
    "test_set_ind = np.random.choice(list(range(all_indecies.shape[0])), int(test_proportion * 10), replace=False)\n",
    "\n",
    "train_set_ind = np.append([], all_indecies[train_set_ind]).astype(np.int)\n",
    "val_set_ind = np.append([], all_indecies[val_set_ind]).astype(np.int)\n",
    "test_set_ind = np.append([], all_indecies[test_set_ind]).astype(np.int)\n",
    "\n",
    "# # Defining the train, validation, and test sets:\n",
    "class_threshold = 3000\n",
    "train_set = MoleDataset(indecies=train_set_ind, class_threshold=class_threshold)\n",
    "# train_set = MoleDataset(indecies=train_set_ind)\n",
    "validation_set = MoleDataset(transform=image_preprocessing, indecies=val_set_ind)\n",
    "test_set = MoleDataset(transform=image_preprocessing, indecies=test_set_ind)"
   ]
  },
  {
   "cell_type": "code",
   "execution_count": 24,
   "metadata": {},
   "outputs": [],
   "source": [
    "# i = 4\n",
    "\n",
    "# # print(f'Metadata {train_set.metadata.iloc[i, :]}')\n",
    "# print(f'Mapped label: {train_set.mapped_labels[i]}')\n",
    "# print(f'Label from the instance: {train_set.labels[i]}')\n",
    "# print(f'Label: {train_set[i][1]}')\n",
    "# print(train_set[i][2])\n",
    "\n",
    "\n",
    "# image = train_set[i][0]\n",
    "# plt.imshow(image.permute(1, 2, 0))"
   ]
  },
  {
   "cell_type": "code",
   "execution_count": 25,
   "metadata": {
    "scrolled": true
   },
   "outputs": [
    {
     "name": "stdout",
     "output_type": "stream",
     "text": [
      "5655\n"
     ]
    },
    {
     "data": {
      "text/plain": [
       "{'akiec': 268,\n",
       " 'bcc': 418,\n",
       " 'bkl': 878,\n",
       " 'df': 87,\n",
       " 'mel': 897,\n",
       " 'nv': 3000,\n",
       " 'vasc': 107}"
      ]
     },
     "execution_count": 25,
     "metadata": {},
     "output_type": "execute_result"
    }
   ],
   "source": [
    "data_dist = train_set.get_data_distribution()\n",
    "print(len(train_set))\n",
    "data_dist"
   ]
  },
  {
   "cell_type": "markdown",
   "metadata": {},
   "source": [
    "### Plotting the train data distribution before augmentation"
   ]
  },
  {
   "cell_type": "code",
   "execution_count": 11,
   "metadata": {
    "scrolled": true
   },
   "outputs": [
    {
     "data": {
      "image/png": "[encoded data removed]",
      "text/plain": [
       "<Figure size 800x480 with 1 Axes>"
      ]
     },
     "metadata": {
      "needs_background": "light"
     },
     "output_type": "display_data"
    }
   ],
   "source": [
    "figure(figsize=(10, 6), dpi=80)\n",
    "plt.title('Data Distribution')\n",
    "\n",
    "y = list(data_dist.values())\n",
    "x = [f'{label} ({count})' for label, count in zip(data_dist.keys(), data_dist.values())]\n",
    "\n",
    "plt.xlabel(\"Class\")\n",
    "plt.ylabel(\"Frequency\")\n",
    "plt.bar(x, y, color='b')\n",
    "\n",
    "plt.show()"
   ]
  },
  {
   "cell_type": "markdown",
   "metadata": {},
   "source": [
    "# Augmenting the training data:"
   ]
  },
  {
   "cell_type": "code",
   "execution_count": 12,
   "metadata": {},
   "outputs": [
    {
     "name": "stdout",
     "output_type": "stream",
     "text": [
      "Number of data points to be augmented: 15386\n"
     ]
    },
    {
     "data": {
      "text/plain": [
       "array([2736, 2619, 2130, 2901, 2110,    0, 2890], dtype=int64)"
      ]
     },
     "execution_count": 12,
     "metadata": {},
     "output_type": "execute_result"
    }
   ],
   "source": [
    "augmentation_amount = np.array([class_threshold - i for i in data_dist.values()])\n",
    "print(f'Number of data points to be augmented: {sum(augmentation_amount)}')\n",
    "augmentation_amount"
   ]
  },
  {
   "cell_type": "code",
   "execution_count": 19,
   "metadata": {
    "scrolled": false
   },
   "outputs": [
    {
     "name": "stdout",
     "output_type": "stream",
     "text": [
      "Cannot delete the augmented images due to at least one of the following reasons:\n",
      "1) The augemented images' folder contains a file that is not an augmented image or the metadata csv file.\n",
      "2) The augemented images' folder does not contain any augmented image.\n",
      "3) The augmented images' folder does not contain the metadatacsv file\n",
      "\n",
      "class: akiec | amount augmented: 2744\n"
     ]
    },
    {
     "name": "stderr",
     "output_type": "stream",
     "text": [
      "C:\\Users\\abooo\\anaconda3\\envs\\comp411\\lib\\site-packages\\pandas\\core\\series.py:1056: SettingWithCopyWarning: \n",
      "A value is trying to be set on a copy of a slice from a DataFrame\n",
      "\n",
      "See the caveats in the documentation: https://pandas.pydata.org/pandas-docs/stable/user_guide/indexing.html#returning-a-view-versus-a-copy\n",
      "  cacher_needs_updating = self._check_is_chained_assignment_possible()\n"
     ]
    },
    {
     "name": "stdout",
     "output_type": "stream",
     "text": [
      "class: bcc | amount augmented: 2577\n",
      "class: bkl | amount augmented: 2121\n",
      "class: df | amount augmented: 2897\n",
      "class: mel | amount augmented: 2129\n",
      "class: nv | amount augmented: 0\n",
      "class: vasc | amount augmented: 2887\n"
     ]
    }
   ],
   "source": [
    "# Getting the path where the augmented data will be placed:\n",
    "augmention_path_location = os.path.join(os.path.dirname(os.path.abspath(\"__file__\")), 'data', 'dataset_location.txt')\n",
    "augmentation_path = None\n",
    "with open(augmention_path_location, 'r') as file:\n",
    "    augmentation_path = json.loads(file.read())\n",
    "    augmentation_path = augmentation_path['aug_data']\n",
    "    \n",
    "    \n",
    "# Note: Uncomment this code if you want to augment new data.\n",
    "# augmenter = DataAugmenter(dataset=train_set, augmentation_path=augmentation_path)\n",
    "# Note: set replace to True if you want to delete the already augmented data and augment new data\n",
    "# augmenter.augment_multiple_classes(list(train_set.mapping.keys()), augmentation_amount, replace=True)"
   ]
  },
  {
   "cell_type": "code",
   "execution_count": 13,
   "metadata": {
    "scrolled": false
   },
   "outputs": [],
   "source": [
    "# train_set = MoleDataset(transform=image_preprocessing, indecies=train_set_ind, augment=True)\n",
    "train_set = MoleDataset(transform=image_preprocessing, indecies=train_set_ind, augment=True, class_threshold=class_threshold)"
   ]
  },
  {
   "cell_type": "code",
   "execution_count": 14,
   "metadata": {
    "scrolled": true
   },
   "outputs": [
    {
     "data": {
      "text/plain": [
       "{'akiec': 3000,\n",
       " 'bcc': 2958,\n",
       " 'bkl': 2991,\n",
       " 'df': 2996,\n",
       " 'mel': 3000,\n",
       " 'nv': 3000,\n",
       " 'vasc': 2997}"
      ]
     },
     "execution_count": 14,
     "metadata": {},
     "output_type": "execute_result"
    }
   ],
   "source": [
    "data_dist = train_set.get_data_distribution()\n",
    "data_dist"
   ]
  },
  {
   "cell_type": "markdown",
   "metadata": {},
   "source": [
    "# Plotting the data distribution after the augmentation:"
   ]
  },
  {
   "cell_type": "code",
   "execution_count": 15,
   "metadata": {},
   "outputs": [
    {
     "data": {
      "image/png": "[encoded data removed]",
      "text/plain": [
       "<Figure size 800x480 with 1 Axes>"
      ]
     },
     "metadata": {
      "needs_background": "light"
     },
     "output_type": "display_data"
    }
   ],
   "source": [
    "figure(figsize=(10, 6), dpi=80)\n",
    "plt.title('Data Distribution')\n",
    "\n",
    "y = list(data_dist.values())\n",
    "x = [f'{label} ({count})' for label, count in zip(data_dist.keys(), data_dist.values())]\n",
    "\n",
    "plt.xlabel(\"Class\")\n",
    "plt.ylabel(\"Frequency\")\n",
    "plt.bar(x, y, color='b')\n",
    "\n",
    "plt.show()"
   ]
  },
  {
   "cell_type": "markdown",
   "metadata": {},
   "source": [
    "### Creating the DataLoader objects:"
   ]
  },
  {
   "cell_type": "code",
   "execution_count": 26,
   "metadata": {},
   "outputs": [],
   "source": [
    "train_batch_size, validation_batch_size, test_batch_size = 16, 16, 32\n",
    "\n",
    "# Setting the num_workers to the number of cores on this machine.\n",
    "num_workers = 4\n",
    "\n",
    "train_loader = DataLoader(train_set, shuffle=True, batch_size=train_batch_size, num_workers=num_workers)\n",
    "validation_loader = DataLoader(validation_set, shuffle=True, batch_size=validation_batch_size, num_workers=num_workers)\n",
    "test_loader = DataLoader(test_set, shuffle=True, batch_size=test_batch_size, num_workers=num_workers)"
   ]
  },
  {
   "cell_type": "markdown",
   "metadata": {},
   "source": [
    "### Creating the model:"
   ]
  },
  {
   "cell_type": "code",
   "execution_count": 17,
   "metadata": {},
   "outputs": [],
   "source": [
    "dropout_prob = 0.5"
   ]
  },
  {
   "cell_type": "code",
   "execution_count": 18,
   "metadata": {},
   "outputs": [],
   "source": [
    "model = SkinCancerModel(dropout_prob=dropout_prob)"
   ]
  },
  {
   "cell_type": "markdown",
   "metadata": {},
   "source": [
    "### Defining the optimizer, criterion, and hyperparameters:"
   ]
  },
  {
   "cell_type": "code",
   "execution_count": 19,
   "metadata": {},
   "outputs": [],
   "source": [
    "learning_rate = 1e-3 # 1e-3\n",
    "weight_decay = 5e-6 # 5e-6\n",
    "\n",
    "# Getting the classes weights:\n",
    "# loss_weights = torch.tensor(dataset.class_weights(), dtype=torch.float)\n",
    "\n",
    "# Defining the optimizer:\n",
    "momentum = 0.9\n",
    "optimizer = optim.SGD(model.parameters(), lr=learning_rate, momentum=momentum, weight_decay=weight_decay)\n",
    "# optimizer = optim.Adam(model.parameters(), lr=learning_rate, weight_decay=weight_decay)\n",
    "\n",
    "# Defining the learning rate schedular:\n",
    "scheduler = optim.lr_scheduler.StepLR(optimizer, step_size=30, gamma=0.1) # step_size=30\n",
    "# scheduler = optim.lr_scheduler.ReduceLROnPlateau(optimizer, patience=2, verbose=True)\n",
    "# scheduler = None # Try without a scheduler\n",
    " \n",
    "# Defining the weighted loss function:\n",
    "# criterion = nn.CrossEntropyLoss(weight=loss_weights)\n",
    "criterion = nn.CrossEntropyLoss()\n",
    "criterion = criterion.to(device=device)"
   ]
  },
  {
   "cell_type": "markdown",
   "metadata": {},
   "source": [
    "### Defining the number of epochs:"
   ]
  },
  {
   "cell_type": "code",
   "execution_count": 20,
   "metadata": {},
   "outputs": [],
   "source": [
    "epochs = 60 # 50"
   ]
  },
  {
   "cell_type": "markdown",
   "metadata": {},
   "source": [
    "# Training the model"
   ]
  },
  {
   "cell_type": "code",
   "execution_count": 21,
   "metadata": {},
   "outputs": [
    {
     "name": "stderr",
     "output_type": "stream",
     "text": [
      "\r",
      "  0%|          | 0/60 [00:00<?, ?it/s]"
     ]
    },
    {
     "name": "stdout",
     "output_type": "stream",
     "text": [
      "Evaluating epoch...\n"
     ]
    },
    {
     "name": "stderr",
     "output_type": "stream",
     "text": [
      "\r",
      "  2%|▏         | 1/60 [03:58<3:54:53, 238.88s/it]"
     ]
    },
    {
     "name": "stdout",
     "output_type": "stream",
     "text": [
      "Learning rate: 0.001\n",
      "Epoch: 0 | Train_acc: 26.49% | Val_acc: 18.58% | Loss: 2210.50 | Runtime: 238.88 seconds\n",
      "Evaluating epoch...\n"
     ]
    },
    {
     "name": "stderr",
     "output_type": "stream",
     "text": [
      "\r",
      "  3%|▎         | 2/60 [07:17<3:27:46, 214.93s/it]"
     ]
    },
    {
     "name": "stdout",
     "output_type": "stream",
     "text": [
      "Learning rate: 0.001\n",
      "Epoch: 1 | Train_acc: 65.94% | Val_acc: 53.75% | Loss: 1510.63 | Runtime: 198.17 seconds\n",
      "Evaluating epoch...\n"
     ]
    },
    {
     "name": "stderr",
     "output_type": "stream",
     "text": [
      "\r",
      "  5%|▌         | 3/60 [10:29<3:14:13, 204.45s/it]"
     ]
    },
    {
     "name": "stdout",
     "output_type": "stream",
     "text": [
      "Learning rate: 0.001\n",
      "Epoch: 2 | Train_acc: 73.75% | Val_acc: 62.04% | Loss: 1181.65 | Runtime: 191.97 seconds\n",
      "Evaluating epoch...\n"
     ]
    },
    {
     "name": "stderr",
     "output_type": "stream",
     "text": [
      "\r",
      "  7%|▋         | 4/60 [13:44<3:07:25, 200.81s/it]"
     ]
    },
    {
     "name": "stdout",
     "output_type": "stream",
     "text": [
      "Learning rate: 0.001\n",
      "Epoch: 3 | Train_acc: 78.40% | Val_acc: 71.13% | Loss: 973.05 | Runtime: 195.24 seconds\n",
      "Evaluating epoch...\n"
     ]
    },
    {
     "name": "stderr",
     "output_type": "stream",
     "text": [
      "\r",
      "  8%|▊         | 5/60 [17:03<3:03:28, 200.15s/it]"
     ]
    },
    {
     "name": "stdout",
     "output_type": "stream",
     "text": [
      "Learning rate: 0.001\n",
      "Epoch: 4 | Train_acc: 83.71% | Val_acc: 68.63% | Loss: 809.20 | Runtime: 198.97 seconds\n",
      "Evaluating epoch...\n"
     ]
    },
    {
     "name": "stderr",
     "output_type": "stream",
     "text": [
      "\r",
      " 10%|█         | 6/60 [20:15<2:57:36, 197.34s/it]"
     ]
    },
    {
     "name": "stdout",
     "output_type": "stream",
     "text": [
      "Learning rate: 0.001\n",
      "Epoch: 5 | Train_acc: 85.56% | Val_acc: 70.83% | Loss: 700.20 | Runtime: 191.87 seconds\n",
      "Evaluating epoch...\n"
     ]
    },
    {
     "name": "stderr",
     "output_type": "stream",
     "text": [
      "\r",
      " 12%|█▏        | 7/60 [23:25<2:52:26, 195.21s/it]"
     ]
    },
    {
     "name": "stdout",
     "output_type": "stream",
     "text": [
      "Learning rate: 0.001\n",
      "Epoch: 6 | Train_acc: 87.78% | Val_acc: 72.23% | Loss: 625.17 | Runtime: 190.83 seconds\n",
      "Evaluating epoch...\n"
     ]
    },
    {
     "name": "stderr",
     "output_type": "stream",
     "text": [
      "\r",
      " 13%|█▎        | 8/60 [26:35<2:47:42, 193.52s/it]"
     ]
    },
    {
     "name": "stdout",
     "output_type": "stream",
     "text": [
      "Learning rate: 0.001\n",
      "Epoch: 7 | Train_acc: 88.07% | Val_acc: 74.73% | Loss: 557.41 | Runtime: 189.89 seconds\n",
      "Evaluating epoch...\n"
     ]
    },
    {
     "name": "stderr",
     "output_type": "stream",
     "text": [
      "\r",
      " 15%|█▌        | 9/60 [30:10<2:50:04, 200.08s/it]"
     ]
    },
    {
     "name": "stdout",
     "output_type": "stream",
     "text": [
      "Learning rate: 0.001\n",
      "Epoch: 8 | Train_acc: 89.13% | Val_acc: 76.22% | Loss: 498.51 | Runtime: 214.51 seconds\n",
      "Evaluating epoch...\n"
     ]
    },
    {
     "name": "stderr",
     "output_type": "stream",
     "text": [
      "\r",
      " 17%|█▋        | 10/60 [33:44<2:50:24, 204.48s/it]"
     ]
    },
    {
     "name": "stdout",
     "output_type": "stream",
     "text": [
      "Learning rate: 0.001\n",
      "Epoch: 9 | Train_acc: 89.99% | Val_acc: 72.03% | Loss: 456.24 | Runtime: 214.34 seconds\n",
      "Evaluating epoch...\n"
     ]
    },
    {
     "name": "stderr",
     "output_type": "stream",
     "text": [
      "\r",
      " 18%|█▊        | 11/60 [36:56<2:43:44, 200.49s/it]"
     ]
    },
    {
     "name": "stdout",
     "output_type": "stream",
     "text": [
      "Learning rate: 0.001\n",
      "Epoch: 10 | Train_acc: 91.75% | Val_acc: 77.02% | Loss: 418.56 | Runtime: 191.44 seconds\n",
      "Evaluating epoch...\n"
     ]
    },
    {
     "name": "stderr",
     "output_type": "stream",
     "text": [
      "\r",
      " 20%|██        | 12/60 [40:07<2:38:06, 197.64s/it]"
     ]
    },
    {
     "name": "stdout",
     "output_type": "stream",
     "text": [
      "Learning rate: 0.001\n",
      "Epoch: 11 | Train_acc: 91.12% | Val_acc: 78.62% | Loss: 389.82 | Runtime: 191.12 seconds\n",
      "Evaluating epoch...\n"
     ]
    },
    {
     "name": "stderr",
     "output_type": "stream",
     "text": [
      "\r",
      " 22%|██▏       | 13/60 [43:19<2:33:28, 195.93s/it]"
     ]
    },
    {
     "name": "stdout",
     "output_type": "stream",
     "text": [
      "Learning rate: 0.001\n",
      "Epoch: 12 | Train_acc: 91.53% | Val_acc: 78.72% | Loss: 354.49 | Runtime: 191.98 seconds\n",
      "Evaluating epoch...\n"
     ]
    },
    {
     "name": "stderr",
     "output_type": "stream",
     "text": [
      "\r",
      " 23%|██▎       | 14/60 [46:31<2:29:14, 194.67s/it]"
     ]
    },
    {
     "name": "stdout",
     "output_type": "stream",
     "text": [
      "Learning rate: 0.001\n",
      "Epoch: 13 | Train_acc: 93.47% | Val_acc: 80.22% | Loss: 329.76 | Runtime: 191.76 seconds\n",
      "Evaluating epoch...\n"
     ]
    },
    {
     "name": "stderr",
     "output_type": "stream",
     "text": [
      "\r",
      " 25%|██▌       | 15/60 [49:42<2:25:23, 193.86s/it]"
     ]
    },
    {
     "name": "stdout",
     "output_type": "stream",
     "text": [
      "Learning rate: 0.001\n",
      "Epoch: 14 | Train_acc: 91.56% | Val_acc: 67.83% | Loss: 302.01 | Runtime: 192.00 seconds\n",
      "Evaluating epoch...\n"
     ]
    },
    {
     "name": "stderr",
     "output_type": "stream",
     "text": [
      "\r",
      " 27%|██▋       | 16/60 [52:54<2:21:36, 193.10s/it]"
     ]
    },
    {
     "name": "stdout",
     "output_type": "stream",
     "text": [
      "Learning rate: 0.001\n",
      "Epoch: 15 | Train_acc: 94.16% | Val_acc: 81.72% | Loss: 292.04 | Runtime: 191.34 seconds\n",
      "Evaluating epoch...\n"
     ]
    },
    {
     "name": "stderr",
     "output_type": "stream",
     "text": [
      "\r",
      " 28%|██▊       | 17/60 [56:04<2:17:51, 192.37s/it]"
     ]
    },
    {
     "name": "stdout",
     "output_type": "stream",
     "text": [
      "Learning rate: 0.001\n",
      "Epoch: 16 | Train_acc: 94.89% | Val_acc: 77.92% | Loss: 275.90 | Runtime: 190.65 seconds\n",
      "Evaluating epoch...\n"
     ]
    },
    {
     "name": "stderr",
     "output_type": "stream",
     "text": [
      "\r",
      " 30%|███       | 18/60 [59:15<2:14:17, 191.85s/it]"
     ]
    },
    {
     "name": "stdout",
     "output_type": "stream",
     "text": [
      "Learning rate: 0.001\n",
      "Epoch: 17 | Train_acc: 93.14% | Val_acc: 80.82% | Loss: 258.36 | Runtime: 190.64 seconds\n",
      "Evaluating epoch...\n"
     ]
    },
    {
     "name": "stderr",
     "output_type": "stream",
     "text": [
      "\r",
      " 32%|███▏      | 19/60 [1:02:25<2:10:47, 191.40s/it]"
     ]
    },
    {
     "name": "stdout",
     "output_type": "stream",
     "text": [
      "Learning rate: 0.001\n",
      "Epoch: 18 | Train_acc: 95.09% | Val_acc: 83.32% | Loss: 238.29 | Runtime: 190.37 seconds\n",
      "Evaluating epoch...\n"
     ]
    },
    {
     "name": "stderr",
     "output_type": "stream",
     "text": [
      "\r",
      " 33%|███▎      | 20/60 [1:05:36<2:07:29, 191.23s/it]"
     ]
    },
    {
     "name": "stdout",
     "output_type": "stream",
     "text": [
      "Learning rate: 0.001\n",
      "Epoch: 19 | Train_acc: 94.51% | Val_acc: 82.82% | Loss: 220.40 | Runtime: 190.81 seconds\n",
      "Evaluating epoch...\n"
     ]
    },
    {
     "name": "stderr",
     "output_type": "stream",
     "text": [
      "\r",
      " 35%|███▌      | 21/60 [1:08:45<2:03:51, 190.56s/it]"
     ]
    },
    {
     "name": "stdout",
     "output_type": "stream",
     "text": [
      "Learning rate: 0.001\n",
      "Epoch: 20 | Train_acc: 96.04% | Val_acc: 85.71% | Loss: 205.63 | Runtime: 189.00 seconds\n",
      "Evaluating epoch...\n"
     ]
    },
    {
     "name": "stderr",
     "output_type": "stream",
     "text": [
      "\r",
      " 37%|███▋      | 22/60 [1:11:54<2:00:25, 190.14s/it]"
     ]
    },
    {
     "name": "stdout",
     "output_type": "stream",
     "text": [
      "Learning rate: 0.001\n",
      "Epoch: 21 | Train_acc: 96.42% | Val_acc: 85.01% | Loss: 202.92 | Runtime: 189.16 seconds\n",
      "Evaluating epoch...\n"
     ]
    },
    {
     "name": "stderr",
     "output_type": "stream",
     "text": [
      "\r",
      " 38%|███▊      | 23/60 [1:15:04<1:57:05, 189.88s/it]"
     ]
    },
    {
     "name": "stdout",
     "output_type": "stream",
     "text": [
      "Learning rate: 0.001\n",
      "Epoch: 22 | Train_acc: 96.57% | Val_acc: 84.52% | Loss: 193.41 | Runtime: 189.29 seconds\n",
      "Evaluating epoch...\n"
     ]
    },
    {
     "name": "stderr",
     "output_type": "stream",
     "text": [
      "\r",
      " 40%|████      | 24/60 [1:18:14<1:53:58, 189.95s/it]"
     ]
    },
    {
     "name": "stdout",
     "output_type": "stream",
     "text": [
      "Learning rate: 0.001\n",
      "Epoch: 23 | Train_acc: 95.03% | Val_acc: 77.62% | Loss: 183.31 | Runtime: 190.11 seconds\n",
      "Evaluating epoch...\n"
     ]
    },
    {
     "name": "stderr",
     "output_type": "stream",
     "text": [
      "\r",
      " 42%|████▏     | 25/60 [1:21:24<1:50:48, 189.97s/it]"
     ]
    },
    {
     "name": "stdout",
     "output_type": "stream",
     "text": [
      "Learning rate: 0.001\n",
      "Epoch: 24 | Train_acc: 95.94% | Val_acc: 85.01% | Loss: 173.53 | Runtime: 189.99 seconds\n",
      "Evaluating epoch...\n"
     ]
    },
    {
     "name": "stderr",
     "output_type": "stream",
     "text": [
      "\r",
      " 43%|████▎     | 26/60 [1:24:33<1:47:33, 189.82s/it]"
     ]
    },
    {
     "name": "stdout",
     "output_type": "stream",
     "text": [
      "Learning rate: 0.001\n",
      "Epoch: 25 | Train_acc: 96.97% | Val_acc: 85.11% | Loss: 151.69 | Runtime: 189.48 seconds\n",
      "Evaluating epoch...\n"
     ]
    },
    {
     "name": "stderr",
     "output_type": "stream",
     "text": [
      "\r",
      " 45%|████▌     | 27/60 [1:27:42<1:44:15, 189.57s/it]"
     ]
    },
    {
     "name": "stdout",
     "output_type": "stream",
     "text": [
      "Learning rate: 0.001\n",
      "Epoch: 26 | Train_acc: 96.58% | Val_acc: 82.42% | Loss: 160.22 | Runtime: 188.97 seconds\n",
      "Evaluating epoch...\n"
     ]
    },
    {
     "name": "stderr",
     "output_type": "stream",
     "text": [
      "\r",
      " 47%|████▋     | 28/60 [1:30:53<1:41:15, 189.86s/it]"
     ]
    },
    {
     "name": "stdout",
     "output_type": "stream",
     "text": [
      "Learning rate: 0.001\n",
      "Epoch: 27 | Train_acc: 97.24% | Val_acc: 85.61% | Loss: 150.39 | Runtime: 190.54 seconds\n",
      "Evaluating epoch...\n"
     ]
    },
    {
     "name": "stderr",
     "output_type": "stream",
     "text": [
      "\r",
      " 48%|████▊     | 29/60 [1:34:05<1:38:31, 190.68s/it]"
     ]
    },
    {
     "name": "stdout",
     "output_type": "stream",
     "text": [
      "Learning rate: 0.001\n",
      "Epoch: 28 | Train_acc: 97.92% | Val_acc: 87.41% | Loss: 134.20 | Runtime: 192.59 seconds\n",
      "Evaluating epoch...\n"
     ]
    },
    {
     "name": "stderr",
     "output_type": "stream",
     "text": [
      "\r",
      " 50%|█████     | 30/60 [1:37:32<1:37:41, 195.38s/it]"
     ]
    },
    {
     "name": "stdout",
     "output_type": "stream",
     "text": [
      "Learning rate: 0.001\n",
      "Epoch: 29 | Train_acc: 97.39% | Val_acc: 84.82% | Loss: 137.71 | Runtime: 206.36 seconds\n",
      "Evaluating epoch...\n"
     ]
    },
    {
     "name": "stderr",
     "output_type": "stream",
     "text": [
      "\r",
      " 52%|█████▏    | 31/60 [1:40:43<1:33:50, 194.16s/it]"
     ]
    },
    {
     "name": "stdout",
     "output_type": "stream",
     "text": [
      "Learning rate: 0.0001\n",
      "Epoch: 30 | Train_acc: 99.17% | Val_acc: 90.51% | Loss: 60.31 | Runtime: 191.31 seconds\n",
      "Evaluating epoch...\n"
     ]
    },
    {
     "name": "stderr",
     "output_type": "stream",
     "text": [
      "\r",
      " 53%|█████▎    | 32/60 [1:43:56<1:30:23, 193.70s/it]"
     ]
    },
    {
     "name": "stdout",
     "output_type": "stream",
     "text": [
      "Learning rate: 0.0001\n",
      "Epoch: 31 | Train_acc: 99.32% | Val_acc: 90.41% | Loss: 44.69 | Runtime: 192.61 seconds\n",
      "Evaluating epoch...\n"
     ]
    },
    {
     "name": "stderr",
     "output_type": "stream",
     "text": [
      "\r",
      " 55%|█████▌    | 33/60 [1:47:07<1:26:51, 193.02s/it]"
     ]
    },
    {
     "name": "stdout",
     "output_type": "stream",
     "text": [
      "Learning rate: 0.0001\n",
      "Epoch: 32 | Train_acc: 99.43% | Val_acc: 91.11% | Loss: 39.85 | Runtime: 191.43 seconds\n",
      "Evaluating epoch...\n"
     ]
    },
    {
     "name": "stderr",
     "output_type": "stream",
     "text": [
      "\r",
      " 57%|█████▋    | 34/60 [1:50:18<1:23:24, 192.48s/it]"
     ]
    },
    {
     "name": "stdout",
     "output_type": "stream",
     "text": [
      "Learning rate: 0.0001\n",
      "Epoch: 33 | Train_acc: 99.38% | Val_acc: 90.31% | Loss: 36.14 | Runtime: 191.21 seconds\n",
      "Evaluating epoch...\n"
     ]
    },
    {
     "name": "stderr",
     "output_type": "stream",
     "text": [
      "\r",
      " 58%|█████▊    | 35/60 [1:53:29<1:19:57, 191.90s/it]"
     ]
    },
    {
     "name": "stdout",
     "output_type": "stream",
     "text": [
      "Learning rate: 0.0001\n",
      "Epoch: 34 | Train_acc: 99.51% | Val_acc: 91.01% | Loss: 33.44 | Runtime: 190.55 seconds\n",
      "Evaluating epoch...\n"
     ]
    },
    {
     "name": "stderr",
     "output_type": "stream",
     "text": [
      "\r",
      " 60%|██████    | 36/60 [1:56:40<1:16:36, 191.52s/it]"
     ]
    },
    {
     "name": "stdout",
     "output_type": "stream",
     "text": [
      "Learning rate: 0.0001\n",
      "Epoch: 35 | Train_acc: 99.57% | Val_acc: 91.31% | Loss: 31.65 | Runtime: 190.62 seconds\n",
      "Evaluating epoch...\n"
     ]
    },
    {
     "name": "stderr",
     "output_type": "stream",
     "text": [
      "\r",
      " 62%|██████▏   | 37/60 [1:59:53<1:13:37, 192.06s/it]"
     ]
    },
    {
     "name": "stdout",
     "output_type": "stream",
     "text": [
      "Learning rate: 0.0001\n",
      "Epoch: 36 | Train_acc: 99.58% | Val_acc: 91.41% | Loss: 29.60 | Runtime: 193.33 seconds\n",
      "Evaluating epoch...\n"
     ]
    },
    {
     "name": "stderr",
     "output_type": "stream",
     "text": [
      "\r",
      " 63%|██████▎   | 38/60 [2:03:07<1:10:37, 192.62s/it]"
     ]
    },
    {
     "name": "stdout",
     "output_type": "stream",
     "text": [
      "Learning rate: 0.0001\n",
      "Epoch: 37 | Train_acc: 99.66% | Val_acc: 91.61% | Loss: 28.27 | Runtime: 193.91 seconds\n",
      "Evaluating epoch...\n"
     ]
    },
    {
     "name": "stderr",
     "output_type": "stream",
     "text": [
      "\r",
      " 65%|██████▌   | 39/60 [2:06:20<1:07:25, 192.64s/it]"
     ]
    },
    {
     "name": "stdout",
     "output_type": "stream",
     "text": [
      "Learning rate: 0.0001\n",
      "Epoch: 38 | Train_acc: 99.69% | Val_acc: 91.61% | Loss: 26.89 | Runtime: 192.69 seconds\n",
      "Evaluating epoch...\n"
     ]
    },
    {
     "name": "stderr",
     "output_type": "stream",
     "text": [
      "\r",
      " 67%|██████▋   | 40/60 [2:09:33<1:04:18, 192.90s/it]"
     ]
    },
    {
     "name": "stdout",
     "output_type": "stream",
     "text": [
      "Learning rate: 0.0001\n",
      "Epoch: 39 | Train_acc: 99.70% | Val_acc: 91.91% | Loss: 25.84 | Runtime: 193.51 seconds\n",
      "Evaluating epoch...\n"
     ]
    },
    {
     "name": "stderr",
     "output_type": "stream",
     "text": [
      "\r",
      " 68%|██████▊   | 41/60 [2:12:47<1:01:10, 193.19s/it]"
     ]
    },
    {
     "name": "stdout",
     "output_type": "stream",
     "text": [
      "Learning rate: 0.0001\n",
      "Epoch: 40 | Train_acc: 99.73% | Val_acc: 91.81% | Loss: 24.80 | Runtime: 193.87 seconds\n",
      "Evaluating epoch...\n"
     ]
    },
    {
     "name": "stderr",
     "output_type": "stream",
     "text": [
      "\r",
      " 70%|███████   | 42/60 [2:15:59<57:50, 192.83s/it]  "
     ]
    },
    {
     "name": "stdout",
     "output_type": "stream",
     "text": [
      "Learning rate: 0.0001\n",
      "Epoch: 41 | Train_acc: 99.68% | Val_acc: 91.31% | Loss: 23.40 | Runtime: 191.98 seconds\n",
      "Evaluating epoch...\n"
     ]
    },
    {
     "name": "stderr",
     "output_type": "stream",
     "text": [
      "\r",
      " 72%|███████▏  | 43/60 [2:19:15<54:55, 193.87s/it]"
     ]
    },
    {
     "name": "stdout",
     "output_type": "stream",
     "text": [
      "Learning rate: 0.0001\n",
      "Epoch: 42 | Train_acc: 99.76% | Val_acc: 91.81% | Loss: 22.51 | Runtime: 196.29 seconds\n",
      "Evaluating epoch...\n"
     ]
    },
    {
     "name": "stderr",
     "output_type": "stream",
     "text": [
      "\r",
      " 73%|███████▎  | 44/60 [2:22:27<51:33, 193.37s/it]"
     ]
    },
    {
     "name": "stdout",
     "output_type": "stream",
     "text": [
      "Learning rate: 0.0001\n",
      "Epoch: 43 | Train_acc: 99.76% | Val_acc: 92.01% | Loss: 21.57 | Runtime: 192.21 seconds\n",
      "Evaluating epoch...\n"
     ]
    },
    {
     "name": "stderr",
     "output_type": "stream",
     "text": [
      "\r",
      " 75%|███████▌  | 45/60 [2:25:39<48:13, 192.92s/it]"
     ]
    },
    {
     "name": "stdout",
     "output_type": "stream",
     "text": [
      "Learning rate: 0.0001\n",
      "Epoch: 44 | Train_acc: 99.72% | Val_acc: 91.71% | Loss: 20.57 | Runtime: 191.88 seconds\n",
      "Evaluating epoch...\n"
     ]
    },
    {
     "name": "stderr",
     "output_type": "stream",
     "text": [
      "\r",
      " 77%|███████▋  | 46/60 [2:28:51<44:55, 192.54s/it]"
     ]
    },
    {
     "name": "stdout",
     "output_type": "stream",
     "text": [
      "Learning rate: 0.0001\n",
      "Epoch: 45 | Train_acc: 99.76% | Val_acc: 92.01% | Loss: 20.01 | Runtime: 191.64 seconds\n",
      "Evaluating epoch...\n"
     ]
    },
    {
     "name": "stderr",
     "output_type": "stream",
     "text": [
      "\r",
      " 78%|███████▊  | 47/60 [2:32:03<41:40, 192.32s/it]"
     ]
    },
    {
     "name": "stdout",
     "output_type": "stream",
     "text": [
      "Learning rate: 0.0001\n",
      "Epoch: 46 | Train_acc: 99.79% | Val_acc: 91.71% | Loss: 19.02 | Runtime: 191.81 seconds\n",
      "Evaluating epoch...\n"
     ]
    },
    {
     "name": "stderr",
     "output_type": "stream",
     "text": [
      "\r",
      " 80%|████████  | 48/60 [2:35:13<38:19, 191.63s/it]"
     ]
    },
    {
     "name": "stdout",
     "output_type": "stream",
     "text": [
      "Learning rate: 0.0001\n",
      "Epoch: 47 | Train_acc: 99.81% | Val_acc: 91.91% | Loss: 18.68 | Runtime: 190.02 seconds\n",
      "Evaluating epoch...\n"
     ]
    },
    {
     "name": "stderr",
     "output_type": "stream",
     "text": [
      "\r",
      " 82%|████████▏ | 49/60 [2:38:20<34:55, 190.46s/it]"
     ]
    },
    {
     "name": "stdout",
     "output_type": "stream",
     "text": [
      "Learning rate: 0.0001\n",
      "Epoch: 48 | Train_acc: 99.81% | Val_acc: 91.71% | Loss: 17.66 | Runtime: 187.73 seconds\n",
      "Evaluating epoch...\n"
     ]
    },
    {
     "name": "stderr",
     "output_type": "stream",
     "text": [
      "\r",
      " 83%|████████▎ | 50/60 [2:41:29<31:37, 189.76s/it]"
     ]
    },
    {
     "name": "stdout",
     "output_type": "stream",
     "text": [
      "Learning rate: 0.0001\n",
      "Epoch: 49 | Train_acc: 99.80% | Val_acc: 92.31% | Loss: 17.09 | Runtime: 188.13 seconds\n",
      "Evaluating epoch...\n"
     ]
    },
    {
     "name": "stderr",
     "output_type": "stream",
     "text": [
      "\r",
      " 85%|████████▌ | 51/60 [2:44:37<28:25, 189.47s/it]"
     ]
    },
    {
     "name": "stdout",
     "output_type": "stream",
     "text": [
      "Learning rate: 0.0001\n",
      "Epoch: 50 | Train_acc: 99.84% | Val_acc: 91.81% | Loss: 16.55 | Runtime: 188.79 seconds\n",
      "Evaluating epoch...\n"
     ]
    },
    {
     "name": "stderr",
     "output_type": "stream",
     "text": [
      "\r",
      " 87%|████████▋ | 52/60 [2:47:46<25:12, 189.11s/it]"
     ]
    },
    {
     "name": "stdout",
     "output_type": "stream",
     "text": [
      "Learning rate: 0.0001\n",
      "Epoch: 51 | Train_acc: 99.82% | Val_acc: 92.21% | Loss: 15.91 | Runtime: 188.28 seconds\n",
      "Evaluating epoch...\n"
     ]
    },
    {
     "name": "stderr",
     "output_type": "stream",
     "text": [
      "\r",
      " 88%|████████▊ | 53/60 [2:50:54<22:01, 188.76s/it]"
     ]
    },
    {
     "name": "stdout",
     "output_type": "stream",
     "text": [
      "Learning rate: 0.0001\n",
      "Epoch: 52 | Train_acc: 99.84% | Val_acc: 92.21% | Loss: 15.30 | Runtime: 187.94 seconds\n",
      "Evaluating epoch...\n"
     ]
    },
    {
     "name": "stderr",
     "output_type": "stream",
     "text": [
      "\r",
      " 90%|█████████ | 54/60 [2:54:02<18:52, 188.71s/it]"
     ]
    },
    {
     "name": "stdout",
     "output_type": "stream",
     "text": [
      "Learning rate: 0.0001\n",
      "Epoch: 53 | Train_acc: 99.86% | Val_acc: 92.41% | Loss: 14.77 | Runtime: 188.58 seconds\n",
      "Evaluating epoch...\n"
     ]
    },
    {
     "name": "stderr",
     "output_type": "stream",
     "text": [
      "\r",
      " 92%|█████████▏| 55/60 [2:57:10<15:42, 188.45s/it]"
     ]
    },
    {
     "name": "stdout",
     "output_type": "stream",
     "text": [
      "Learning rate: 0.0001\n",
      "Epoch: 54 | Train_acc: 99.88% | Val_acc: 92.11% | Loss: 14.06 | Runtime: 187.84 seconds\n",
      "Evaluating epoch...\n"
     ]
    },
    {
     "name": "stderr",
     "output_type": "stream",
     "text": [
      "\r",
      " 93%|█████████▎| 56/60 [3:00:19<12:33, 188.48s/it]"
     ]
    },
    {
     "name": "stdout",
     "output_type": "stream",
     "text": [
      "Learning rate: 0.0001\n",
      "Epoch: 55 | Train_acc: 99.89% | Val_acc: 91.81% | Loss: 13.71 | Runtime: 188.54 seconds\n",
      "Evaluating epoch...\n"
     ]
    },
    {
     "name": "stderr",
     "output_type": "stream",
     "text": [
      "\r",
      " 95%|█████████▌| 57/60 [3:03:27<09:25, 188.43s/it]"
     ]
    },
    {
     "name": "stdout",
     "output_type": "stream",
     "text": [
      "Learning rate: 0.0001\n",
      "Epoch: 56 | Train_acc: 99.87% | Val_acc: 92.21% | Loss: 13.35 | Runtime: 188.31 seconds\n",
      "Evaluating epoch...\n"
     ]
    },
    {
     "name": "stderr",
     "output_type": "stream",
     "text": [
      "\r",
      " 97%|█████████▋| 58/60 [3:06:35<06:16, 188.34s/it]"
     ]
    },
    {
     "name": "stdout",
     "output_type": "stream",
     "text": [
      "Learning rate: 0.0001\n",
      "Epoch: 57 | Train_acc: 99.89% | Val_acc: 91.81% | Loss: 12.80 | Runtime: 188.13 seconds\n",
      "Evaluating epoch...\n"
     ]
    },
    {
     "name": "stderr",
     "output_type": "stream",
     "text": [
      "\r",
      " 98%|█████████▊| 59/60 [3:09:47<03:09, 189.29s/it]"
     ]
    },
    {
     "name": "stdout",
     "output_type": "stream",
     "text": [
      "Learning rate: 0.0001\n",
      "Epoch: 58 | Train_acc: 99.91% | Val_acc: 92.11% | Loss: 12.38 | Runtime: 191.51 seconds\n",
      "Evaluating epoch...\n"
     ]
    },
    {
     "name": "stderr",
     "output_type": "stream",
     "text": [
      "100%|██████████| 60/60 [3:12:57<00:00, 192.96s/it]"
     ]
    },
    {
     "name": "stdout",
     "output_type": "stream",
     "text": [
      "Learning rate: 0.0001\n",
      "Epoch: 59 | Train_acc: 99.90% | Val_acc: 92.21% | Loss: 11.88 | Runtime: 190.72 seconds\n"
     ]
    },
    {
     "name": "stderr",
     "output_type": "stream",
     "text": [
      "\n"
     ]
    }
   ],
   "source": [
    "total_loss, epoch_durations, accuracies_train, accuracies_validation = train(model=model,\n",
    "                                                                            train_loader=train_loader,\n",
    "                                                                            validation_loader=validation_loader,\n",
    "                                                                            criterion=criterion,\n",
    "                                                                            optimizer=optimizer,\n",
    "                                                                            scheduler=scheduler,\n",
    "                                                                            epochs=epochs,\n",
    "                                                                            verbose=True)"
   ]
  },
  {
   "cell_type": "code",
   "execution_count": 22,
   "metadata": {
    "scrolled": true
   },
   "outputs": [
    {
     "data": {
      "image/png": "[encoded data removed]",
      "text/plain": [
       "<Figure size 800x320 with 1 Axes>"
      ]
     },
     "metadata": {
      "needs_background": "light"
     },
     "output_type": "display_data"
    },
    {
     "data": {
      "image/png": "[encoded data removed]",
      "text/plain": [
       "<Figure size 800x320 with 1 Axes>"
      ]
     },
     "metadata": {
      "needs_background": "light"
     },
     "output_type": "display_data"
    }
   ],
   "source": [
    "figure(figsize=(10, 4), dpi=80)\n",
    "plt.title('Train and validation accuracies')\n",
    "\n",
    "plt.xlabel(\"Epoch\")\n",
    "plt.ylabel(\"Accuracy\")\n",
    "plt.plot(accuracies_train, 'bo-')\n",
    "plt.plot(accuracies_validation, 'ro-')\n",
    "\n",
    "plt.legend([\"Train Accuracy\", \"Validation Accuracy\"], loc =\"lower right\")\n",
    "plt.show()\n",
    "\n",
    "\n",
    "figure(figsize=(10, 4), dpi=80)\n",
    "plt.title('Loss')\n",
    "plt.xlabel(\"Epoch\")\n",
    "plt.ylabel(\"Loss Value\")\n",
    "plt.plot(total_loss, 'go-')\n",
    "plt.show()"
   ]
  },
  {
   "cell_type": "code",
   "execution_count": 23,
   "metadata": {},
   "outputs": [
    {
     "name": "stdout",
     "output_type": "stream",
     "text": [
      "tensor([[[[ 0.0301, -0.3272, -0.3918],\n",
      "          [ 0.0921,  0.0948, -0.5417],\n",
      "          [ 0.4171, -0.1560, -0.5299]],\n",
      "\n",
      "         [[-0.6361, -0.2120, -0.8474],\n",
      "          [-0.6176, -0.7544, -0.4439],\n",
      "          [-0.4070, -0.5947, -0.7017]],\n",
      "\n",
      "         [[-0.2268, -0.5315, -0.0946],\n",
      "          [ 0.0860, -0.5773,  0.2586],\n",
      "          [ 0.0823,  0.1475, -0.1970]]],\n",
      "\n",
      "\n",
      "        [[[ 0.4546,  0.0327, -0.1227],\n",
      "          [ 0.2692,  0.3015, -0.0247],\n",
      "          [ 0.1363, -0.0061, -0.2039]],\n",
      "\n",
      "         [[-0.7500, -0.4660, -0.1306],\n",
      "          [-0.3301, -0.5876, -0.2006],\n",
      "          [-0.4122, -0.6047, -0.3495]],\n",
      "\n",
      "         [[ 0.2038,  0.2162,  0.1692],\n",
      "          [ 0.1270,  0.4410,  0.0935],\n",
      "          [ 0.3350,  0.6354,  0.6044]]],\n",
      "\n",
      "\n",
      "        [[[-0.3075, -0.6624, -0.5500],\n",
      "          [-0.4451, -0.8843, -1.1504],\n",
      "          [-0.3247, -0.1859, -0.7938]],\n",
      "\n",
      "         [[ 0.0749,  0.1404,  0.0090],\n",
      "          [ 0.1188, -0.0244,  0.0456],\n",
      "          [ 0.4223, -0.1925,  0.4579]],\n",
      "\n",
      "         [[-0.2246, -0.3697, -0.2055],\n",
      "          [ 0.6750,  0.2846,  0.3825],\n",
      "          [ 0.9471,  0.0026,  0.3509]]],\n",
      "\n",
      "\n",
      "        [[[-0.3525,  0.2494,  0.3153],\n",
      "          [-0.1219, -0.1748,  0.2971],\n",
      "          [ 0.2959, -0.0263, -0.3213]],\n",
      "\n",
      "         [[ 0.5610,  0.0382,  0.1342],\n",
      "          [ 0.2252,  0.4665,  0.0315],\n",
      "          [ 0.5301,  0.2377,  0.0092]],\n",
      "\n",
      "         [[ 0.0391,  0.3368, -0.2521],\n",
      "          [ 0.1420, -0.0698,  0.2602],\n",
      "          [ 0.4259,  0.0727, -0.3699]]]], device='cuda:0')\n",
      "tensor([-0.0093, -1.3230, -0.0535, -0.0572], device='cuda:0')\n",
      "tensor([2.0205, 1.2205, 1.7736, 0.9386], device='cuda:0')\n",
      "tensor([-0.2417, -0.5931, -0.2677, -0.3343], device='cuda:0')\n",
      "tensor([[[[ 1.0964e-01, -8.7157e-02, -5.2646e-01],\n",
      "          [ 3.3569e-02, -3.6958e-02, -5.2479e-01],\n",
      "          [ 4.2640e-01,  4.7953e-01, -1.4241e-01]],\n",
      "\n",
      "         [[-8.4790e-02, -3.3493e-01, -2.9221e-01],\n",
      "          [-3.1274e-01, -4.9907e-01, -6.9311e-01],\n",
      "          [ 7.6811e-03, -3.0538e-01, -3.0815e-01]],\n",
      "\n",
      "         [[-1.0672e-01, -1.6174e-01, -7.1369e-01],\n",
      "          [ 3.6487e-01, -1.1496e-01,  3.3677e-01],\n",
      "          [ 4.1916e-01,  4.1797e-01,  3.8361e-01]],\n",
      "\n",
      "         [[ 5.5457e-01, -4.6564e-01, -2.9825e-01],\n",
      "          [ 1.8548e-01, -2.8700e-01,  2.4168e-01],\n",
      "          [ 9.9486e-05,  1.7365e-02, -1.8515e-01]]],\n",
      "\n",
      "\n",
      "        [[[ 1.8752e-02,  1.0258e-01, -1.5562e-01],\n",
      "          [ 4.4661e-01,  1.0584e+00,  6.7342e-01],\n",
      "          [ 2.7665e-01,  3.8127e-01,  2.7545e-01]],\n",
      "\n",
      "         [[-5.1754e-02, -1.7696e-01, -1.5884e-01],\n",
      "          [ 1.9036e-02,  5.5265e-02,  2.5724e-01],\n",
      "          [ 2.8115e-01,  3.9598e-01, -6.7350e-02]],\n",
      "\n",
      "         [[-8.3022e-02, -7.8859e-02, -2.7474e-02],\n",
      "          [ 1.0577e-01, -1.8685e-01,  1.2926e-01],\n",
      "          [ 3.3486e-01, -1.9637e-01, -2.1641e-01]],\n",
      "\n",
      "         [[-1.3423e-01,  2.2794e-01,  9.0071e-02],\n",
      "          [-3.2935e-01,  2.9538e-01,  7.2459e-02],\n",
      "          [ 2.9793e-01, -2.7949e-01,  4.7120e-03]]],\n",
      "\n",
      "\n",
      "        [[[-5.8067e-02, -5.2091e-01, -4.0885e-01],\n",
      "          [ 1.0777e-01,  1.6514e-01,  6.9057e-02],\n",
      "          [-4.0569e-02,  3.4904e-01, -1.7787e-01]],\n",
      "\n",
      "         [[-1.9966e-01, -4.1045e-01,  1.7414e-01],\n",
      "          [ 1.1720e-01, -4.7685e-01, -4.3270e-01],\n",
      "          [ 7.1472e-02,  6.8521e-01, -3.0464e-01]],\n",
      "\n",
      "         [[ 3.8209e-01,  6.0230e-01,  1.3371e-01],\n",
      "          [ 5.7812e-01,  9.7779e-01,  5.8195e-02],\n",
      "          [ 3.9261e-01,  2.4662e-01, -2.7225e-01]],\n",
      "\n",
      "         [[ 1.4216e-01,  1.9051e-01, -7.2537e-02],\n",
      "          [ 2.4849e-01, -2.2015e-01,  9.2073e-02],\n",
      "          [-3.6866e-02, -5.5735e-02,  1.4044e-01]]],\n",
      "\n",
      "\n",
      "        [[[ 2.1035e-01, -3.0777e-02,  9.1159e-04],\n",
      "          [ 2.2865e-01,  6.5855e-01,  1.2573e-01],\n",
      "          [-2.8761e-01, -3.6664e-02, -1.3679e-01]],\n",
      "\n",
      "         [[ 1.5373e-01,  3.3138e-01, -5.0984e-02],\n",
      "          [ 8.3418e-01,  1.5223e-01,  6.9676e-01],\n",
      "          [ 5.7675e-02,  4.9995e-02,  5.2980e-01]],\n",
      "\n",
      "         [[-2.0031e-01,  1.6542e-01,  1.8416e-01],\n",
      "          [ 8.9096e-02, -3.2017e-01, -2.0390e-02],\n",
      "          [ 2.5189e-01,  1.5747e-01,  1.6441e-01]],\n",
      "\n",
      "         [[ 1.6314e-02, -2.5093e-01, -3.9223e-01],\n",
      "          [-5.6711e-02, -1.0672e-02, -1.4945e-02],\n",
      "          [-2.5888e-01,  2.7362e-01, -1.6976e-02]]],\n",
      "\n",
      "\n",
      "        [[[ 9.1527e-03, -2.0175e-01, -2.2157e-01],\n",
      "          [-1.9713e-01, -3.9739e-01, -3.2326e-01],\n",
      "          [-2.5992e-02, -3.1265e-01,  2.0844e-03]],\n",
      "\n",
      "         [[-4.1370e-01,  1.3849e-01,  1.1176e-01],\n",
      "          [ 1.3450e-01, -1.9888e-03,  2.2553e-01],\n",
      "          [ 5.1262e-02, -2.8391e-01, -2.0040e-02]],\n",
      "\n",
      "         [[ 5.9813e-01, -3.0487e-02,  2.7213e-01],\n",
      "          [ 1.3326e-01,  1.9502e-01,  1.4005e-01],\n",
      "          [ 3.8549e-01,  5.0647e-01,  3.5153e-01]],\n",
      "\n",
      "         [[-5.4672e-02, -4.4986e-02,  1.7001e-01],\n",
      "          [ 3.0635e-01,  5.9520e-02,  2.2305e-01],\n",
      "          [-2.4447e-01,  1.8190e-02,  2.3923e-01]]],\n",
      "\n",
      "\n",
      "        [[[-1.7389e-01,  1.2092e-01,  1.0569e-01],\n",
      "          [ 7.5394e-01,  3.4316e-01, -7.3045e-01],\n",
      "          [ 3.7261e-01, -4.8291e-02, -5.0412e-01]],\n",
      "\n",
      "         [[ 1.5083e-01, -1.1182e-01, -5.6065e-01],\n",
      "          [ 3.4935e-02,  1.9664e-01,  9.2026e-02],\n",
      "          [-2.4674e-01, -4.0409e-01, -1.4148e-01]],\n",
      "\n",
      "         [[ 2.5440e-01,  3.8079e-01,  3.1001e-01],\n",
      "          [ 6.9809e-01,  2.8954e-01, -5.2106e-01],\n",
      "          [ 1.7871e-01,  1.3345e-01, -2.1492e-01]],\n",
      "\n",
      "         [[ 1.3264e-02, -2.6050e-01,  6.3475e-02],\n",
      "          [-2.2299e-01, -6.8872e-01,  1.2598e-02],\n",
      "          [-2.4218e-01,  1.9064e-01, -1.0473e-01]]],\n",
      "\n",
      "\n",
      "        [[[-1.1325e-01, -6.8766e-02,  1.7016e-01],\n",
      "          [-4.7056e-02, -6.9916e-02, -1.3467e-01],\n",
      "          [ 7.7606e-02, -3.1655e-01, -3.1481e-01]],\n",
      "\n",
      "         [[-1.2078e-01, -6.6506e-02, -3.3481e-01],\n",
      "          [-4.4262e-01, -7.4613e-02, -1.6777e-01],\n",
      "          [ 6.6129e-03, -2.0943e-01, -3.0932e-01]],\n",
      "\n",
      "         [[-1.9447e-01,  1.3872e-01, -2.6654e-01],\n",
      "          [-1.9004e-02, -3.4477e-01,  1.3185e-01],\n",
      "          [-1.8912e-01, -4.4500e-01, -2.3787e-01]],\n",
      "\n",
      "         [[-4.2572e-03, -1.7391e-01,  3.5559e-01],\n",
      "          [ 1.0529e-01,  1.5337e-01,  4.1303e-02],\n",
      "          [ 4.1186e-01,  4.5207e-01,  6.2504e-01]]],\n",
      "\n",
      "\n",
      "        [[[-4.6612e-01,  4.1987e-01,  2.1951e-01],\n",
      "          [ 3.2741e-02,  4.7875e-01,  3.4638e-01],\n",
      "          [-3.0926e-01, -5.6871e-01,  7.4487e-01]],\n",
      "\n",
      "         [[ 3.9970e-02,  6.1136e-02,  4.8504e-02],\n",
      "          [-1.8873e-01,  1.6974e-01,  1.5712e-01],\n",
      "          [ 1.1211e-01,  1.2406e-01,  3.3551e-01]],\n",
      "\n",
      "         [[-3.4453e-01, -1.6923e-01,  3.6056e-01],\n",
      "          [-2.0901e-01,  1.3757e-01,  3.5172e-02],\n",
      "          [-9.0772e-03, -3.1250e-01, -4.8292e-01]],\n",
      "\n",
      "         [[ 1.4347e-01,  1.9311e-01,  1.4076e-01],\n",
      "          [ 1.0573e-01, -9.9349e-02,  1.4388e-01],\n",
      "          [ 5.4494e-02,  1.5570e-01,  1.9365e-01]]]], device='cuda:0')\n",
      "tensor([-0.3251, -0.1667, -0.0037, -0.0358,  0.0933,  0.1771, -0.2217,  0.0463],\n",
      "       device='cuda:0')\n",
      "tensor([1.3491, 1.5309, 1.4502, 1.1943, 1.0338, 1.5390, 0.9845, 1.2618],\n",
      "       device='cuda:0')\n",
      "tensor([-0.5299, -0.2983, -0.0681, -0.1345,  0.0560,  0.1390, -0.6669, -0.1825],\n",
      "       device='cuda:0')\n",
      "tensor([[[[-1.0079e-01,  1.9123e-01, -4.5297e-02, -3.8446e-02, -9.1689e-02],\n",
      "          [-1.3807e-01, -2.5292e-02,  2.0520e-01, -2.4781e-02,  8.3487e-02],\n",
      "          [-1.6319e-02,  5.2898e-02, -2.1961e-01, -7.1004e-02,  4.8877e-02],\n",
      "          [ 1.9882e-01, -1.9777e-01, -1.8073e-01,  6.0918e-02, -1.1070e-02],\n",
      "          [ 5.4248e-02,  1.4542e-01, -3.6404e-02,  1.9829e-02, -3.1737e-02]],\n",
      "\n",
      "         [[-2.5610e-01,  8.9826e-02, -9.3848e-02, -5.3007e-01, -1.9164e-01],\n",
      "          [-9.4045e-02,  1.7743e-01,  3.5490e-01,  4.1225e-02, -1.2254e-01],\n",
      "          [-3.1816e-01,  3.3872e-01,  8.2307e-01,  3.5771e-01,  2.1829e-02],\n",
      "          [-2.3218e-01, -2.7220e-01, -2.5254e-01, -2.6563e-01, -4.8724e-01],\n",
      "          [ 4.6682e-02, -7.5869e-02, -6.4652e-01, -7.3750e-02,  1.7404e-02]],\n",
      "\n",
      "         [[-2.5498e-01, -2.4723e-01,  8.5216e-02, -1.2797e-01,  1.9094e-02],\n",
      "          [ 1.4442e-01, -1.8833e-01,  2.3570e-01,  2.5187e-01, -4.7474e-02],\n",
      "          [ 2.0585e-02,  4.2485e-02,  2.5122e-01,  4.3750e-01, -3.4582e-02],\n",
      "          [ 3.2312e-01, -1.4900e-01, -2.0891e-01,  5.4220e-02, -3.1847e-01],\n",
      "          [ 2.7510e-04, -1.1263e-01, -2.2803e-01,  2.1866e-01, -1.4781e-01]],\n",
      "\n",
      "         ...,\n",
      "\n",
      "         [[-3.6851e-01, -1.5354e-01,  1.3835e-01, -1.8370e-01,  3.9769e-02],\n",
      "          [ 1.7347e-02,  1.1100e-01,  2.2168e-01, -1.3035e-01, -1.3950e-01],\n",
      "          [-2.0147e-02, -2.0597e-02,  9.5576e-02,  2.2206e-01, -3.0382e-02],\n",
      "          [ 1.5186e-01, -1.0933e-02, -3.9999e-02, -5.0715e-02, -1.5413e-01],\n",
      "          [-1.7011e-02, -2.0725e-02,  2.1789e-02,  1.8139e-01,  4.8294e-02]],\n",
      "\n",
      "         [[-2.1140e-02, -3.6496e-02,  5.7919e-03,  7.9736e-03,  3.4937e-02],\n",
      "          [-2.2277e-01, -1.5002e-02, -6.2491e-02, -9.6591e-02, -6.0588e-02],\n",
      "          [-4.1224e-02,  8.1137e-02, -3.5918e-02, -7.3502e-02, -1.6448e-02],\n",
      "          [-1.0387e-01, -1.8204e-01, -1.3896e-01, -1.4782e-01,  5.7333e-02],\n",
      "          [-6.8001e-03,  2.0347e-02, -7.1314e-02, -2.3219e-01, -1.3207e-01]],\n",
      "\n",
      "         [[-1.8122e-02, -3.9781e-02, -1.4012e-01, -1.4322e-01, -4.2572e-02],\n",
      "          [-1.3116e-01,  7.3076e-02, -2.5726e-01, -2.3951e-01, -1.5242e-01],\n",
      "          [ 6.3328e-02,  5.2074e-02,  1.5869e-01, -1.3107e-01, -1.5665e-01],\n",
      "          [-1.5660e-01, -4.5041e-02, -3.6979e-02, -1.0832e-02, -3.9092e-02],\n",
      "          [-3.3828e-01, -6.5582e-02,  3.0255e-02,  2.2492e-01, -5.3098e-02]]],\n",
      "\n",
      "\n",
      "        [[[-6.1513e-02, -7.0878e-02, -1.7675e-01, -1.3148e-01, -1.6967e-01],\n",
      "          [ 3.3579e-02,  6.0657e-02, -1.8756e-03,  7.0032e-02, -3.5394e-02],\n",
      "          [ 1.3719e-01,  1.4103e-01, -4.9039e-02, -1.1567e-01, -1.2517e-01],\n",
      "          [-2.0781e-01,  1.3026e-01, -3.9061e-02, -5.6986e-02, -8.5743e-02],\n",
      "          [-5.8067e-04,  2.0666e-01,  2.2360e-02, -1.4976e-01, -2.1948e-02]],\n",
      "\n",
      "         [[ 3.5346e-01,  1.3810e-01, -8.3280e-02, -1.3505e-01,  2.2264e-01],\n",
      "          [ 1.0741e-01, -8.3111e-02, -2.5047e-01,  1.1276e-01,  3.1791e-01],\n",
      "          [-1.8075e-01, -1.8536e-01, -7.8499e-02,  1.8273e-02, -8.2679e-02],\n",
      "          [-1.0119e-01,  6.7597e-02,  1.4413e-01, -1.6700e-01,  1.6933e-01],\n",
      "          [-4.4841e-02,  4.9148e-02,  2.7512e-01, -6.4423e-02, -1.2296e-01]],\n",
      "\n",
      "         [[-8.6769e-02, -1.1177e-01, -1.9799e-02, -1.5763e-01, -1.5519e-01],\n",
      "          [-1.6349e-01,  9.6745e-02, -1.9280e-01,  2.3413e-02,  4.5826e-03],\n",
      "          [ 3.7356e-02,  1.6212e-02, -1.8033e-01, -1.1499e-01, -1.7865e-01],\n",
      "          [ 8.5002e-02,  1.1821e-01, -1.1788e-01, -2.7705e-01, -3.3412e-01],\n",
      "          [ 2.2877e-01,  4.8634e-01,  3.6294e-02, -2.8931e-01, -1.7930e-01]],\n",
      "\n",
      "         ...,\n",
      "\n",
      "         [[-2.1795e-01, -3.4810e-04,  1.9917e-01,  9.8953e-03,  1.7648e-01],\n",
      "          [-1.6091e-01,  2.6557e-02, -1.7763e-01, -1.4334e-01, -8.6973e-03],\n",
      "          [ 1.7558e-01,  2.0836e-01, -6.6959e-02, -9.7170e-02, -3.2233e-01],\n",
      "          [-2.5635e-02,  2.0675e-01, -9.0277e-02, -1.3379e-01, -1.3565e-02],\n",
      "          [ 3.0069e-01,  1.3234e-01, -1.3596e-01, -1.8932e-01, -2.0133e-01]],\n",
      "\n",
      "         [[ 1.7468e-01,  1.2629e-01,  1.5347e-01,  7.5634e-02, -2.3038e-01],\n",
      "          [ 9.2340e-02,  2.0859e-01,  3.7998e-02,  1.5837e-01, -3.0129e-02],\n",
      "          [ 2.5548e-02,  4.1676e-02,  1.4348e-01, -1.2780e-02, -1.1541e-01],\n",
      "          [-7.2808e-03,  9.8630e-02,  1.1421e-01,  1.2351e-01,  1.3843e-01],\n",
      "          [ 2.2986e-02,  1.6971e-01,  1.8640e-01,  1.3075e-02,  7.7986e-02]],\n",
      "\n",
      "         [[ 1.4409e-02,  1.7266e-01,  1.4443e-02, -7.2065e-02,  4.0997e-02],\n",
      "          [-3.5404e-02, -4.3113e-02, -2.2634e-02, -8.0528e-02,  4.4155e-02],\n",
      "          [ 5.2658e-03, -1.9237e-02,  1.0008e-01, -4.5989e-02, -1.6060e-01],\n",
      "          [-1.0564e-01, -1.9818e-01, -4.1791e-02, -3.9118e-02,  7.2736e-03],\n",
      "          [-2.3532e-01, -1.3212e-01, -1.9553e-01, -4.3732e-02,  6.1519e-02]]],\n",
      "\n",
      "\n",
      "        [[[-1.4710e-02,  8.5907e-02, -1.0322e-02, -7.5745e-03, -1.1751e-01],\n",
      "          [-3.0214e-02, -1.1682e-01,  1.0414e-03,  5.1524e-03, -6.2966e-02],\n",
      "          [-1.6286e-01, -1.0431e-01,  1.0094e-01,  1.2179e-01, -5.6620e-02],\n",
      "          [-2.1540e-03, -1.2071e-01,  1.4364e-01, -1.5370e-01, -1.5513e-01],\n",
      "          [-5.3127e-02, -1.4477e-01, -1.6081e-01, -1.3750e-01, -1.2198e-02]],\n",
      "\n",
      "         [[-9.8755e-02,  5.0627e-02, -9.1001e-02, -1.1037e-01, -7.5317e-02],\n",
      "          [ 3.7656e-02,  1.1634e-01,  1.9331e-01,  1.3502e-01, -1.6479e-02],\n",
      "          [ 1.3816e-01,  1.6780e-01,  1.6186e-01,  1.0481e-01, -6.6498e-02],\n",
      "          [ 2.5219e-01,  1.6968e-01,  1.6890e-01,  1.4402e-01, -2.0649e-01],\n",
      "          [ 4.3578e-02, -6.3964e-02,  1.1298e-01, -3.4186e-02, -5.9996e-02]],\n",
      "\n",
      "         [[-1.2047e-02,  1.5042e-01,  1.5091e-02, -3.7344e-02,  1.1327e-02],\n",
      "          [ 5.8792e-02,  1.0534e-01, -9.0349e-03, -3.6170e-02, -5.8674e-04],\n",
      "          [ 9.7269e-02,  2.6160e-01,  2.1099e-01,  6.3896e-02, -1.9569e-02],\n",
      "          [-8.1721e-03, -2.1780e-04, -6.5843e-02,  1.3301e-01, -2.6261e-01],\n",
      "          [-9.5588e-02, -2.1005e-02,  4.7901e-02,  3.7014e-02, -3.2718e-02]],\n",
      "\n",
      "         ...,\n",
      "\n",
      "         [[-1.1639e-01, -7.2767e-02, -1.1214e-01, -9.2806e-02,  4.0610e-02],\n",
      "          [-1.9359e-01,  1.2943e-01, -4.4101e-02, -1.1213e-01, -2.5478e-01],\n",
      "          [ 1.4251e-02, -4.8948e-02,  1.3094e-01,  6.5151e-02, -1.1284e-01],\n",
      "          [ 9.8068e-02,  9.3205e-02,  8.6752e-02, -6.7548e-02, -1.1852e-02],\n",
      "          [-7.1386e-02,  1.4364e-01, -3.5848e-02, -2.0968e-01, -8.2737e-02]],\n",
      "\n",
      "         [[ 1.0383e-01,  9.0838e-02, -4.4305e-02, -8.6039e-02,  3.4479e-02],\n",
      "          [-7.6190e-02, -1.7592e-02,  2.1679e-02,  3.2250e-02, -1.4519e-01],\n",
      "          [ 4.3248e-02,  1.7551e-02,  5.7608e-02, -5.3936e-02, -4.7760e-02],\n",
      "          [-3.4105e-02, -9.5537e-02, -1.9723e-02, -1.9111e-01, -1.5680e-01],\n",
      "          [ 9.2365e-02, -2.8414e-03, -8.2681e-02, -6.0375e-02,  6.4639e-02]],\n",
      "\n",
      "         [[-4.1776e-02, -6.6585e-02, -1.2316e-02,  3.2411e-02, -1.7302e-01],\n",
      "          [ 8.2678e-02, -2.6809e-01, -8.9131e-02, -3.2201e-02, -7.6923e-02],\n",
      "          [ 9.1607e-03,  1.5391e-01, -6.3114e-02, -2.0638e-01, -1.1691e-01],\n",
      "          [ 3.8347e-02, -1.1782e-01,  7.0729e-02, -8.5469e-02, -4.3611e-02],\n",
      "          [ 1.7549e-01, -3.0299e-02, -6.7481e-02, -6.2201e-02,  3.2901e-03]]],\n",
      "\n",
      "\n",
      "        ...,\n",
      "\n",
      "\n",
      "        [[[-1.3115e-01,  1.0387e-03, -1.9761e-01, -3.0012e-01, -1.8846e-01],\n",
      "          [-4.7777e-02, -1.4090e-01, -1.6687e-01, -7.0522e-02,  6.8383e-03],\n",
      "          [ 1.3641e-01,  1.3974e-01, -6.3199e-02, -1.4962e-01, -3.0959e-02],\n",
      "          [ 1.7886e-01, -6.9658e-02, -7.4435e-02,  3.2444e-02, -1.4734e-01],\n",
      "          [-4.2734e-02, -8.1462e-02, -6.4372e-02,  1.6710e-01,  2.7160e-01]],\n",
      "\n",
      "         [[ 2.6531e-01,  2.1297e-01, -5.8012e-02, -9.3585e-02, -1.3327e-01],\n",
      "          [-2.0805e-01, -1.4553e-01,  1.7795e-02, -4.3512e-02, -1.6298e-01],\n",
      "          [-1.3820e-01, -1.6023e-01, -1.3185e-01, -7.6289e-02, -1.7903e-02],\n",
      "          [ 2.4162e-01,  1.0275e-01, -1.4503e-01, -1.9911e-01, -1.3123e-02],\n",
      "          [-9.0754e-02, -1.4832e-01, -2.6067e-01,  3.8082e-01,  4.5080e-01]],\n",
      "\n",
      "         [[-1.5404e-01, -1.7375e-01, -1.4266e-01, -1.2149e-02, -1.5065e-01],\n",
      "          [ 2.2214e-02, -1.3353e-01, -8.5816e-02, -4.7819e-03, -1.2166e-01],\n",
      "          [-1.0358e-01,  3.5964e-02,  9.6585e-03, -2.3170e-03, -1.3686e-02],\n",
      "          [ 9.5176e-02,  2.6407e-02, -3.6268e-02, -7.4193e-02, -8.9738e-02],\n",
      "          [-4.2852e-02,  4.5812e-02, -2.3587e-01,  1.7509e-01,  2.2995e-01]],\n",
      "\n",
      "         ...,\n",
      "\n",
      "         [[-1.0917e-01, -1.3113e-02,  1.4831e-01, -1.3694e-01, -3.7095e-02],\n",
      "          [-1.6187e-01,  4.2896e-03,  7.5756e-02,  1.1084e-01, -2.3149e-04],\n",
      "          [ 4.7892e-03, -6.2259e-02,  8.8810e-02, -1.6789e-01, -1.9390e-03],\n",
      "          [ 2.3143e-01,  1.1734e-01, -1.4196e-01, -1.5340e-01, -5.7127e-02],\n",
      "          [ 1.3713e-02, -1.9781e-01, -1.4257e-01, -2.2855e-01,  4.7692e-01]],\n",
      "\n",
      "         [[ 8.3642e-02,  1.7028e-02, -1.4390e-01, -1.2698e-01, -1.2357e-01],\n",
      "          [ 2.0302e-01,  1.2497e-01,  4.9104e-02,  1.5877e-01,  2.9001e-03],\n",
      "          [ 4.8387e-02,  2.5510e-01,  9.7617e-02,  2.0968e-01,  1.0748e-01],\n",
      "          [ 3.7132e-02,  5.5730e-02,  9.0055e-02,  6.3533e-02,  8.7728e-02],\n",
      "          [ 2.0802e-01,  1.4505e-01,  8.9498e-02,  2.8970e-03,  1.2825e-01]],\n",
      "\n",
      "         [[-6.8072e-02,  6.9435e-02,  9.0484e-02, -2.1734e-02, -1.0078e-01],\n",
      "          [-1.2757e-01,  1.1511e-01, -7.0850e-02,  6.2102e-02, -3.5092e-02],\n",
      "          [-2.9987e-03, -1.5297e-01,  6.2735e-02,  4.5482e-02, -1.1125e-01],\n",
      "          [ 9.5422e-02,  1.5042e-02,  9.4181e-03,  5.6455e-02, -4.0278e-02],\n",
      "          [ 5.5686e-02, -3.2357e-02, -2.1812e-01, -3.6874e-02,  8.6115e-02]]],\n",
      "\n",
      "\n",
      "        [[[ 5.2404e-02, -6.8880e-02, -3.2842e-02,  3.5462e-03,  2.1792e-01],\n",
      "          [-7.2748e-02,  2.0263e-02, -8.7325e-02,  4.3396e-02, -1.1647e-02],\n",
      "          [ 3.5621e-02,  1.9741e-01, -1.3409e-01, -1.6977e-02, -1.4445e-01],\n",
      "          [ 7.7390e-02,  1.2429e-01,  7.3355e-02, -1.0260e-01,  6.5547e-02],\n",
      "          [ 1.4233e-01,  1.6664e-01,  1.3322e-01, -4.0908e-02, -2.9917e-02]],\n",
      "\n",
      "         [[-8.3569e-03, -3.3172e-01, -2.5918e-01, -1.2678e-01, -3.5415e-01],\n",
      "          [-7.0411e-02, -2.0765e-01, -1.1605e-01,  5.9747e-02,  5.2516e-02],\n",
      "          [ 5.2414e-03, -1.6047e-01,  6.1490e-02,  5.5197e-01,  6.8751e-01],\n",
      "          [-2.6525e-01, -1.5001e-01,  1.2654e-01,  3.7745e-01,  2.4675e-01],\n",
      "          [-3.1493e-02, -8.0101e-02, -3.7960e-01, -3.1583e-01, -1.5195e-01]],\n",
      "\n",
      "         [[-4.9700e-02, -2.2883e-02, -9.8801e-02, -1.0475e-01, -6.5787e-02],\n",
      "          [-7.3748e-02,  1.1168e-01, -3.2919e-02,  3.1852e-03, -9.4818e-02],\n",
      "          [-5.1418e-02, -1.7537e-01, -1.0355e-01, -1.1679e-01,  9.0969e-02],\n",
      "          [-1.8596e-01, -2.1231e-01,  1.5732e-01,  1.5633e-01,  9.2721e-02],\n",
      "          [-4.1668e-02, -1.0198e-02,  6.3496e-02, -2.0925e-02, -8.0228e-02]],\n",
      "\n",
      "         ...,\n",
      "\n",
      "         [[-2.1972e-02, -6.3253e-03, -1.1981e-01,  2.2536e-02, -2.5754e-02],\n",
      "          [ 8.0147e-02, -1.3115e-01, -8.1738e-02, -3.7781e-01, -1.8235e-01],\n",
      "          [-3.7974e-03, -7.3935e-02, -2.7763e-01, -1.2129e-01, -2.1404e-02],\n",
      "          [ 9.2235e-03, -1.2787e-01,  3.5390e-02, -1.9044e-01,  1.0056e-01],\n",
      "          [ 1.7114e-01, -2.5544e-02, -1.4995e-03, -1.4325e-01, -1.4313e-01]],\n",
      "\n",
      "         [[-1.2180e-01,  7.0663e-02,  5.4525e-02,  5.4478e-02, -5.7676e-02],\n",
      "          [ 9.9577e-02,  2.1795e-01,  8.6882e-02, -7.8725e-02, -7.3272e-02],\n",
      "          [-1.2446e-01,  4.6156e-02,  1.0141e-01, -7.0311e-03, -1.8141e-01],\n",
      "          [ 7.8617e-02,  2.8531e-01,  1.9386e-01, -9.6464e-02, -1.0041e-01],\n",
      "          [-1.8727e-01,  4.3112e-02,  1.3460e-01,  9.1704e-02, -2.6791e-02]],\n",
      "\n",
      "         [[-1.2407e-02, -1.9005e-01, -1.9610e-01, -2.8098e-02,  1.5695e-02],\n",
      "          [ 3.3546e-02, -5.0299e-02, -1.2812e-02, -7.7128e-02,  4.8231e-02],\n",
      "          [-1.3130e-02,  1.9734e-03,  2.2430e-01,  2.8941e-01,  8.0160e-02],\n",
      "          [-1.6380e-01,  6.3439e-03, -7.0963e-02, -4.3183e-02,  8.4328e-03],\n",
      "          [ 8.1029e-02, -2.0458e-01, -1.4257e-01, -3.6411e-02, -3.4580e-01]]],\n",
      "\n",
      "\n",
      "        [[[-4.1794e-02,  1.1829e-02, -1.3647e-01, -1.3293e-01, -1.0793e-01],\n",
      "          [ 1.4471e-02, -1.0872e-03, -9.5855e-02, -8.8184e-02, -4.7585e-02],\n",
      "          [ 2.1462e-01, -8.2938e-02, -3.4269e-02, -2.2164e-01, -1.6504e-01],\n",
      "          [-7.3914e-02, -2.2488e-01, -1.2325e-01, -1.2563e-01,  2.5348e-01],\n",
      "          [-9.7065e-02, -1.9149e-01, -1.0266e-01, -2.2134e-01, -1.7082e-01]],\n",
      "\n",
      "         [[-4.0764e-01, -1.6162e-01, -4.8848e-02, -2.4500e-01,  8.8115e-02],\n",
      "          [ 5.9897e-01, -2.6155e-03, -1.4186e-01, -2.6218e-01, -3.1810e-01],\n",
      "          [ 3.8555e-01,  2.5733e-01,  2.1230e-01,  1.0896e-01, -2.9790e-01],\n",
      "          [ 6.6799e-01, -7.0877e-02,  2.0343e-01,  3.4040e-02,  1.1633e-01],\n",
      "          [ 1.0124e-01, -1.9381e-01, -1.1428e-01, -5.5747e-01, -4.6837e-01]],\n",
      "\n",
      "         [[ 1.5941e-01,  7.0870e-02, -2.0953e-01, -2.1162e-02, -4.6067e-02],\n",
      "          [ 3.8403e-02, -6.7988e-02, -7.8796e-02,  4.6033e-02,  1.0126e-01],\n",
      "          [ 1.6707e-01, -2.8704e-01, -4.1256e-02, -2.7190e-01, -9.2845e-04],\n",
      "          [ 2.6355e-01, -6.9032e-03, -2.4676e-01,  1.5545e-02,  2.7728e-01],\n",
      "          [-2.2576e-01, -1.6821e-01, -8.8331e-03, -5.5096e-02,  4.6634e-02]],\n",
      "\n",
      "         ...,\n",
      "\n",
      "         [[-1.3500e-01, -2.3934e-02, -7.6565e-03, -3.4009e-01, -8.7016e-02],\n",
      "          [-4.7344e-02, -1.2196e-01, -1.0751e-01, -1.8067e-01, -8.3059e-02],\n",
      "          [ 1.6888e-01, -1.8708e-01,  7.7363e-02, -2.1984e-01, -1.8325e-01],\n",
      "          [ 4.2028e-01, -2.1180e-01, -1.6606e-01, -1.1369e-01,  7.9625e-03],\n",
      "          [-2.8119e-01,  3.4072e-02, -1.2944e-01, -6.7728e-02,  2.5167e-02]],\n",
      "\n",
      "         [[ 2.3729e-02,  5.5352e-02,  8.0547e-02, -2.9534e-02, -6.9936e-02],\n",
      "          [ 6.7311e-02, -9.1756e-02, -3.1544e-02, -1.1861e-01, -4.4503e-02],\n",
      "          [-1.3252e-01, -1.1798e-02, -6.7973e-02, -8.7164e-02,  4.5960e-02],\n",
      "          [-1.6233e-01,  1.1742e-02, -3.1681e-02,  1.5996e-01, -6.1557e-02],\n",
      "          [ 6.5609e-03, -6.4154e-02, -2.6582e-01,  3.5588e-02,  1.1218e-03]],\n",
      "\n",
      "         [[-2.1270e-01, -9.3193e-02, -8.3202e-03, -7.5063e-02,  3.1269e-01],\n",
      "          [-2.9434e-02, -4.6143e-02,  1.2757e-01,  1.1035e-01, -1.1056e-01],\n",
      "          [ 2.0742e-01, -4.5695e-02,  1.1281e-01,  1.4747e-01,  1.3599e-02],\n",
      "          [ 1.4580e-01, -8.6854e-02, -2.5877e-02, -6.1028e-03,  8.6931e-02],\n",
      "          [-9.3699e-02, -1.9765e-01,  1.1507e-03, -1.5148e-01, -1.9658e-01]]]],\n",
      "       device='cuda:0')\n",
      "tensor([-0.0159, -0.0859, -0.0673, -0.0838,  0.1053, -0.0284, -0.0633, -0.0730,\n",
      "        -0.0850, -0.0478, -0.0789, -0.0392,  0.0582,  0.0384, -0.0609, -0.0582],\n",
      "       device='cuda:0')\n",
      "tensor([0.9946, 1.1030, 0.3823, 0.8877, 1.1930, 0.9409, 1.1273, 1.0703, 1.2547,\n",
      "        0.7454, 0.9981, 0.5360, 1.1338, 1.4115, 0.8411, 0.8759],\n",
      "       device='cuda:0')\n",
      "tensor([-0.3908, -0.7271, -1.4286, -0.7855,  0.3585, -0.4691, -0.6678, -0.6823,\n",
      "        -0.7039, -0.6607, -0.6592, -0.8728, -0.0575, -0.1032, -0.5532, -0.5397],\n"
     ]
    },
    {
     "name": "stdout",
     "output_type": "stream",
     "text": [
      "       device='cuda:0')\n",
      "tensor([[-0.0269,  0.1045,  0.0908,  ...,  0.0043, -0.1425, -0.0141],\n",
      "        [-0.0714,  0.0445, -0.0473,  ..., -0.1166,  0.0773,  0.1320],\n",
      "        [ 0.1316, -0.0893,  0.0092,  ...,  0.1542,  0.0319,  0.0455],\n",
      "        ...,\n",
      "        [-0.0345, -0.0316, -0.0485,  ...,  0.0062, -0.1613,  0.0237],\n",
      "        [ 0.0175, -0.0229, -0.0513,  ..., -0.0488,  0.1204,  0.0116],\n",
      "        [ 0.1386,  0.0885,  0.0395,  ...,  0.0212,  0.0194, -0.0203]],\n",
      "       device='cuda:0')\n",
      "tensor([ 0.0135,  0.0556,  0.4396,  0.0645, -0.4603,  0.0578, -0.1496],\n",
      "       device='cuda:0')\n"
     ]
    }
   ],
   "source": [
    "for param in model.parameters():\n",
    "    print(param.data)"
   ]
  },
  {
   "cell_type": "markdown",
   "metadata": {},
   "source": [
    "# Evaluating the model with the test set:"
   ]
  },
  {
   "cell_type": "code",
   "execution_count": 24,
   "metadata": {},
   "outputs": [],
   "source": [
    "test_accuracy = evaluate(model=model, data_loader=test_loader, device=device)"
   ]
  },
  {
   "cell_type": "code",
   "execution_count": 25,
   "metadata": {},
   "outputs": [
    {
     "name": "stdout",
     "output_type": "stream",
     "text": [
      "Test accuracy: 92.61%\n"
     ]
    }
   ],
   "source": [
    "print(f'Test accuracy: {test_accuracy:.2f}%')"
   ]
  },
  {
   "cell_type": "markdown",
   "metadata": {},
   "source": [
    "# Saving the model:"
   ]
  },
  {
   "cell_type": "markdown",
   "metadata": {},
   "source": [
    "### Creating the path in which the model will be saved:"
   ]
  },
  {
   "cell_type": "code",
   "execution_count": 27,
   "metadata": {},
   "outputs": [],
   "source": [
    "path = os.getcwd()\n",
    "model_name = \"model_92_ac\""
   ]
  },
  {
   "cell_type": "code",
   "execution_count": 28,
   "metadata": {},
   "outputs": [],
   "source": [
    "MODEL_PATH = os.path.join(path, model_name)"
   ]
  },
  {
   "cell_type": "markdown",
   "metadata": {},
   "source": [
    "### Saving the model:"
   ]
  },
  {
   "cell_type": "code",
   "execution_count": 28,
   "metadata": {},
   "outputs": [],
   "source": [
    "# torch.save(model.state_dict(), MODEL_PATH)"
   ]
  },
  {
   "cell_type": "markdown",
   "metadata": {},
   "source": [
    "# Loading the model:"
   ]
  },
  {
   "cell_type": "code",
   "execution_count": 29,
   "metadata": {},
   "outputs": [
    {
     "data": {
      "text/plain": [
       "<All keys matched successfully>"
      ]
     },
     "execution_count": 29,
     "metadata": {},
     "output_type": "execute_result"
    }
   ],
   "source": [
    "model = SkinCancerModel()\n",
    "model.load_state_dict(torch.load(MODEL_PATH))"
   ]
  },
  {
   "cell_type": "code",
   "execution_count": 44,
   "metadata": {},
   "outputs": [],
   "source": [
    "test_accuracy = evaluate(model=model, data_loader=test_loader, device=device)"
   ]
  },
  {
   "cell_type": "code",
   "execution_count": 45,
   "metadata": {},
   "outputs": [
    {
     "name": "stdout",
     "output_type": "stream",
     "text": [
      "Test accuracy: 89.01%\n"
     ]
    }
   ],
   "source": [
    "print(f'Test accuracy: {test_accuracy:.2f}%')"
   ]
  },
  {
   "cell_type": "markdown",
   "metadata": {},
   "source": [
    "# Class Accuracies"
   ]
  },
  {
   "cell_type": "code",
   "execution_count": 35,
   "metadata": {},
   "outputs": [
    {
     "name": "stderr",
     "output_type": "stream",
     "text": [
      "32it [00:05,  6.21it/s]\n"
     ]
    }
   ],
   "source": [
    "nb_classes = 7\n",
    "\n",
    "confusion_matrix = torch.zeros(nb_classes, nb_classes)\n",
    "with torch.no_grad():\n",
    "    for i, (inputs, classes) in tqdm(enumerate(test_loader)):\n",
    "        inputs = inputs.to(device)\n",
    "        classes = classes.to(device)\n",
    "        outputs = model(inputs.float())\n",
    "        _, preds = torch.max(outputs, 1)\n",
    "        for t, p in zip(classes.view(-1), preds.view(-1)):\n",
    "                confusion_matrix[t.long(), p.long()] += 1"
   ]
  },
  {
   "cell_type": "code",
   "execution_count": 37,
   "metadata": {},
   "outputs": [
    {
     "data": {
      "text/plain": [
       "{'akiec': 0.9285714030265808,\n",
       " 'bcc': 0.9487179517745972,\n",
       " 'bkl': 0.9203540086746216,\n",
       " 'df': 1.0,\n",
       " 'mel': 0.9384615421295166,\n",
       " 'nv': 0.8686566948890686,\n",
       " 'vasc': 0.9166666865348816}"
      ]
     },
     "execution_count": 37,
     "metadata": {},
     "output_type": "execute_result"
    }
   ],
   "source": [
    "classes = np.unique(test_set.labels)\n",
    "\n",
    "class_accuracies = confusion_matrix.diag()/confusion_matrix.sum(1)\n",
    "class_acc_dict = dict(zip(classes, class_accuracies.tolist()))\n",
    "class_acc_dict"
   ]
  },
  {
   "cell_type": "code",
   "execution_count": 46,
   "metadata": {},
   "outputs": [
    {
     "data": {
      "image/png": "[encoded data removed]",
      "text/plain": [
       "<Figure size 1200x320 with 1 Axes>"
      ]
     },
     "metadata": {
      "needs_background": "light"
     },
     "output_type": "display_data"
    }
   ],
   "source": [
    "figure(figsize=(15, 4), dpi=80)\n",
    "plt.title('Class accuracies')\n",
    "y = class_accuracies.tolist()\n",
    "x = classes\n",
    "plt.plot(x, y, 'bo-')\n",
    "plt.xticks(x, x, rotation=90)\n",
    "plt.show()"
   ]
  }
 ],
 "metadata": {
  "kernelspec": {
   "display_name": "Python 3",
   "language": "python",
   "name": "python3"
  },
  "language_info": {
   "codemirror_mode": {
    "name": "ipython",
    "version": 3
   },
   "file_extension": ".py",
   "mimetype": "text/x-python",
   "name": "python",
   "nbconvert_exporter": "python",
   "pygments_lexer": "ipython3",
   "version": "3.7.11"
  },
  "vscode": {
   "interpreter": {
    "hash": "10eb846de63666c3d1da1aff7a31c23ecda0022b7e23d8d52b6d5432baf7978e"
   }
  }
 },
 "nbformat": 4,
 "nbformat_minor": 2
}
