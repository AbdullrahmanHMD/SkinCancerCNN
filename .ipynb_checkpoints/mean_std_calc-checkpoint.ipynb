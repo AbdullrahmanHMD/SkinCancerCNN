{
 "cells": [
  {
   "cell_type": "code",
   "execution_count": 5,
   "id": "8b0524f7",
   "metadata": {},
   "outputs": [],
   "source": [
    "import os    \n",
    "os.environ['KMP_DUPLICATE_LIB_OK'] = 'True'"
   ]
  },
  {
   "cell_type": "code",
   "execution_count": 6,
   "id": "c1fcfe93",
   "metadata": {},
   "outputs": [],
   "source": [
    "from moleDataset import *\n",
    "import numpy as np\n",
    "from tqdm import tqdm\n",
    "image_dim = (450, 600)"
   ]
  },
  {
   "cell_type": "code",
   "execution_count": 7,
   "id": "991b6df0",
   "metadata": {},
   "outputs": [],
   "source": [
    "dataset = MoleDataset()"
   ]
  },
  {
   "cell_type": "code",
   "execution_count": 8,
   "id": "4153bfea",
   "metadata": {},
   "outputs": [
    {
     "data": {
      "text/plain": [
       "2704050000"
      ]
     },
     "execution_count": 8,
     "metadata": {},
     "output_type": "execute_result"
    }
   ],
   "source": [
    "pixel_count = len(dataset) * image_dim[0] * image_dim[1]\n",
    "pixel_count"
   ]
  },
  {
   "cell_type": "code",
   "execution_count": 9,
   "id": "63535149",
   "metadata": {},
   "outputs": [
    {
     "name": "stderr",
     "output_type": "stream",
     "text": [
      "100%|██████████| 10015/10015 [03:24<00:00, 48.89it/s]\n"
     ]
    }
   ],
   "source": [
    "pixel_sum = np.array([0.0, 0.0, 0.0])\n",
    "pixel_sum_sq = np.array([0.0, 0.0, 0.0])\n",
    "\n",
    "normalize = lambda a : a * 100 / 255\n",
    "\n",
    "for datum, _, _ in tqdm(dataset):\n",
    "    d = np.array([normalize(im) for im in datum])\n",
    "    pixel_sum += d.sum(axis=(0, 1))\n",
    "    pixel_sum_sq += (d ** 2).sum(axis=(0, 1))"
   ]
  },
  {
   "cell_type": "code",
   "execution_count": 12,
   "id": "1c224d19",
   "metadata": {
    "scrolled": true
   },
   "outputs": [],
   "source": [
    "mean = pixel_sum / pixel_count\n",
    "var = pixel_sum_sq / pixel_count - mean ** 2\n",
    "std = np.sqrt(var)"
   ]
  },
  {
   "cell_type": "code",
   "execution_count": 15,
   "id": "3fb5a120",
   "metadata": {},
   "outputs": [],
   "source": [
    "import json\n",
    "\n",
    "file_name = \"dataset_stats.txt\"\n",
    "file_path = os.path.join(os.getcwd(), file_name)\n",
    "\n",
    "stats = {\"mean\": list(mean),\n",
    "         \"std\": list(std)}\n",
    "\n",
    "with open(file_path, 'w') as file:\n",
    "    file.write(json.dumps(stats))"
   ]
  }
 ],
 "metadata": {
  "kernelspec": {
   "display_name": "Python 3 (ipykernel)",
   "language": "python",
   "name": "python3"
  },
  "language_info": {
   "codemirror_mode": {
    "name": "ipython",
    "version": 3
   },
   "file_extension": ".py",
   "mimetype": "text/x-python",
   "name": "python",
   "nbconvert_exporter": "python",
   "pygments_lexer": "ipython3",
   "version": "3.9.7"
  }
 },
 "nbformat": 4,
 "nbformat_minor": 5
}
